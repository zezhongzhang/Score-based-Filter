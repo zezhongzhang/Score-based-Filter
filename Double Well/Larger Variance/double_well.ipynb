{
 "cells": [
  {
   "cell_type": "code",
   "execution_count": 1,
   "metadata": {
    "pycharm": {
     "name": "#%%\n"
    }
   },
   "outputs": [],
   "source": [
    "import torch\n",
    "import torch.nn as nn\n",
    "import torch.nn.functional as F\n",
    "import numpy as np\n",
    "import functools\n",
    "from torch.optim import Adam\n",
    "import torchvision.transforms as transforms\n",
    "#from torchvision.datasets import MNIST\n",
    "import matplotlib.pyplot as plt\n",
    "import tqdm\n",
    "import copy\n",
    "\n",
    "from torch.utils.data import DataLoader, Dataset\n"
   ]
  },
  {
   "cell_type": "code",
   "execution_count": 2,
   "metadata": {
    "pycharm": {
     "name": "#%%\n"
    }
   },
   "outputs": [],
   "source": [
    "# model\n",
    "# Defining a time-dependent score-based model\n",
    "\n",
    "class GaussianFourierProjection(nn.Module):\n",
    "    \"\"\"Gaussian random features for encoding time steps.\"\"\"\n",
    "    def __init__(self, embed_dim, scale=30.):\n",
    "        super().__init__()\n",
    "        # Randomly sample weights during initialization. These weights are fixed\n",
    "        # during optimization and are not trainable.\n",
    "        self.W = nn.Parameter(torch.randn(embed_dim // 2) * scale, requires_grad=False)\n",
    "    def forward(self, x):\n",
    "        x_proj = x[:, None] * self.W[None, :] * 2 * np.pi\n",
    "        return torch.cat([torch.sin(x_proj), torch.cos(x_proj)], dim=-1)\n",
    "\n",
    "\n",
    "class ScoreNet(nn.Module):\n",
    "    \"\"\"A time-dependent score-based model built upon U-Net architecture.\"\"\"\n",
    "\n",
    "    def __init__(self, marginal_prob_std, x_dim , hidden_depth=2, embed_dim=128, use_bn=True):\n",
    "        \"\"\"Initialize a time-dependent score-based network.\n",
    "\n",
    "        Args:\n",
    "          marginal_prob_std: A function that takes time t and gives the standard\n",
    "            deviation of the perturbation kernel p_{0t}(x(t) | x(0)).\n",
    "          channels: The number of channels for feature maps of each resolution.\n",
    "          embed_dim: The dimensionality of Gaussian random feature embeddings.\n",
    "        \"\"\"\n",
    "        super().__init__()\n",
    "        self.x_dim = x_dim\n",
    "        self.hidden_depth = hidden_depth\n",
    "        self.embed_dim = embed_dim\n",
    "        self.use_bn = use_bn\n",
    "\n",
    "        assert hidden_depth>=1, 'hidden_depth must be greater than 0!'\n",
    "        # Gaussian random feature embedding layer for time\n",
    "        self.embed = nn.Sequential(GaussianFourierProjection(embed_dim=embed_dim),\n",
    "             nn.Linear(embed_dim, embed_dim))\n",
    "\n",
    "        # fc layers\n",
    "        self.input = nn.Linear(x_dim, embed_dim)\n",
    "        self.fc_all = nn.ModuleList([nn.Linear(embed_dim, embed_dim) for i in range(self.hidden_depth)])\n",
    "        self.output = nn.Linear(embed_dim, x_dim)\n",
    "\n",
    "        if self.use_bn:\n",
    "            self.bn = nn.ModuleList([nn.BatchNorm1d(num_features=embed_dim) for i in range(self.hidden_depth)])\n",
    "\n",
    "        # The swish activation function\n",
    "        self.act = lambda x: x * torch.sigmoid(x)\n",
    "        self.marginal_prob_std = marginal_prob_std\n",
    "\n",
    "\n",
    "    def forward(self, x, t):\n",
    "        # Obtain the Gaussian random feature embedding for t\n",
    "        embed = self.act(self.embed(t))\n",
    "\n",
    "        #\n",
    "        h = self.input(x)\n",
    "        # residue connections\n",
    "        for i in range(self.hidden_depth):\n",
    "            h = h + self.act(self.fc_all[i](h)) + embed\n",
    "            if self.use_bn:\n",
    "                h = self.bn[i](h)\n",
    "\n",
    "        h = self.output(h)\n",
    "\n",
    "        # Normalize output\n",
    "        h = h / self.marginal_prob_std(t)[:, None,]\n",
    "        return h\n",
    "\n",
    "\n",
    "# Define the loss function\n",
    "def loss_fn(model, x, marginal_prob_std, eps=1e-5):\n",
    "    \"\"\"The loss function for training score-based generative models.\n",
    "\n",
    "    Args:\n",
    "    model: A PyTorch model instance that represents a\n",
    "      time-dependent score-based model.\n",
    "    x: A mini-batch of training data.\n",
    "    marginal_prob_std: A function that gives the standard deviation of\n",
    "      the perturbation kernel.\n",
    "    eps: A tolerance value for numerical stability.\n",
    "    \"\"\"\n",
    "    random_t = torch.rand(x.shape[0], device=x.device) * (1. - eps) + eps #(eps,1)\n",
    "    z = torch.randn_like(x)\n",
    "    std = marginal_prob_std(random_t)\n",
    "    perturbed_x = x + z * std[:, None]\n",
    "    score = model(perturbed_x, random_t)\n",
    "    loss = torch.mean(torch.sum((score * std[:, None] + z)**2, dim=1))\n",
    "    return loss\n",
    "\n",
    "\n",
    "def marginal_prob_std(t, sigma):\n",
    "    \"\"\"Compute the mean and standard deviation of $p_{0t}(x(t) | x(0))$.\n",
    "\n",
    "    Args:\n",
    "    t: A vector of time steps.\n",
    "    sigma: The $\\sigma$ in our SDE.\n",
    "\n",
    "    Returns:\n",
    "    The standard deviation.\n",
    "    \"\"\"\n",
    "    # t = torch.tensor(t, device=device)\n",
    "    return torch.sqrt((sigma**(2 * t) - 1.) / 2. / np.log(sigma))\n",
    "\n",
    "\n",
    "def diffusion_coeff(t, sigma):\n",
    "    \"\"\"Compute the diffusion coefficient of our SDE.\n",
    "\n",
    "    Args:\n",
    "    t: A vector of time steps.\n",
    "    sigma: The $\\sigma$ in our SDE.\n",
    "\n",
    "    Returns:\n",
    "    The vector of diffusion coefficients.\n",
    "    \"\"\"\n",
    "    # return torch.tensor(sigma**t, device=device)\n",
    "    return sigma**t\n",
    "\n",
    "\n",
    "# data set\n",
    "class MyDataset(Dataset):\n",
    "    def __init__(self, x_train):\n",
    "        super().__init__()\n",
    "        self.x_train = x_train\n",
    "\n",
    "    def __len__(self):\n",
    "        return self.x_train.shape[0]\n",
    "\n",
    "    def __getitem__(self, idx):\n",
    "        return self.x_train[idx]\n",
    "\n",
    "\n",
    "\n",
    "def train_model(score_model, x_sample, lr=1e-4, batch_size=1000, n_epochs=5000, print_interval=100):\n",
    "    dataset = MyDataset(x_sample)\n",
    "    data_loader = DataLoader(dataset, batch_size=batch_size, shuffle=True)\n",
    "\n",
    "    optimizer = Adam(score_model.parameters(), lr=lr)\n",
    "    train_loss = []\n",
    "\n",
    "\n",
    "    for epoch in range(n_epochs):\n",
    "        avg_loss = 0.\n",
    "        num_items = 0\n",
    "        for x in data_loader:\n",
    "            x = x.to(device)\n",
    "            loss = loss_fn(score_model, x, marginal_prob_std_fn)\n",
    "            optimizer.zero_grad()\n",
    "            loss.backward()\n",
    "            optimizer.step()\n",
    "            avg_loss += loss.item() * x.shape[0]\n",
    "            num_items += x.shape[0]\n",
    "        # Print the averaged training loss so far.\n",
    "        epoch_avg_loss = avg_loss / num_items\n",
    "        train_loss.append(epoch_avg_loss)\n",
    "        if epoch%print_interval==0:\n",
    "            print(f'epoch: {epoch}\\t loss: {epoch_avg_loss}')\n",
    "    return train_loss\n",
    "\n",
    "\n",
    "def Euler_Maruyama_sampler(score_prior, marginal_prob_std, diffusion_coeff, score_likelihood=None,\n",
    "                           batch_size=64,num_steps=500,device='cpu',eps=1e-3):\n",
    "    \"\"\"Generate samples from score-based models with the Euler-Maruyama solver.\n",
    "\n",
    "    Args:\n",
    "    score_model: A PyTorch model that represents the time-dependent score-based model.\n",
    "    marginal_prob_std: A function that gives the standard deviation of\n",
    "    the perturbation kernel.\n",
    "    diffusion_coeff: A function that gives the diffusion coefficient of the SDE.\n",
    "    batch_size: The number of samplers to generate by calling this function once.\n",
    "    num_steps: The number of sampling steps.\n",
    "    Equivalent to the number of discretized time steps.\n",
    "    device: 'cuda' for running on GPUs, and 'cpu' for running on CPUs.\n",
    "    eps: The smallest time step for numerical stability.\n",
    "\n",
    "    Returns:\n",
    "    Samples.\n",
    "    \"\"\"\n",
    "    t = torch.ones(batch_size, device=device)\n",
    "    init_x = torch.randn(batch_size, score_prior.x_dim, device=device) \\\n",
    "    * marginal_prob_std(t)[:, None]\n",
    "    time_steps = torch.linspace(1., eps, num_steps, device=device)\n",
    "    step_size = time_steps[0] - time_steps[1]\n",
    "    x = init_x\n",
    "    with torch.no_grad():\n",
    "        for time_step in tqdm.notebook.tqdm(time_steps):\n",
    "            batch_time_step = torch.ones(batch_size, device=device) * time_step\n",
    "            g = diffusion_coeff(batch_time_step)\n",
    "            if score_likelihood is None:\n",
    "                score = score_prior(x, batch_time_step)\n",
    "            else:\n",
    "                score = score_prior(x, batch_time_step) + score_likelihood(x)*torch.relu(1-2*time_step)\n",
    "\n",
    "            # score = torch.clip(score, min=-100, max=100)\n",
    "\n",
    "            score_norm = torch.sqrt(torch.mean(score**2, dim=1))\n",
    "            adj_ratio = torch.ones_like(score_norm)\n",
    "            tol = 50.\n",
    "            adj_ratio[score_norm>tol] = tol/score_norm[score_norm>tol]\n",
    "            # score_norm = torch.clip(score_norm, min=0, max=50)\n",
    "\n",
    "\n",
    "            score = score*adj_ratio[:,None]\n",
    "\n",
    "            # print(time_step, score)\n",
    "\n",
    "            mean_x = x + (g**2)[:, None] * score * step_size\n",
    "            x = mean_x + torch.sqrt(step_size) * g[:, None] * torch.randn_like(x)\n",
    "        # Do not include any noise in the last sampling step.\n",
    "    return mean_x\n"
   ]
  },
  {
   "cell_type": "code",
   "execution_count": 3,
   "metadata": {
    "pycharm": {
     "name": "#%%\n"
    }
   },
   "outputs": [],
   "source": [
    "# diffusion setup\n",
    "device = 'cpu' #@param ['cuda', 'cpu'] {'type':'string'}\n",
    "sigma =  25.0#@param {'type':'number'}\n",
    "marginal_prob_std_fn = functools.partial(marginal_prob_std, sigma=sigma)\n",
    "diffusion_coeff_fn = functools.partial(diffusion_coeff, sigma=sigma)\n"
   ]
  },
  {
   "cell_type": "code",
   "execution_count": 4,
   "metadata": {
    "pycharm": {
     "name": "#%%\n"
    }
   },
   "outputs": [],
   "source": [
    "# define obs system\n",
    "# h(x) = x^3\n",
    "\n",
    "\n",
    "\n",
    "# def likelihood_1d(x, obs, sigma_obs):\n",
    "#     return torch.exp(-0.5*(x**3 - obs)**2/sigma_obs**2)\n",
    "\n",
    "def likelihood_score_1d(x, obs, sigma_obs):\n",
    "    temp1 = -(x - obs)/sigma_obs**2\n",
    "    temp2 = 1\n",
    "    return temp2*temp1\n",
    "\n",
    "\n",
    "# def likelihood(x, obs, sigma_obs):\n",
    "#     l1 = likelihood_1d(x[:,0], obs[0], sigma_obs)\n",
    "#     l2 = likelihood_1d(x[:,1], obs[1], sigma_obs)\n",
    "#     return l1*l2\n",
    "\n",
    "def likelihood_score(x, obs, sigma_obs):\n",
    "    score_d = []\n",
    "    for d in range(num_dim):\n",
    "        score_d.append(likelihood_score_1d(x[:,d], obs[d], sigma_obs))\n",
    "        #score_d[d] = likelihood_score_1d(x[:,d], obs[0], sigma_obs)\n",
    "    \n",
    "    sc = torch.stack(score_d, dim=1)\n",
    "    return sc\n",
    "\n",
    "# def likelihood_score_damp(x, obs, sigma_obs, c=0.01):\n",
    "#     sc1 = likelihood_score_1d(x[:,0], obs[0], sigma_obs)\n",
    "#     sc2 = likelihood_score_1d(x[:,1], obs[1], sigma_obs)\n",
    "#     sc = torch.stack([sc1, sc2], dim=1)\n",
    "#     sc_gauss = -(x)/c\n",
    "\n",
    "    # sc_norm = torch.mean(sc**2, dim=1)\n",
    "    # gauss_norm = torch.mean(sc_gauss**2, dim=1)\n",
    "    # sc[sc_norm > gauss_norm] = sc_gauss[sc_norm > gauss_norm]\n",
    "    # return sc"
   ]
  },
  {
   "cell_type": "markdown",
   "metadata": {
    "pycharm": {
     "name": "#%% md\n"
    }
   },
   "source": [
    "# filtering setup"
   ]
  },
  {
   "cell_type": "code",
   "execution_count": 12,
   "metadata": {
    "pycharm": {
     "name": "#%%\n"
    }
   },
   "outputs": [
    {
     "data": {
      "text/plain": "<Figure size 432x288 with 1 Axes>",
      "image/png": "[encoded data removed]"
     },
     "metadata": {
      "needs_background": "light"
     },
     "output_type": "display_data"
    }
   ],
   "source": [
    "# Problem formulation\n",
    "# state process setup\n",
    "Time = 10.\n",
    "dt = 0.1\n",
    "num_dim = 1\n",
    "X_initial = -1 + torch.randn(1) * 0.02\n",
    "N_T = int(Time//dt+1)\n",
    "t_path = np.linspace(0, Time, N_T)\n",
    "sigma_SDE = 0.3\n",
    "\n",
    "\n",
    "#dt = t_path[1] - t_path[0]\n",
    "\n",
    "\n",
    "X_path = torch.zeros((N_T, num_dim))\n",
    "X_path[0] = X_initial.clone()\n",
    "x_new = X_initial.clone()\n",
    "\n",
    "for i in range(N_T-1):\n",
    "    # Generate true state trajectory\n",
    "    x_old = X_path[i]\n",
    "    \n",
    "    x_new[0] = x_old[0] - 4*x_old[0]*(x_old[0]**2 - 1)*dt + sigma_SDE*np.random.randn(1) * np.sqrt(dt)\n",
    "    \n",
    "    X_path[i+1] = x_new\n",
    "    \n",
    "    if i==20:\n",
    "        X_path[i+1] = -X_path[i+1]\n",
    "    if i==40:\n",
    "        X_path[i+1] = -X_path[i+1]\n",
    "    if i==60:\n",
    "        X_path[i+1] = -X_path[i+1]\n",
    "    if i==80:\n",
    "        X_path[i+1] = -X_path[i+1]\n",
    "\n",
    "# plt.plot(*X_path.T, '.-')\n",
    "# plt.title('state')\n",
    "# plt.show()\n",
    "\n",
    "# get observation\n",
    "sigma_obs = 0.1\n",
    "\n",
    "obs_path_true = X_path\n",
    "obs_path = obs_path_true + np.random.randn(N_T,num_dim)*sigma_obs\n",
    "\n",
    "# plot\n",
    "plt.plot(X_path,'.-',label='state')\n",
    "plt.plot(obs_path,'.-',label='obs')\n",
    "plt.show()"
   ]
  },
  {
   "cell_type": "code",
   "execution_count": 19,
   "metadata": {
    "pycharm": {
     "name": "#%%\n"
    }
   },
   "outputs": [
    {
     "name": "stdout",
     "output_type": "stream",
     "text": [
      "tensor([-0.9761])\n"
     ]
    },
    {
     "name": "stderr",
     "output_type": "stream",
     "text": [
      "C:\\Users\\10576\\AppData\\Local\\Temp\\ipykernel_33200\\341100692.py:2: UserWarning: To copy construct from a tensor, it is recommended to use sourceTensor.clone().detach() or sourceTensor.clone().detach().requires_grad_(True), rather than torch.tensor(sourceTensor).\n",
      "  x0 = torch.tensor(X_initial, dtype=torch.float32, device=device)\n"
     ]
    }
   ],
   "source": [
    "# initial guess\n",
    "x0 = torch.tensor(X_initial, dtype=torch.float32, device=device)\n",
    "sigma0 = 0.2\n",
    "\n",
    "print(X_initial)\n"
   ]
  },
  {
   "cell_type": "code",
   "execution_count": 20,
   "metadata": {
    "pycharm": {
     "name": "#%%\n"
    },
    "scrolled": true
   },
   "outputs": [
    {
     "name": "stdout",
     "output_type": "stream",
     "text": [
      "epoch: 0\t loss: 10.24169921875\n",
      "epoch: 100\t loss: 0.24697886407375336\n",
      "epoch: 200\t loss: 0.23708072304725647\n",
      "epoch: 300\t loss: 0.1968979388475418\n",
      "epoch: 400\t loss: 0.12018808722496033\n",
      "epoch: 500\t loss: 0.11787381768226624\n"
     ]
    }
   ],
   "source": [
    "# Training initialize\n",
    "x_dim = num_dim\n",
    "hidden_depth  = 2\n",
    "embed_dim = 50\n",
    "use_bn = False\n",
    "\n",
    "score_prior_old = ScoreNet(marginal_prob_std=marginal_prob_std_fn, x_dim=x_dim,\n",
    "                           hidden_depth=hidden_depth, embed_dim=embed_dim, use_bn=use_bn)\n",
    "\n",
    "score_prior_new = ScoreNet(marginal_prob_std=marginal_prob_std_fn, x_dim=x_dim,\n",
    "                           hidden_depth=hidden_depth, embed_dim=embed_dim, use_bn=use_bn)\n",
    "\n",
    "score_prior_old = score_prior_old.to(device)\n",
    "score_prior_new = score_prior_new.to(device)\n",
    "\n",
    "# initial samples\n",
    "sample_size = 1000\n",
    "x_init = x0 + torch.randn(sample_size,num_dim, dtype=torch.float32, device=device)*sigma0\n",
    "train_loss = train_model(score_prior_old, x_sample=x_init, batch_size=sample_size, lr=0.005, n_epochs=600, print_interval=100)\n",
    "\n",
    "likelihood_score_fn = None\n",
    "score_prior_new = score_prior_old"
   ]
  },
  {
   "cell_type": "code",
   "execution_count": 21,
   "metadata": {
    "pycharm": {
     "name": "#%%\n"
    }
   },
   "outputs": [
    {
     "name": "stdout",
     "output_type": "stream",
     "text": [
      "0\n"
     ]
    },
    {
     "data": {
      "text/plain": "  0%|          | 0/600 [00:00<?, ?it/s]",
      "application/vnd.jupyter.widget-view+json": {
       "version_major": 2,
       "version_minor": 0,
       "model_id": "a51de892608b4506b69d6a923630b830"
      }
     },
     "metadata": {},
     "output_type": "display_data"
    },
    {
     "name": "stdout",
     "output_type": "stream",
     "text": [
      "est:  [-1.0067397]\n",
      "state:  tensor([-0.9761])\n",
      "epoch: 0\t loss: 0.16854742169380188\n",
      "epoch: 200\t loss: 0.16197845339775085\n",
      "epoch: 400\t loss: 0.14384399354457855\n",
      "1\n"
     ]
    },
    {
     "data": {
      "text/plain": "  0%|          | 0/600 [00:00<?, ?it/s]",
      "application/vnd.jupyter.widget-view+json": {
       "version_major": 2,
       "version_minor": 0,
       "model_id": "5a106417a74d438691f567ff3c694778"
      }
     },
     "metadata": {},
     "output_type": "display_data"
    },
    {
     "name": "stdout",
     "output_type": "stream",
     "text": [
      "est:  [-1.1019939]\n",
      "state:  tensor([-1.0530])\n",
      "epoch: 0\t loss: 0.11627040058374405\n",
      "epoch: 200\t loss: 0.1362123042345047\n",
      "epoch: 400\t loss: 0.14490874111652374\n",
      "2\n"
     ]
    },
    {
     "data": {
      "text/plain": "  0%|          | 0/600 [00:00<?, ?it/s]",
      "application/vnd.jupyter.widget-view+json": {
       "version_major": 2,
       "version_minor": 0,
       "model_id": "cf54d4d69b9f43458284b979c479510c"
      }
     },
     "metadata": {},
     "output_type": "display_data"
    },
    {
     "name": "stdout",
     "output_type": "stream",
     "text": [
      "est:  [-1.2596233]\n",
      "state:  tensor([-1.0986])\n",
      "epoch: 0\t loss: 0.13973702490329742\n",
      "epoch: 200\t loss: 0.14055891335010529\n",
      "epoch: 400\t loss: 0.13224156200885773\n",
      "3\n"
     ]
    },
    {
     "data": {
      "text/plain": "  0%|          | 0/600 [00:00<?, ?it/s]",
      "application/vnd.jupyter.widget-view+json": {
       "version_major": 2,
       "version_minor": 0,
       "model_id": "6b0b6ef1d49845b3a2c77b37e3cc4356"
      }
     },
     "metadata": {},
     "output_type": "display_data"
    },
    {
     "name": "stdout",
     "output_type": "stream",
     "text": [
      "est:  [-1.1571805]\n",
      "state:  tensor([-1.1745])\n",
      "epoch: 0\t loss: 0.12448398023843765\n",
      "epoch: 200\t loss: 0.12887370586395264\n",
      "epoch: 400\t loss: 0.11972954124212265\n",
      "4\n"
     ]
    },
    {
     "data": {
      "text/plain": "  0%|          | 0/600 [00:00<?, ?it/s]",
      "application/vnd.jupyter.widget-view+json": {
       "version_major": 2,
       "version_minor": 0,
       "model_id": "22860743939a4d3497513a6b8665b01c"
      }
     },
     "metadata": {},
     "output_type": "display_data"
    },
    {
     "name": "stdout",
     "output_type": "stream",
     "text": [
      "est:  [-0.84878373]\n",
      "state:  tensor([-0.9026])\n",
      "epoch: 0\t loss: 0.12619882822036743\n",
      "epoch: 200\t loss: 0.13909882307052612\n",
      "epoch: 400\t loss: 0.13799771666526794\n",
      "5\n"
     ]
    },
    {
     "data": {
      "text/plain": "  0%|          | 0/600 [00:00<?, ?it/s]",
      "application/vnd.jupyter.widget-view+json": {
       "version_major": 2,
       "version_minor": 0,
       "model_id": "7b3641270dd248d6bc07a92c2742a4e6"
      }
     },
     "metadata": {},
     "output_type": "display_data"
    },
    {
     "name": "stdout",
     "output_type": "stream",
     "text": [
      "est:  [-0.9909377]\n",
      "state:  tensor([-0.9895])\n",
      "epoch: 0\t loss: 0.13154779374599457\n",
      "epoch: 200\t loss: 0.13906051218509674\n",
      "epoch: 400\t loss: 0.13112692534923553\n",
      "6\n"
     ]
    },
    {
     "data": {
      "text/plain": "  0%|          | 0/600 [00:00<?, ?it/s]",
      "application/vnd.jupyter.widget-view+json": {
       "version_major": 2,
       "version_minor": 0,
       "model_id": "a13a74396ca143a8aa638d7991df9a4c"
      }
     },
     "metadata": {},
     "output_type": "display_data"
    },
    {
     "name": "stdout",
     "output_type": "stream",
     "text": [
      "est:  [-0.90977085]\n",
      "state:  tensor([-0.8862])\n",
      "epoch: 0\t loss: 0.12542074918746948\n",
      "epoch: 200\t loss: 0.1250031590461731\n",
      "epoch: 400\t loss: 0.12266453355550766\n",
      "7\n"
     ]
    },
    {
     "data": {
      "text/plain": "  0%|          | 0/600 [00:00<?, ?it/s]",
      "application/vnd.jupyter.widget-view+json": {
       "version_major": 2,
       "version_minor": 0,
       "model_id": "1f38084bbfe54015aab75cc8fdcf4f05"
      }
     },
     "metadata": {},
     "output_type": "display_data"
    },
    {
     "name": "stdout",
     "output_type": "stream",
     "text": [
      "est:  [-0.7650274]\n",
      "state:  tensor([-0.9282])\n",
      "epoch: 0\t loss: 0.14198248088359833\n",
      "epoch: 200\t loss: 0.10876132547855377\n",
      "epoch: 400\t loss: 0.12769366800785065\n",
      "8\n"
     ]
    },
    {
     "data": {
      "text/plain": "  0%|          | 0/600 [00:00<?, ?it/s]",
      "application/vnd.jupyter.widget-view+json": {
       "version_major": 2,
       "version_minor": 0,
       "model_id": "2c6ba0b9ef58460fae2b230a3ea7eabd"
      }
     },
     "metadata": {},
     "output_type": "display_data"
    },
    {
     "name": "stdout",
     "output_type": "stream",
     "text": [
      "est:  [-1.1397947]\n",
      "state:  tensor([-1.0857])\n",
      "epoch: 0\t loss: 0.1499573141336441\n",
      "epoch: 200\t loss: 0.12490798532962799\n",
      "epoch: 400\t loss: 0.12153983116149902\n",
      "9\n"
     ]
    },
    {
     "data": {
      "text/plain": "  0%|          | 0/600 [00:00<?, ?it/s]",
      "application/vnd.jupyter.widget-view+json": {
       "version_major": 2,
       "version_minor": 0,
       "model_id": "27dff89b8bbf4aab92dee1d1e06fd696"
      }
     },
     "metadata": {},
     "output_type": "display_data"
    },
    {
     "name": "stdout",
     "output_type": "stream",
     "text": [
      "est:  [-0.8053541]\n",
      "state:  tensor([-0.7810])\n",
      "epoch: 0\t loss: 0.13257363438606262\n",
      "epoch: 200\t loss: 0.12873072922229767\n",
      "epoch: 400\t loss: 0.14024116098880768\n",
      "10\n"
     ]
    },
    {
     "data": {
      "text/plain": "  0%|          | 0/600 [00:00<?, ?it/s]",
      "application/vnd.jupyter.widget-view+json": {
       "version_major": 2,
       "version_minor": 0,
       "model_id": "9043a95a036a481998de3eee21e4e691"
      }
     },
     "metadata": {},
     "output_type": "display_data"
    },
    {
     "name": "stdout",
     "output_type": "stream",
     "text": [
      "est:  [-1.1662457]\n",
      "state:  tensor([-1.0918])\n",
      "epoch: 0\t loss: 0.1436464637517929\n",
      "epoch: 200\t loss: 0.12285777926445007\n",
      "epoch: 400\t loss: 0.11796259135007858\n",
      "11\n"
     ]
    },
    {
     "data": {
      "text/plain": "  0%|          | 0/600 [00:00<?, ?it/s]",
      "application/vnd.jupyter.widget-view+json": {
       "version_major": 2,
       "version_minor": 0,
       "model_id": "67eb1ef537bb4fb3862bc808682e3ae0"
      }
     },
     "metadata": {},
     "output_type": "display_data"
    },
    {
     "name": "stdout",
     "output_type": "stream",
     "text": [
      "est:  [-0.8022947]\n",
      "state:  tensor([-0.9784])\n",
      "epoch: 0\t loss: 0.136199951171875\n",
      "epoch: 200\t loss: 0.1275305151939392\n",
      "epoch: 400\t loss: 0.13587823510169983\n",
      "12\n"
     ]
    },
    {
     "data": {
      "text/plain": "  0%|          | 0/600 [00:00<?, ?it/s]",
      "application/vnd.jupyter.widget-view+json": {
       "version_major": 2,
       "version_minor": 0,
       "model_id": "dd1c2aaa5cbb4ea19d29e4adf766d5e0"
      }
     },
     "metadata": {},
     "output_type": "display_data"
    },
    {
     "name": "stdout",
     "output_type": "stream",
     "text": [
      "est:  [-0.87338537]\n",
      "state:  tensor([-0.9604])\n",
      "epoch: 0\t loss: 0.10864993929862976\n",
      "epoch: 200\t loss: 0.11987299472093582\n",
      "epoch: 400\t loss: 0.08953627943992615\n",
      "13\n"
     ]
    },
    {
     "data": {
      "text/plain": "  0%|          | 0/600 [00:00<?, ?it/s]",
      "application/vnd.jupyter.widget-view+json": {
       "version_major": 2,
       "version_minor": 0,
       "model_id": "8a65bced291347b2a791b09897c465ed"
      }
     },
     "metadata": {},
     "output_type": "display_data"
    },
    {
     "name": "stdout",
     "output_type": "stream",
     "text": [
      "est:  [-1.2202413]\n",
      "state:  tensor([-1.1827])\n",
      "epoch: 0\t loss: 0.12899477779865265\n",
      "epoch: 200\t loss: 0.10168448090553284\n",
      "epoch: 400\t loss: 0.14322048425674438\n",
      "14\n"
     ]
    },
    {
     "data": {
      "text/plain": "  0%|          | 0/600 [00:00<?, ?it/s]",
      "application/vnd.jupyter.widget-view+json": {
       "version_major": 2,
       "version_minor": 0,
       "model_id": "543c57c25523483c8a9b116d97ecda28"
      }
     },
     "metadata": {},
     "output_type": "display_data"
    },
    {
     "name": "stdout",
     "output_type": "stream",
     "text": [
      "est:  [-0.81150055]\n",
      "state:  tensor([-0.8436])\n",
      "epoch: 0\t loss: 0.1305840015411377\n",
      "epoch: 200\t loss: 0.11042855679988861\n",
      "epoch: 400\t loss: 0.13154864311218262\n",
      "15\n"
     ]
    },
    {
     "data": {
      "text/plain": "  0%|          | 0/600 [00:00<?, ?it/s]",
      "application/vnd.jupyter.widget-view+json": {
       "version_major": 2,
       "version_minor": 0,
       "model_id": "564d59103db24ccba307a3635d31abab"
      }
     },
     "metadata": {},
     "output_type": "display_data"
    },
    {
     "name": "stdout",
     "output_type": "stream",
     "text": [
      "est:  [-1.0826666]\n",
      "state:  tensor([-1.1773])\n",
      "epoch: 0\t loss: 0.1306181102991104\n",
      "epoch: 200\t loss: 0.13358628749847412\n",
      "epoch: 400\t loss: 0.1298946589231491\n",
      "16\n"
     ]
    },
    {
     "data": {
      "text/plain": "  0%|          | 0/600 [00:00<?, ?it/s]",
      "application/vnd.jupyter.widget-view+json": {
       "version_major": 2,
       "version_minor": 0,
       "model_id": "29865caae4bc4b7fb36225b7275a2604"
      }
     },
     "metadata": {},
     "output_type": "display_data"
    },
    {
     "name": "stdout",
     "output_type": "stream",
     "text": [
      "est:  [-0.9285459]\n",
      "state:  tensor([-0.9327])\n",
      "epoch: 0\t loss: 0.12112035602331161\n",
      "epoch: 200\t loss: 0.12129786610603333\n",
      "epoch: 400\t loss: 0.11933271586894989\n",
      "17\n"
     ]
    },
    {
     "data": {
      "text/plain": "  0%|          | 0/600 [00:00<?, ?it/s]",
      "application/vnd.jupyter.widget-view+json": {
       "version_major": 2,
       "version_minor": 0,
       "model_id": "68fb6c2e51864ea181ffef037c20bacf"
      }
     },
     "metadata": {},
     "output_type": "display_data"
    },
    {
     "name": "stdout",
     "output_type": "stream",
     "text": [
      "est:  [-0.77747643]\n",
      "state:  tensor([-0.8995])\n",
      "epoch: 0\t loss: 0.13736620545387268\n",
      "epoch: 200\t loss: 0.1207197904586792\n",
      "epoch: 400\t loss: 0.11838644742965698\n",
      "18\n"
     ]
    },
    {
     "data": {
      "text/plain": "  0%|          | 0/600 [00:00<?, ?it/s]",
      "application/vnd.jupyter.widget-view+json": {
       "version_major": 2,
       "version_minor": 0,
       "model_id": "765cafebae3f483e92a61f9d0a6abeba"
      }
     },
     "metadata": {},
     "output_type": "display_data"
    },
    {
     "name": "stdout",
     "output_type": "stream",
     "text": [
      "est:  [-0.97510463]\n",
      "state:  tensor([-0.9680])\n",
      "epoch: 0\t loss: 0.14430111646652222\n",
      "epoch: 200\t loss: 0.12361730635166168\n",
      "epoch: 400\t loss: 0.13244055211544037\n",
      "19\n"
     ]
    },
    {
     "data": {
      "text/plain": "  0%|          | 0/600 [00:00<?, ?it/s]",
      "application/vnd.jupyter.widget-view+json": {
       "version_major": 2,
       "version_minor": 0,
       "model_id": "1f7dd50548f84fcc942480f95cfdcdc3"
      }
     },
     "metadata": {},
     "output_type": "display_data"
    },
    {
     "name": "stdout",
     "output_type": "stream",
     "text": [
      "est:  [-0.84386694]\n",
      "state:  tensor([-0.8455])\n",
      "epoch: 0\t loss: 0.1446639597415924\n",
      "epoch: 200\t loss: 0.1194569543004036\n",
      "epoch: 400\t loss: 0.1548435240983963\n",
      "20\n"
     ]
    },
    {
     "data": {
      "text/plain": "  0%|          | 0/600 [00:00<?, ?it/s]",
      "application/vnd.jupyter.widget-view+json": {
       "version_major": 2,
       "version_minor": 0,
       "model_id": "40ca232b9c8e4d718d58cb01fd33b29a"
      }
     },
     "metadata": {},
     "output_type": "display_data"
    },
    {
     "name": "stdout",
     "output_type": "stream",
     "text": [
      "est:  [-0.9067544]\n",
      "state:  tensor([-0.9597])\n",
      "epoch: 0\t loss: 0.11292926222085953\n",
      "epoch: 200\t loss: 0.11858880519866943\n",
      "epoch: 400\t loss: 0.11771879345178604\n",
      "21\n"
     ]
    },
    {
     "data": {
      "text/plain": "  0%|          | 0/600 [00:00<?, ?it/s]",
      "application/vnd.jupyter.widget-view+json": {
       "version_major": 2,
       "version_minor": 0,
       "model_id": "f7cc528746c24466a86e8039ee05dfbe"
      }
     },
     "metadata": {},
     "output_type": "display_data"
    },
    {
     "name": "stdout",
     "output_type": "stream",
     "text": [
      "est:  [0.61102575]\n",
      "state:  tensor([0.9001])\n",
      "epoch: 0\t loss: 1.6441242694854736\n",
      "epoch: 200\t loss: 0.14461643993854523\n",
      "epoch: 400\t loss: 0.12594325840473175\n",
      "22\n"
     ]
    },
    {
     "data": {
      "text/plain": "  0%|          | 0/600 [00:00<?, ?it/s]",
      "application/vnd.jupyter.widget-view+json": {
       "version_major": 2,
       "version_minor": 0,
       "model_id": "c8cf9e9318444cc9ae01105895ea040f"
      }
     },
     "metadata": {},
     "output_type": "display_data"
    },
    {
     "name": "stdout",
     "output_type": "stream",
     "text": [
      "est:  [0.8988586]\n",
      "state:  tensor([0.9661])\n",
      "epoch: 0\t loss: 0.17128664255142212\n",
      "epoch: 200\t loss: 0.15598264336585999\n",
      "epoch: 400\t loss: 0.12610125541687012\n",
      "23\n"
     ]
    },
    {
     "data": {
      "text/plain": "  0%|          | 0/600 [00:00<?, ?it/s]",
      "application/vnd.jupyter.widget-view+json": {
       "version_major": 2,
       "version_minor": 0,
       "model_id": "9c1486e8a925466cabf6a38fd58ad192"
      }
     },
     "metadata": {},
     "output_type": "display_data"
    },
    {
     "name": "stdout",
     "output_type": "stream",
     "text": [
      "est:  [1.115113]\n",
      "state:  tensor([1.1491])\n",
      "epoch: 0\t loss: 0.10588132590055466\n",
      "epoch: 200\t loss: 0.11133962124586105\n",
      "epoch: 400\t loss: 0.12309914827346802\n",
      "24\n"
     ]
    },
    {
     "data": {
      "text/plain": "  0%|          | 0/600 [00:00<?, ?it/s]",
      "application/vnd.jupyter.widget-view+json": {
       "version_major": 2,
       "version_minor": 0,
       "model_id": "ae81d9b98a6b443aa820b10e364fa947"
      }
     },
     "metadata": {},
     "output_type": "display_data"
    },
    {
     "name": "stdout",
     "output_type": "stream",
     "text": [
      "est:  [1.0941365]\n",
      "state:  tensor([1.1242])\n",
      "epoch: 0\t loss: 0.12289413809776306\n",
      "epoch: 200\t loss: 0.1121872141957283\n",
      "epoch: 400\t loss: 0.1252017766237259\n",
      "25\n"
     ]
    },
    {
     "data": {
      "text/plain": "  0%|          | 0/600 [00:00<?, ?it/s]",
      "application/vnd.jupyter.widget-view+json": {
       "version_major": 2,
       "version_minor": 0,
       "model_id": "56a8b2a43b534ebd895055b5b6e6ccad"
      }
     },
     "metadata": {},
     "output_type": "display_data"
    },
    {
     "name": "stdout",
     "output_type": "stream",
     "text": [
      "est:  [1.1267732]\n",
      "state:  tensor([1.0839])\n",
      "epoch: 0\t loss: 0.09900379180908203\n",
      "epoch: 200\t loss: 0.12874937057495117\n",
      "epoch: 400\t loss: 0.10066264867782593\n",
      "26\n"
     ]
    },
    {
     "data": {
      "text/plain": "  0%|          | 0/600 [00:00<?, ?it/s]",
      "application/vnd.jupyter.widget-view+json": {
       "version_major": 2,
       "version_minor": 0,
       "model_id": "1b1309094b154cf2830ecf047ad29dba"
      }
     },
     "metadata": {},
     "output_type": "display_data"
    },
    {
     "name": "stdout",
     "output_type": "stream",
     "text": [
      "est:  [1.247266]\n",
      "state:  tensor([0.8611])\n",
      "epoch: 0\t loss: 0.13185466825962067\n",
      "epoch: 200\t loss: 0.12206470221281052\n",
      "epoch: 400\t loss: 0.1229286715388298\n",
      "27\n"
     ]
    },
    {
     "data": {
      "text/plain": "  0%|          | 0/600 [00:00<?, ?it/s]",
      "application/vnd.jupyter.widget-view+json": {
       "version_major": 2,
       "version_minor": 0,
       "model_id": "123f75d8c28d44dca18a4d2c4d47fc36"
      }
     },
     "metadata": {},
     "output_type": "display_data"
    },
    {
     "name": "stdout",
     "output_type": "stream",
     "text": [
      "est:  [0.93051684]\n",
      "state:  tensor([0.9934])\n",
      "epoch: 0\t loss: 0.11521192640066147\n",
      "epoch: 200\t loss: 0.09072113782167435\n",
      "epoch: 400\t loss: 0.14020998775959015\n",
      "28\n"
     ]
    },
    {
     "data": {
      "text/plain": "  0%|          | 0/600 [00:00<?, ?it/s]",
      "application/vnd.jupyter.widget-view+json": {
       "version_major": 2,
       "version_minor": 0,
       "model_id": "1b15c876ba024836813cc76b2c2854f4"
      }
     },
     "metadata": {},
     "output_type": "display_data"
    },
    {
     "name": "stdout",
     "output_type": "stream",
     "text": [
      "est:  [0.74367803]\n",
      "state:  tensor([0.7678])\n",
      "epoch: 0\t loss: 0.14514988660812378\n",
      "epoch: 200\t loss: 0.14096184074878693\n",
      "epoch: 400\t loss: 0.141677588224411\n",
      "29\n"
     ]
    },
    {
     "data": {
      "text/plain": "  0%|          | 0/600 [00:00<?, ?it/s]",
      "application/vnd.jupyter.widget-view+json": {
       "version_major": 2,
       "version_minor": 0,
       "model_id": "c2ed0967000842c6b1ffe900b8fe64e3"
      }
     },
     "metadata": {},
     "output_type": "display_data"
    },
    {
     "name": "stdout",
     "output_type": "stream",
     "text": [
      "est:  [0.83958757]\n",
      "state:  tensor([0.9925])\n",
      "epoch: 0\t loss: 0.12118734419345856\n",
      "epoch: 200\t loss: 0.11948461830615997\n",
      "epoch: 400\t loss: 0.1307607889175415\n",
      "30\n"
     ]
    },
    {
     "data": {
      "text/plain": "  0%|          | 0/600 [00:00<?, ?it/s]",
      "application/vnd.jupyter.widget-view+json": {
       "version_major": 2,
       "version_minor": 0,
       "model_id": "d4e81ba9652d433792b89d07fa0a2e4a"
      }
     },
     "metadata": {},
     "output_type": "display_data"
    },
    {
     "name": "stdout",
     "output_type": "stream",
     "text": [
      "est:  [1.1830919]\n",
      "state:  tensor([1.0483])\n",
      "epoch: 0\t loss: 0.1248009204864502\n",
      "epoch: 200\t loss: 0.11862633377313614\n",
      "epoch: 400\t loss: 0.12815530598163605\n",
      "31\n"
     ]
    },
    {
     "data": {
      "text/plain": "  0%|          | 0/600 [00:00<?, ?it/s]",
      "application/vnd.jupyter.widget-view+json": {
       "version_major": 2,
       "version_minor": 0,
       "model_id": "83c475a1b9c24711ac994b04add2efe4"
      }
     },
     "metadata": {},
     "output_type": "display_data"
    },
    {
     "name": "stdout",
     "output_type": "stream",
     "text": [
      "est:  [1.0502374]\n",
      "state:  tensor([0.8742])\n",
      "epoch: 0\t loss: 0.1294487565755844\n",
      "epoch: 200\t loss: 0.11010564118623734\n",
      "epoch: 400\t loss: 0.1325339525938034\n",
      "32\n"
     ]
    },
    {
     "data": {
      "text/plain": "  0%|          | 0/600 [00:00<?, ?it/s]",
      "application/vnd.jupyter.widget-view+json": {
       "version_major": 2,
       "version_minor": 0,
       "model_id": "b2653f716852431897ab4710332909b1"
      }
     },
     "metadata": {},
     "output_type": "display_data"
    },
    {
     "name": "stdout",
     "output_type": "stream",
     "text": [
      "est:  [1.029976]\n",
      "state:  tensor([0.9669])\n",
      "epoch: 0\t loss: 0.13079901039600372\n",
      "epoch: 200\t loss: 0.12653090059757233\n",
      "epoch: 400\t loss: 0.13141702115535736\n",
      "33\n"
     ]
    },
    {
     "data": {
      "text/plain": "  0%|          | 0/600 [00:00<?, ?it/s]",
      "application/vnd.jupyter.widget-view+json": {
       "version_major": 2,
       "version_minor": 0,
       "model_id": "0f0104b221f545a48e1f6c4f75af9658"
      }
     },
     "metadata": {},
     "output_type": "display_data"
    },
    {
     "name": "stdout",
     "output_type": "stream",
     "text": [
      "est:  [0.8018815]\n",
      "state:  tensor([0.8179])\n",
      "epoch: 0\t loss: 0.13183359801769257\n",
      "epoch: 200\t loss: 0.11545735597610474\n",
      "epoch: 400\t loss: 0.1223406046628952\n",
      "34\n"
     ]
    },
    {
     "data": {
      "text/plain": "  0%|          | 0/600 [00:00<?, ?it/s]",
      "application/vnd.jupyter.widget-view+json": {
       "version_major": 2,
       "version_minor": 0,
       "model_id": "ec1d57248c8a4a05be5799d08d34ab88"
      }
     },
     "metadata": {},
     "output_type": "display_data"
    },
    {
     "name": "stdout",
     "output_type": "stream",
     "text": [
      "est:  [0.85120034]\n",
      "state:  tensor([0.8447])\n",
      "epoch: 0\t loss: 0.124697744846344\n",
      "epoch: 200\t loss: 0.10599582642316818\n",
      "epoch: 400\t loss: 0.13692699372768402\n",
      "35\n"
     ]
    },
    {
     "data": {
      "text/plain": "  0%|          | 0/600 [00:00<?, ?it/s]",
      "application/vnd.jupyter.widget-view+json": {
       "version_major": 2,
       "version_minor": 0,
       "model_id": "0403522976c44b71ad2ea2a92d5c46f2"
      }
     },
     "metadata": {},
     "output_type": "display_data"
    },
    {
     "name": "stdout",
     "output_type": "stream",
     "text": [
      "est:  [1.0559263]\n",
      "state:  tensor([0.9786])\n",
      "epoch: 0\t loss: 0.12454501539468765\n",
      "epoch: 200\t loss: 0.16014862060546875\n",
      "epoch: 400\t loss: 0.10856039077043533\n",
      "36\n"
     ]
    },
    {
     "data": {
      "text/plain": "  0%|          | 0/600 [00:00<?, ?it/s]",
      "application/vnd.jupyter.widget-view+json": {
       "version_major": 2,
       "version_minor": 0,
       "model_id": "cf1a7ad6d4404a2db410945e3ec7ba19"
      }
     },
     "metadata": {},
     "output_type": "display_data"
    },
    {
     "name": "stdout",
     "output_type": "stream",
     "text": [
      "est:  [1.0651752]\n",
      "state:  tensor([0.9684])\n",
      "epoch: 0\t loss: 0.11937906593084335\n",
      "epoch: 200\t loss: 0.10767032206058502\n",
      "epoch: 400\t loss: 0.1431170254945755\n",
      "37\n"
     ]
    },
    {
     "data": {
      "text/plain": "  0%|          | 0/600 [00:00<?, ?it/s]",
      "application/vnd.jupyter.widget-view+json": {
       "version_major": 2,
       "version_minor": 0,
       "model_id": "1cb1c0e1fc4643f28ced85ebd11682fa"
      }
     },
     "metadata": {},
     "output_type": "display_data"
    },
    {
     "name": "stdout",
     "output_type": "stream",
     "text": [
      "est:  [1.069656]\n",
      "state:  tensor([1.1094])\n",
      "epoch: 0\t loss: 0.12601014971733093\n",
      "epoch: 200\t loss: 0.13499249517917633\n",
      "epoch: 400\t loss: 0.13313469290733337\n",
      "38\n"
     ]
    },
    {
     "data": {
      "text/plain": "  0%|          | 0/600 [00:00<?, ?it/s]",
      "application/vnd.jupyter.widget-view+json": {
       "version_major": 2,
       "version_minor": 0,
       "model_id": "052bf8fa3fb24291a5b41397e82401da"
      }
     },
     "metadata": {},
     "output_type": "display_data"
    },
    {
     "name": "stdout",
     "output_type": "stream",
     "text": [
      "est:  [0.8814349]\n",
      "state:  tensor([1.0346])\n",
      "epoch: 0\t loss: 0.11077355593442917\n",
      "epoch: 200\t loss: 0.12441645562648773\n",
      "epoch: 400\t loss: 0.12180237472057343\n",
      "39\n"
     ]
    },
    {
     "data": {
      "text/plain": "  0%|          | 0/600 [00:00<?, ?it/s]",
      "application/vnd.jupyter.widget-view+json": {
       "version_major": 2,
       "version_minor": 0,
       "model_id": "43aa4415d09947e2ad8f21e6c2f33b4a"
      }
     },
     "metadata": {},
     "output_type": "display_data"
    },
    {
     "name": "stdout",
     "output_type": "stream",
     "text": [
      "est:  [0.94806486]\n",
      "state:  tensor([0.9721])\n",
      "epoch: 0\t loss: 0.12796665728092194\n",
      "epoch: 200\t loss: 0.1341947764158249\n",
      "epoch: 400\t loss: 0.13757731020450592\n",
      "40\n"
     ]
    },
    {
     "data": {
      "text/plain": "  0%|          | 0/600 [00:00<?, ?it/s]",
      "application/vnd.jupyter.widget-view+json": {
       "version_major": 2,
       "version_minor": 0,
       "model_id": "6f3f2b9cc3b245a890f82ce5633bf149"
      }
     },
     "metadata": {},
     "output_type": "display_data"
    },
    {
     "name": "stdout",
     "output_type": "stream",
     "text": [
      "est:  [0.89527804]\n",
      "state:  tensor([0.9561])\n",
      "epoch: 0\t loss: 0.1210913360118866\n",
      "epoch: 200\t loss: 0.1130744144320488\n",
      "epoch: 400\t loss: 0.12583379447460175\n",
      "41\n"
     ]
    },
    {
     "data": {
      "text/plain": "  0%|          | 0/600 [00:00<?, ?it/s]",
      "application/vnd.jupyter.widget-view+json": {
       "version_major": 2,
       "version_minor": 0,
       "model_id": "81fdba11231c4bb18b4f0515c8833f4b"
      }
     },
     "metadata": {},
     "output_type": "display_data"
    },
    {
     "name": "stdout",
     "output_type": "stream",
     "text": [
      "est:  [-0.7443522]\n",
      "state:  tensor([-0.9420])\n",
      "epoch: 0\t loss: 2.444668769836426\n",
      "epoch: 200\t loss: 0.13762658834457397\n",
      "epoch: 400\t loss: 0.14668144285678864\n",
      "42\n"
     ]
    },
    {
     "data": {
      "text/plain": "  0%|          | 0/600 [00:00<?, ?it/s]",
      "application/vnd.jupyter.widget-view+json": {
       "version_major": 2,
       "version_minor": 0,
       "model_id": "a01fc4ec499c4c51b4c22631e551cb1a"
      }
     },
     "metadata": {},
     "output_type": "display_data"
    },
    {
     "name": "stdout",
     "output_type": "stream",
     "text": [
      "est:  [-1.1983591]\n",
      "state:  tensor([-0.9566])\n",
      "epoch: 0\t loss: 0.14222347736358643\n",
      "epoch: 200\t loss: 0.12023001909255981\n",
      "epoch: 400\t loss: 0.12696176767349243\n",
      "43\n"
     ]
    },
    {
     "data": {
      "text/plain": "  0%|          | 0/600 [00:00<?, ?it/s]",
      "application/vnd.jupyter.widget-view+json": {
       "version_major": 2,
       "version_minor": 0,
       "model_id": "9be1cd26e3c0469d8c1580e1b96e50d0"
      }
     },
     "metadata": {},
     "output_type": "display_data"
    },
    {
     "name": "stdout",
     "output_type": "stream",
     "text": [
      "est:  [-1.0637053]\n",
      "state:  tensor([-0.9664])\n",
      "epoch: 0\t loss: 0.11116835474967957\n",
      "epoch: 200\t loss: 0.1277805119752884\n",
      "epoch: 400\t loss: 0.11455417424440384\n",
      "44\n"
     ]
    },
    {
     "data": {
      "text/plain": "  0%|          | 0/600 [00:00<?, ?it/s]",
      "application/vnd.jupyter.widget-view+json": {
       "version_major": 2,
       "version_minor": 0,
       "model_id": "5e57e000d83d4461b42739afb88a8870"
      }
     },
     "metadata": {},
     "output_type": "display_data"
    },
    {
     "name": "stdout",
     "output_type": "stream",
     "text": [
      "est:  [-0.9945884]\n",
      "state:  tensor([-0.9720])\n",
      "epoch: 0\t loss: 0.1177368313074112\n",
      "epoch: 200\t loss: 0.12932667136192322\n",
      "epoch: 400\t loss: 0.11057387292385101\n",
      "45\n"
     ]
    },
    {
     "data": {
      "text/plain": "  0%|          | 0/600 [00:00<?, ?it/s]",
      "application/vnd.jupyter.widget-view+json": {
       "version_major": 2,
       "version_minor": 0,
       "model_id": "911f035dd563492aaefae2a5ee49a775"
      }
     },
     "metadata": {},
     "output_type": "display_data"
    },
    {
     "name": "stdout",
     "output_type": "stream",
     "text": [
      "est:  [-0.75733954]\n",
      "state:  tensor([-0.8833])\n",
      "epoch: 0\t loss: 0.13379625976085663\n",
      "epoch: 200\t loss: 0.12190722674131393\n",
      "epoch: 400\t loss: 0.142508864402771\n",
      "46\n"
     ]
    },
    {
     "data": {
      "text/plain": "  0%|          | 0/600 [00:00<?, ?it/s]",
      "application/vnd.jupyter.widget-view+json": {
       "version_major": 2,
       "version_minor": 0,
       "model_id": "ed7d7e2789574fe291318c684251e489"
      }
     },
     "metadata": {},
     "output_type": "display_data"
    },
    {
     "name": "stdout",
     "output_type": "stream",
     "text": [
      "est:  [-0.9016629]\n",
      "state:  tensor([-0.7734])\n",
      "epoch: 0\t loss: 0.13825586438179016\n",
      "epoch: 200\t loss: 0.11009099334478378\n",
      "epoch: 400\t loss: 0.13515768945217133\n",
      "47\n"
     ]
    },
    {
     "data": {
      "text/plain": "  0%|          | 0/600 [00:00<?, ?it/s]",
      "application/vnd.jupyter.widget-view+json": {
       "version_major": 2,
       "version_minor": 0,
       "model_id": "19d5dcf0c1f64f8cb10a593d3f6c477a"
      }
     },
     "metadata": {},
     "output_type": "display_data"
    },
    {
     "name": "stdout",
     "output_type": "stream",
     "text": [
      "est:  [-0.86575055]\n",
      "state:  tensor([-1.0188])\n",
      "epoch: 0\t loss: 0.11543335020542145\n",
      "epoch: 200\t loss: 0.13325686752796173\n",
      "epoch: 400\t loss: 0.14200106263160706\n",
      "48\n"
     ]
    },
    {
     "data": {
      "text/plain": "  0%|          | 0/600 [00:00<?, ?it/s]",
      "application/vnd.jupyter.widget-view+json": {
       "version_major": 2,
       "version_minor": 0,
       "model_id": "78626ade377f430681a84caa6dcea1ab"
      }
     },
     "metadata": {},
     "output_type": "display_data"
    },
    {
     "name": "stdout",
     "output_type": "stream",
     "text": [
      "est:  [-1.1153694]\n",
      "state:  tensor([-1.0019])\n",
      "epoch: 0\t loss: 0.11197927594184875\n",
      "epoch: 200\t loss: 0.1183726042509079\n",
      "epoch: 400\t loss: 0.10895837098360062\n",
      "49\n"
     ]
    },
    {
     "data": {
      "text/plain": "  0%|          | 0/600 [00:00<?, ?it/s]",
      "application/vnd.jupyter.widget-view+json": {
       "version_major": 2,
       "version_minor": 0,
       "model_id": "0ffccd05207f4e9cb28759e6aa63d267"
      }
     },
     "metadata": {},
     "output_type": "display_data"
    },
    {
     "name": "stdout",
     "output_type": "stream",
     "text": [
      "est:  [-0.79134953]\n",
      "state:  tensor([-0.8741])\n",
      "epoch: 0\t loss: 0.1491306722164154\n",
      "epoch: 200\t loss: 0.11828973144292831\n",
      "epoch: 400\t loss: 0.1318947821855545\n",
      "50\n"
     ]
    },
    {
     "data": {
      "text/plain": "  0%|          | 0/600 [00:00<?, ?it/s]",
      "application/vnd.jupyter.widget-view+json": {
       "version_major": 2,
       "version_minor": 0,
       "model_id": "0d9bb516733044f8a02d4bc9f170ff04"
      }
     },
     "metadata": {},
     "output_type": "display_data"
    },
    {
     "name": "stdout",
     "output_type": "stream",
     "text": [
      "est:  [-1.1071969]\n",
      "state:  tensor([-0.9517])\n",
      "epoch: 0\t loss: 0.11806606501340866\n",
      "epoch: 200\t loss: 0.12306248396635056\n",
      "epoch: 400\t loss: 0.12943129241466522\n",
      "51\n"
     ]
    },
    {
     "data": {
      "text/plain": "  0%|          | 0/600 [00:00<?, ?it/s]",
      "application/vnd.jupyter.widget-view+json": {
       "version_major": 2,
       "version_minor": 0,
       "model_id": "7440fef2e02749b19cea5e36d2018c9a"
      }
     },
     "metadata": {},
     "output_type": "display_data"
    },
    {
     "name": "stdout",
     "output_type": "stream",
     "text": [
      "est:  [-0.9638122]\n",
      "state:  tensor([-0.9419])\n",
      "epoch: 0\t loss: 0.12365654110908508\n",
      "epoch: 200\t loss: 0.152999609708786\n",
      "epoch: 400\t loss: 0.1307191401720047\n",
      "52\n"
     ]
    },
    {
     "data": {
      "text/plain": "  0%|          | 0/600 [00:00<?, ?it/s]",
      "application/vnd.jupyter.widget-view+json": {
       "version_major": 2,
       "version_minor": 0,
       "model_id": "a6eb52faac1442fe9d731718d588a836"
      }
     },
     "metadata": {},
     "output_type": "display_data"
    },
    {
     "name": "stdout",
     "output_type": "stream",
     "text": [
      "est:  [-0.6049729]\n",
      "state:  tensor([-0.7648])\n",
      "epoch: 0\t loss: 0.16820210218429565\n",
      "epoch: 200\t loss: 0.11379268020391464\n",
      "epoch: 400\t loss: 0.13115337491035461\n",
      "53\n"
     ]
    },
    {
     "data": {
      "text/plain": "  0%|          | 0/600 [00:00<?, ?it/s]",
      "application/vnd.jupyter.widget-view+json": {
       "version_major": 2,
       "version_minor": 0,
       "model_id": "0b5139d90c3147b0a0570945b8929737"
      }
     },
     "metadata": {},
     "output_type": "display_data"
    },
    {
     "name": "stdout",
     "output_type": "stream",
     "text": [
      "est:  [-0.91657495]\n",
      "state:  tensor([-0.8581])\n",
      "epoch: 0\t loss: 0.18767280876636505\n",
      "epoch: 200\t loss: 0.1275498867034912\n",
      "epoch: 400\t loss: 0.12754444777965546\n",
      "54\n"
     ]
    },
    {
     "data": {
      "text/plain": "  0%|          | 0/600 [00:00<?, ?it/s]",
      "application/vnd.jupyter.widget-view+json": {
       "version_major": 2,
       "version_minor": 0,
       "model_id": "3b0fbde945fc4844a672c984f930b9fd"
      }
     },
     "metadata": {},
     "output_type": "display_data"
    },
    {
     "name": "stdout",
     "output_type": "stream",
     "text": [
      "est:  [-1.0368938]\n",
      "state:  tensor([-0.9065])\n",
      "epoch: 0\t loss: 0.12095130234956741\n",
      "epoch: 200\t loss: 0.11190406233072281\n",
      "epoch: 400\t loss: 0.11449131369590759\n",
      "55\n"
     ]
    },
    {
     "data": {
      "text/plain": "  0%|          | 0/600 [00:00<?, ?it/s]",
      "application/vnd.jupyter.widget-view+json": {
       "version_major": 2,
       "version_minor": 0,
       "model_id": "5f876ff2e8294d2194c3f23d19fd269a"
      }
     },
     "metadata": {},
     "output_type": "display_data"
    },
    {
     "name": "stdout",
     "output_type": "stream",
     "text": [
      "est:  [-1.0794946]\n",
      "state:  tensor([-1.0933])\n",
      "epoch: 0\t loss: 0.12784866988658905\n",
      "epoch: 200\t loss: 0.13776487112045288\n",
      "epoch: 400\t loss: 0.11815084517002106\n",
      "56\n"
     ]
    },
    {
     "data": {
      "text/plain": "  0%|          | 0/600 [00:00<?, ?it/s]",
      "application/vnd.jupyter.widget-view+json": {
       "version_major": 2,
       "version_minor": 0,
       "model_id": "d456117ef3184a909b0a9a68bea39ceb"
      }
     },
     "metadata": {},
     "output_type": "display_data"
    },
    {
     "name": "stdout",
     "output_type": "stream",
     "text": [
      "est:  [-1.0899136]\n",
      "state:  tensor([-1.0346])\n",
      "epoch: 0\t loss: 0.11955169588327408\n",
      "epoch: 200\t loss: 0.12448830902576447\n",
      "epoch: 400\t loss: 0.1360602229833603\n",
      "57\n"
     ]
    },
    {
     "data": {
      "text/plain": "  0%|          | 0/600 [00:00<?, ?it/s]",
      "application/vnd.jupyter.widget-view+json": {
       "version_major": 2,
       "version_minor": 0,
       "model_id": "9d7b0e7620ff47249339e6b3d57d51ec"
      }
     },
     "metadata": {},
     "output_type": "display_data"
    },
    {
     "name": "stdout",
     "output_type": "stream",
     "text": [
      "est:  [-1.1480496]\n",
      "state:  tensor([-0.9738])\n",
      "epoch: 0\t loss: 0.18954986333847046\n",
      "epoch: 200\t loss: 0.15740981698036194\n",
      "epoch: 400\t loss: 0.11283371597528458\n",
      "58\n"
     ]
    },
    {
     "data": {
      "text/plain": "  0%|          | 0/600 [00:00<?, ?it/s]",
      "application/vnd.jupyter.widget-view+json": {
       "version_major": 2,
       "version_minor": 0,
       "model_id": "1c5e1bb48c0546f7b026e0fd529e290a"
      }
     },
     "metadata": {},
     "output_type": "display_data"
    },
    {
     "name": "stdout",
     "output_type": "stream",
     "text": [
      "est:  [-1.1957356]\n",
      "state:  tensor([-1.0917])\n",
      "epoch: 0\t loss: 0.11733386665582657\n",
      "epoch: 200\t loss: 0.133161723613739\n",
      "epoch: 400\t loss: 0.10756325721740723\n",
      "59\n"
     ]
    },
    {
     "data": {
      "text/plain": "  0%|          | 0/600 [00:00<?, ?it/s]",
      "application/vnd.jupyter.widget-view+json": {
       "version_major": 2,
       "version_minor": 0,
       "model_id": "b380f82b2b4645cba3759cb83db5c6c0"
      }
     },
     "metadata": {},
     "output_type": "display_data"
    },
    {
     "name": "stdout",
     "output_type": "stream",
     "text": [
      "est:  [-1.0628823]\n",
      "state:  tensor([-1.0489])\n",
      "epoch: 0\t loss: 0.1463051438331604\n",
      "epoch: 200\t loss: 0.1193782389163971\n",
      "epoch: 400\t loss: 0.12997955083847046\n",
      "60\n"
     ]
    },
    {
     "data": {
      "text/plain": "  0%|          | 0/600 [00:00<?, ?it/s]",
      "application/vnd.jupyter.widget-view+json": {
       "version_major": 2,
       "version_minor": 0,
       "model_id": "84778dc5269e43199a9b4306f6103879"
      }
     },
     "metadata": {},
     "output_type": "display_data"
    },
    {
     "name": "stdout",
     "output_type": "stream",
     "text": [
      "est:  [-0.97347116]\n",
      "state:  tensor([-0.9616])\n",
      "epoch: 0\t loss: 0.12747041881084442\n",
      "epoch: 200\t loss: 0.1311700940132141\n",
      "epoch: 400\t loss: 0.1505649983882904\n",
      "61\n"
     ]
    },
    {
     "data": {
      "text/plain": "  0%|          | 0/600 [00:00<?, ?it/s]",
      "application/vnd.jupyter.widget-view+json": {
       "version_major": 2,
       "version_minor": 0,
       "model_id": "1a0b1fb7502a4f2682639d8ea5c4ae21"
      }
     },
     "metadata": {},
     "output_type": "display_data"
    },
    {
     "name": "stdout",
     "output_type": "stream",
     "text": [
      "est:  [0.6341123]\n",
      "state:  tensor([0.9657])\n",
      "epoch: 0\t loss: 2.075038194656372\n",
      "epoch: 200\t loss: 0.12417824566364288\n",
      "epoch: 400\t loss: 0.1217900812625885\n",
      "62\n"
     ]
    },
    {
     "data": {
      "text/plain": "  0%|          | 0/600 [00:00<?, ?it/s]",
      "application/vnd.jupyter.widget-view+json": {
       "version_major": 2,
       "version_minor": 0,
       "model_id": "8f6c3f27b8fd40c98b9aef3a46861add"
      }
     },
     "metadata": {},
     "output_type": "display_data"
    },
    {
     "name": "stdout",
     "output_type": "stream",
     "text": [
      "est:  [1.2921207]\n",
      "state:  tensor([1.2132])\n",
      "epoch: 0\t loss: 0.12740975618362427\n",
      "epoch: 200\t loss: 0.12105513364076614\n",
      "epoch: 400\t loss: 0.13368350267410278\n",
      "63\n"
     ]
    },
    {
     "data": {
      "text/plain": "  0%|          | 0/600 [00:00<?, ?it/s]",
      "application/vnd.jupyter.widget-view+json": {
       "version_major": 2,
       "version_minor": 0,
       "model_id": "d4ed7dc34e6d4679921d7bf29c478789"
      }
     },
     "metadata": {},
     "output_type": "display_data"
    },
    {
     "name": "stdout",
     "output_type": "stream",
     "text": [
      "est:  [0.9077598]\n",
      "state:  tensor([0.9662])\n",
      "epoch: 0\t loss: 0.12366969883441925\n",
      "epoch: 200\t loss: 0.1134600043296814\n",
      "epoch: 400\t loss: 0.11277693510055542\n",
      "64\n"
     ]
    },
    {
     "data": {
      "text/plain": "  0%|          | 0/600 [00:00<?, ?it/s]",
      "application/vnd.jupyter.widget-view+json": {
       "version_major": 2,
       "version_minor": 0,
       "model_id": "3d2feb2eb80f4be593e95121cfcdd27b"
      }
     },
     "metadata": {},
     "output_type": "display_data"
    },
    {
     "name": "stdout",
     "output_type": "stream",
     "text": [
      "est:  [0.84882313]\n",
      "state:  tensor([0.9117])\n",
      "epoch: 0\t loss: 0.1379992961883545\n",
      "epoch: 200\t loss: 0.13506609201431274\n",
      "epoch: 400\t loss: 0.1458006203174591\n",
      "65\n"
     ]
    },
    {
     "data": {
      "text/plain": "  0%|          | 0/600 [00:00<?, ?it/s]",
      "application/vnd.jupyter.widget-view+json": {
       "version_major": 2,
       "version_minor": 0,
       "model_id": "1cab2ec294f04bbe8e74f0cb8ccde966"
      }
     },
     "metadata": {},
     "output_type": "display_data"
    },
    {
     "name": "stdout",
     "output_type": "stream",
     "text": [
      "est:  [0.8740063]\n",
      "state:  tensor([0.8861])\n",
      "epoch: 0\t loss: 0.11796900629997253\n",
      "epoch: 200\t loss: 0.12528587877750397\n",
      "epoch: 400\t loss: 0.11451070755720139\n",
      "66\n"
     ]
    },
    {
     "data": {
      "text/plain": "  0%|          | 0/600 [00:00<?, ?it/s]",
      "application/vnd.jupyter.widget-view+json": {
       "version_major": 2,
       "version_minor": 0,
       "model_id": "31e28ab1bd234cd0b651c795a1e6b71b"
      }
     },
     "metadata": {},
     "output_type": "display_data"
    },
    {
     "name": "stdout",
     "output_type": "stream",
     "text": [
      "est:  [1.161035]\n",
      "state:  tensor([1.0610])\n",
      "epoch: 0\t loss: 0.14873634278774261\n",
      "epoch: 200\t loss: 0.11742538958787918\n",
      "epoch: 400\t loss: 0.14232367277145386\n",
      "67\n"
     ]
    },
    {
     "data": {
      "text/plain": "  0%|          | 0/600 [00:00<?, ?it/s]",
      "application/vnd.jupyter.widget-view+json": {
       "version_major": 2,
       "version_minor": 0,
       "model_id": "1d0c25b4db8c411b97ce1859cf8b8c49"
      }
     },
     "metadata": {},
     "output_type": "display_data"
    },
    {
     "name": "stdout",
     "output_type": "stream",
     "text": [
      "est:  [0.7985903]\n",
      "state:  tensor([1.0565])\n",
      "epoch: 0\t loss: 0.12766951322555542\n",
      "epoch: 200\t loss: 0.13755403459072113\n",
      "epoch: 400\t loss: 0.12917649745941162\n",
      "68\n"
     ]
    },
    {
     "data": {
      "text/plain": "  0%|          | 0/600 [00:00<?, ?it/s]",
      "application/vnd.jupyter.widget-view+json": {
       "version_major": 2,
       "version_minor": 0,
       "model_id": "b68d6f759a084247ad851f7d6550a4d5"
      }
     },
     "metadata": {},
     "output_type": "display_data"
    },
    {
     "name": "stdout",
     "output_type": "stream",
     "text": [
      "est:  [1.1457021]\n",
      "state:  tensor([1.0744])\n",
      "epoch: 0\t loss: 0.1464853137731552\n",
      "epoch: 200\t loss: 0.12874113023281097\n",
      "epoch: 400\t loss: 0.13454867899417877\n",
      "69\n"
     ]
    },
    {
     "data": {
      "text/plain": "  0%|          | 0/600 [00:00<?, ?it/s]",
      "application/vnd.jupyter.widget-view+json": {
       "version_major": 2,
       "version_minor": 0,
       "model_id": "ddb0fd3a95ec45ac937264ee911b7d4e"
      }
     },
     "metadata": {},
     "output_type": "display_data"
    },
    {
     "name": "stdout",
     "output_type": "stream",
     "text": [
      "est:  [1.2973726]\n",
      "state:  tensor([1.1353])\n",
      "epoch: 0\t loss: 0.13119801878929138\n",
      "epoch: 200\t loss: 0.1369829773902893\n",
      "epoch: 400\t loss: 0.11176234483718872\n",
      "70\n"
     ]
    },
    {
     "data": {
      "text/plain": "  0%|          | 0/600 [00:00<?, ?it/s]",
      "application/vnd.jupyter.widget-view+json": {
       "version_major": 2,
       "version_minor": 0,
       "model_id": "986ada4c24b347ea95389b721b2c0ddf"
      }
     },
     "metadata": {},
     "output_type": "display_data"
    },
    {
     "name": "stdout",
     "output_type": "stream",
     "text": [
      "est:  [0.9140559]\n",
      "state:  tensor([0.9477])\n",
      "epoch: 0\t loss: 0.1293942779302597\n",
      "epoch: 200\t loss: 0.1175895407795906\n",
      "epoch: 400\t loss: 0.12984293699264526\n",
      "71\n"
     ]
    },
    {
     "data": {
      "text/plain": "  0%|          | 0/600 [00:00<?, ?it/s]",
      "application/vnd.jupyter.widget-view+json": {
       "version_major": 2,
       "version_minor": 0,
       "model_id": "757624d258624e579dd10161dd297381"
      }
     },
     "metadata": {},
     "output_type": "display_data"
    },
    {
     "name": "stdout",
     "output_type": "stream",
     "text": [
      "est:  [0.9295582]\n",
      "state:  tensor([0.9831])\n",
      "epoch: 0\t loss: 0.12730178236961365\n",
      "epoch: 200\t loss: 0.1327389031648636\n",
      "epoch: 400\t loss: 0.15573462843894958\n",
      "72\n"
     ]
    },
    {
     "data": {
      "text/plain": "  0%|          | 0/600 [00:00<?, ?it/s]",
      "application/vnd.jupyter.widget-view+json": {
       "version_major": 2,
       "version_minor": 0,
       "model_id": "3d7c855597894e4780890dbd97deb7ec"
      }
     },
     "metadata": {},
     "output_type": "display_data"
    },
    {
     "name": "stdout",
     "output_type": "stream",
     "text": [
      "est:  [1.0973376]\n",
      "state:  tensor([1.1320])\n",
      "epoch: 0\t loss: 0.10498437285423279\n",
      "epoch: 200\t loss: 0.11350838840007782\n",
      "epoch: 400\t loss: 0.10467339307069778\n",
      "73\n"
     ]
    },
    {
     "data": {
      "text/plain": "  0%|          | 0/600 [00:00<?, ?it/s]",
      "application/vnd.jupyter.widget-view+json": {
       "version_major": 2,
       "version_minor": 0,
       "model_id": "a411f28b0a4c4d5ab507e081f20748bd"
      }
     },
     "metadata": {},
     "output_type": "display_data"
    },
    {
     "name": "stdout",
     "output_type": "stream",
     "text": [
      "est:  [0.95096266]\n",
      "state:  tensor([1.0324])\n",
      "epoch: 0\t loss: 0.10512786358594894\n",
      "epoch: 200\t loss: 0.12312852591276169\n",
      "epoch: 400\t loss: 0.11293694376945496\n",
      "74\n"
     ]
    },
    {
     "data": {
      "text/plain": "  0%|          | 0/600 [00:00<?, ?it/s]",
      "application/vnd.jupyter.widget-view+json": {
       "version_major": 2,
       "version_minor": 0,
       "model_id": "613c0d5efb514ad0a6fedd6ee06d4925"
      }
     },
     "metadata": {},
     "output_type": "display_data"
    },
    {
     "name": "stdout",
     "output_type": "stream",
     "text": [
      "est:  [1.0796022]\n",
      "state:  tensor([1.0922])\n",
      "epoch: 0\t loss: 0.12121984362602234\n",
      "epoch: 200\t loss: 0.10800033807754517\n",
      "epoch: 400\t loss: 0.12775340676307678\n",
      "75\n"
     ]
    },
    {
     "data": {
      "text/plain": "  0%|          | 0/600 [00:00<?, ?it/s]",
      "application/vnd.jupyter.widget-view+json": {
       "version_major": 2,
       "version_minor": 0,
       "model_id": "ad458c4e99fa4bb79ef17a9aeb766104"
      }
     },
     "metadata": {},
     "output_type": "display_data"
    },
    {
     "name": "stdout",
     "output_type": "stream",
     "text": [
      "est:  [0.98910475]\n",
      "state:  tensor([0.9431])\n",
      "epoch: 0\t loss: 0.1548757255077362\n",
      "epoch: 200\t loss: 0.1261863261461258\n",
      "epoch: 400\t loss: 0.12343298643827438\n",
      "76\n"
     ]
    },
    {
     "data": {
      "text/plain": "  0%|          | 0/600 [00:00<?, ?it/s]",
      "application/vnd.jupyter.widget-view+json": {
       "version_major": 2,
       "version_minor": 0,
       "model_id": "0a4cc0edbfc64b0eb1c1f9d86f829965"
      }
     },
     "metadata": {},
     "output_type": "display_data"
    },
    {
     "name": "stdout",
     "output_type": "stream",
     "text": [
      "est:  [0.91374636]\n",
      "state:  tensor([0.8386])\n",
      "epoch: 0\t loss: 0.13911615312099457\n",
      "epoch: 200\t loss: 0.1394062042236328\n",
      "epoch: 400\t loss: 0.1328933984041214\n",
      "77\n"
     ]
    },
    {
     "data": {
      "text/plain": "  0%|          | 0/600 [00:00<?, ?it/s]",
      "application/vnd.jupyter.widget-view+json": {
       "version_major": 2,
       "version_minor": 0,
       "model_id": "e95dd277fe3a4be4ad1bad111665974a"
      }
     },
     "metadata": {},
     "output_type": "display_data"
    },
    {
     "name": "stdout",
     "output_type": "stream",
     "text": [
      "est:  [0.8964778]\n",
      "state:  tensor([1.0167])\n",
      "epoch: 0\t loss: 0.15168826282024384\n",
      "epoch: 200\t loss: 0.11030364781618118\n",
      "epoch: 400\t loss: 0.1249675303697586\n",
      "78\n"
     ]
    },
    {
     "data": {
      "text/plain": "  0%|          | 0/600 [00:00<?, ?it/s]",
      "application/vnd.jupyter.widget-view+json": {
       "version_major": 2,
       "version_minor": 0,
       "model_id": "e49a56ea83e249cfaec38894f124b126"
      }
     },
     "metadata": {},
     "output_type": "display_data"
    },
    {
     "name": "stdout",
     "output_type": "stream",
     "text": [
      "est:  [1.093898]\n",
      "state:  tensor([0.9772])\n",
      "epoch: 0\t loss: 0.1265104115009308\n",
      "epoch: 200\t loss: 0.12014564871788025\n",
      "epoch: 400\t loss: 0.13101913034915924\n",
      "79\n"
     ]
    },
    {
     "data": {
      "text/plain": "  0%|          | 0/600 [00:00<?, ?it/s]",
      "application/vnd.jupyter.widget-view+json": {
       "version_major": 2,
       "version_minor": 0,
       "model_id": "16760792f09f4acaaa3f6ba6f13bcc83"
      }
     },
     "metadata": {},
     "output_type": "display_data"
    },
    {
     "name": "stdout",
     "output_type": "stream",
     "text": [
      "est:  [1.038386]\n",
      "state:  tensor([0.9114])\n",
      "epoch: 0\t loss: 0.12461261451244354\n",
      "epoch: 200\t loss: 0.1253920942544937\n",
      "epoch: 400\t loss: 0.10835956037044525\n",
      "80\n"
     ]
    },
    {
     "data": {
      "text/plain": "  0%|          | 0/600 [00:00<?, ?it/s]",
      "application/vnd.jupyter.widget-view+json": {
       "version_major": 2,
       "version_minor": 0,
       "model_id": "81884216bf864c71b9b3afcd28ecc9e4"
      }
     },
     "metadata": {},
     "output_type": "display_data"
    },
    {
     "name": "stdout",
     "output_type": "stream",
     "text": [
      "est:  [0.81728715]\n",
      "state:  tensor([0.8829])\n",
      "epoch: 0\t loss: 0.10370679944753647\n",
      "epoch: 200\t loss: 0.11840332299470901\n",
      "epoch: 400\t loss: 0.1284072995185852\n",
      "81\n"
     ]
    },
    {
     "data": {
      "text/plain": "  0%|          | 0/600 [00:00<?, ?it/s]",
      "application/vnd.jupyter.widget-view+json": {
       "version_major": 2,
       "version_minor": 0,
       "model_id": "e0fa344d5a95475698c9d6546f5a40d2"
      }
     },
     "metadata": {},
     "output_type": "display_data"
    },
    {
     "name": "stdout",
     "output_type": "stream",
     "text": [
      "est:  [-0.5524757]\n",
      "state:  tensor([-0.8821])\n",
      "epoch: 0\t loss: 1.8422058820724487\n",
      "epoch: 200\t loss: 0.11529826372861862\n",
      "epoch: 400\t loss: 0.1408989280462265\n",
      "82\n"
     ]
    },
    {
     "data": {
      "text/plain": "  0%|          | 0/600 [00:00<?, ?it/s]",
      "application/vnd.jupyter.widget-view+json": {
       "version_major": 2,
       "version_minor": 0,
       "model_id": "4efa7f35a50e43a1bd18ba4ec1527ea3"
      }
     },
     "metadata": {},
     "output_type": "display_data"
    },
    {
     "name": "stdout",
     "output_type": "stream",
     "text": [
      "est:  [-1.0563616]\n",
      "state:  tensor([-0.9583])\n",
      "epoch: 0\t loss: 0.1864091157913208\n",
      "epoch: 200\t loss: 0.11879175901412964\n",
      "epoch: 400\t loss: 0.14408455789089203\n",
      "83\n"
     ]
    },
    {
     "data": {
      "text/plain": "  0%|          | 0/600 [00:00<?, ?it/s]",
      "application/vnd.jupyter.widget-view+json": {
       "version_major": 2,
       "version_minor": 0,
       "model_id": "00cb0bc22f844ecea494b24c07397f60"
      }
     },
     "metadata": {},
     "output_type": "display_data"
    },
    {
     "name": "stdout",
     "output_type": "stream",
     "text": [
      "est:  [-0.84788775]\n",
      "state:  tensor([-0.7757])\n",
      "epoch: 0\t loss: 0.11902549862861633\n",
      "epoch: 200\t loss: 0.11609892547130585\n",
      "epoch: 400\t loss: 0.11375262588262558\n",
      "84\n"
     ]
    },
    {
     "data": {
      "text/plain": "  0%|          | 0/600 [00:00<?, ?it/s]",
      "application/vnd.jupyter.widget-view+json": {
       "version_major": 2,
       "version_minor": 0,
       "model_id": "1b1fc752452342c9b3872a59b60e04fe"
      }
     },
     "metadata": {},
     "output_type": "display_data"
    },
    {
     "name": "stdout",
     "output_type": "stream",
     "text": [
      "est:  [-0.9721954]\n",
      "state:  tensor([-0.9903])\n",
      "epoch: 0\t loss: 0.11912738531827927\n",
      "epoch: 200\t loss: 0.13495978713035583\n",
      "epoch: 400\t loss: 0.11059070378541946\n",
      "85\n"
     ]
    },
    {
     "data": {
      "text/plain": "  0%|          | 0/600 [00:00<?, ?it/s]",
      "application/vnd.jupyter.widget-view+json": {
       "version_major": 2,
       "version_minor": 0,
       "model_id": "24b2f7bfee42481f92b974222fb4aa0b"
      }
     },
     "metadata": {},
     "output_type": "display_data"
    },
    {
     "name": "stdout",
     "output_type": "stream",
     "text": [
      "est:  [-0.7996475]\n",
      "state:  tensor([-0.8936])\n",
      "epoch: 0\t loss: 0.1594746708869934\n",
      "epoch: 200\t loss: 0.1207909807562828\n",
      "epoch: 400\t loss: 0.10249701142311096\n",
      "86\n"
     ]
    },
    {
     "data": {
      "text/plain": "  0%|          | 0/600 [00:00<?, ?it/s]",
      "application/vnd.jupyter.widget-view+json": {
       "version_major": 2,
       "version_minor": 0,
       "model_id": "8e33a80d7d0f432fba7e325de4baf8d5"
      }
     },
     "metadata": {},
     "output_type": "display_data"
    },
    {
     "name": "stdout",
     "output_type": "stream",
     "text": [
      "est:  [-0.7908718]\n",
      "state:  tensor([-0.8700])\n",
      "epoch: 0\t loss: 0.12779633700847626\n",
      "epoch: 200\t loss: 0.1259303241968155\n",
      "epoch: 400\t loss: 0.13258051872253418\n",
      "87\n"
     ]
    },
    {
     "data": {
      "text/plain": "  0%|          | 0/600 [00:00<?, ?it/s]",
      "application/vnd.jupyter.widget-view+json": {
       "version_major": 2,
       "version_minor": 0,
       "model_id": "b50d9ccdea3d48daa9191ef1e169d1d8"
      }
     },
     "metadata": {},
     "output_type": "display_data"
    },
    {
     "name": "stdout",
     "output_type": "stream",
     "text": [
      "est:  [-0.9358085]\n",
      "state:  tensor([-1.0110])\n",
      "epoch: 0\t loss: 0.12521794438362122\n",
      "epoch: 200\t loss: 0.10455677658319473\n",
      "epoch: 400\t loss: 0.13430573046207428\n",
      "88\n"
     ]
    },
    {
     "data": {
      "text/plain": "  0%|          | 0/600 [00:00<?, ?it/s]",
      "application/vnd.jupyter.widget-view+json": {
       "version_major": 2,
       "version_minor": 0,
       "model_id": "539c93b096174e69b954857d913d6c6b"
      }
     },
     "metadata": {},
     "output_type": "display_data"
    },
    {
     "name": "stdout",
     "output_type": "stream",
     "text": [
      "est:  [-0.8843036]\n",
      "state:  tensor([-0.9827])\n",
      "epoch: 0\t loss: 0.13895346224308014\n",
      "epoch: 200\t loss: 0.12358828634023666\n",
      "epoch: 400\t loss: 0.13262870907783508\n",
      "89\n"
     ]
    },
    {
     "data": {
      "text/plain": "  0%|          | 0/600 [00:00<?, ?it/s]",
      "application/vnd.jupyter.widget-view+json": {
       "version_major": 2,
       "version_minor": 0,
       "model_id": "5850bb941e634b699f27e2874d2fc5ef"
      }
     },
     "metadata": {},
     "output_type": "display_data"
    },
    {
     "name": "stdout",
     "output_type": "stream",
     "text": [
      "est:  [-1.0770286]\n",
      "state:  tensor([-0.9971])\n",
      "epoch: 0\t loss: 0.13320133090019226\n",
      "epoch: 200\t loss: 0.11398916691541672\n",
      "epoch: 400\t loss: 0.1340622454881668\n",
      "90\n"
     ]
    },
    {
     "data": {
      "text/plain": "  0%|          | 0/600 [00:00<?, ?it/s]",
      "application/vnd.jupyter.widget-view+json": {
       "version_major": 2,
       "version_minor": 0,
       "model_id": "7fe3fca04ece4cdabd3954c98e6018c4"
      }
     },
     "metadata": {},
     "output_type": "display_data"
    },
    {
     "name": "stdout",
     "output_type": "stream",
     "text": [
      "est:  [-0.9728325]\n",
      "state:  tensor([-1.0749])\n",
      "epoch: 0\t loss: 0.11838497966527939\n",
      "epoch: 200\t loss: 0.13687275350093842\n",
      "epoch: 400\t loss: 0.1316579133272171\n",
      "91\n"
     ]
    },
    {
     "data": {
      "text/plain": "  0%|          | 0/600 [00:00<?, ?it/s]",
      "application/vnd.jupyter.widget-view+json": {
       "version_major": 2,
       "version_minor": 0,
       "model_id": "d4258666498a4e3e829127744c91a061"
      }
     },
     "metadata": {},
     "output_type": "display_data"
    },
    {
     "name": "stdout",
     "output_type": "stream",
     "text": [
      "est:  [-0.9763017]\n",
      "state:  tensor([-0.9365])\n",
      "epoch: 0\t loss: 0.12507182359695435\n",
      "epoch: 200\t loss: 0.1232370063662529\n",
      "epoch: 400\t loss: 0.11150677502155304\n",
      "92\n"
     ]
    },
    {
     "data": {
      "text/plain": "  0%|          | 0/600 [00:00<?, ?it/s]",
      "application/vnd.jupyter.widget-view+json": {
       "version_major": 2,
       "version_minor": 0,
       "model_id": "268a6cd1d5654d99b1dcecc18de76179"
      }
     },
     "metadata": {},
     "output_type": "display_data"
    },
    {
     "name": "stdout",
     "output_type": "stream",
     "text": [
      "est:  [-1.0832199]\n",
      "state:  tensor([-0.9807])\n",
      "epoch: 0\t loss: 0.12208706140518188\n",
      "epoch: 200\t loss: 0.13904978334903717\n",
      "epoch: 400\t loss: 0.13324034214019775\n",
      "93\n"
     ]
    },
    {
     "data": {
      "text/plain": "  0%|          | 0/600 [00:00<?, ?it/s]",
      "application/vnd.jupyter.widget-view+json": {
       "version_major": 2,
       "version_minor": 0,
       "model_id": "f3c53a94a9e84054a2734843f2fd003a"
      }
     },
     "metadata": {},
     "output_type": "display_data"
    },
    {
     "name": "stdout",
     "output_type": "stream",
     "text": [
      "est:  [-1.051439]\n",
      "state:  tensor([-0.9341])\n",
      "epoch: 0\t loss: 0.13471627235412598\n",
      "epoch: 200\t loss: 0.10333963483572006\n",
      "epoch: 400\t loss: 0.11741389334201813\n",
      "94\n"
     ]
    },
    {
     "data": {
      "text/plain": "  0%|          | 0/600 [00:00<?, ?it/s]",
      "application/vnd.jupyter.widget-view+json": {
       "version_major": 2,
       "version_minor": 0,
       "model_id": "cc726a81ed3c4a8da52379251efe7fd4"
      }
     },
     "metadata": {},
     "output_type": "display_data"
    },
    {
     "name": "stdout",
     "output_type": "stream",
     "text": [
      "est:  [-0.97005624]\n",
      "state:  tensor([-0.9071])\n",
      "epoch: 0\t loss: 0.11603782325983047\n",
      "epoch: 200\t loss: 0.1293264627456665\n",
      "epoch: 400\t loss: 0.1282736212015152\n",
      "95\n"
     ]
    },
    {
     "data": {
      "text/plain": "  0%|          | 0/600 [00:00<?, ?it/s]",
      "application/vnd.jupyter.widget-view+json": {
       "version_major": 2,
       "version_minor": 0,
       "model_id": "dbe8f332f2d64b378af3ce939d96afcc"
      }
     },
     "metadata": {},
     "output_type": "display_data"
    },
    {
     "name": "stdout",
     "output_type": "stream",
     "text": [
      "est:  [-1.0372769]\n",
      "state:  tensor([-0.9254])\n",
      "epoch: 0\t loss: 0.15240228176116943\n",
      "epoch: 200\t loss: 0.14397326111793518\n",
      "epoch: 400\t loss: 0.1214587464928627\n",
      "96\n"
     ]
    },
    {
     "data": {
      "text/plain": "  0%|          | 0/600 [00:00<?, ?it/s]",
      "application/vnd.jupyter.widget-view+json": {
       "version_major": 2,
       "version_minor": 0,
       "model_id": "a9f77d00bae946febd0d1b5b66af6d18"
      }
     },
     "metadata": {},
     "output_type": "display_data"
    },
    {
     "name": "stdout",
     "output_type": "stream",
     "text": [
      "est:  [-1.1719794]\n",
      "state:  tensor([-1.0784])\n",
      "epoch: 0\t loss: 0.13370509445667267\n",
      "epoch: 200\t loss: 0.1432492733001709\n",
      "epoch: 400\t loss: 0.12241725623607635\n",
      "97\n"
     ]
    },
    {
     "data": {
      "text/plain": "  0%|          | 0/600 [00:00<?, ?it/s]",
      "application/vnd.jupyter.widget-view+json": {
       "version_major": 2,
       "version_minor": 0,
       "model_id": "925cd3fe95d74893a2294d5145e61fb2"
      }
     },
     "metadata": {},
     "output_type": "display_data"
    },
    {
     "name": "stdout",
     "output_type": "stream",
     "text": [
      "est:  [-1.1853251]\n",
      "state:  tensor([-1.0196])\n",
      "epoch: 0\t loss: 0.12742435932159424\n",
      "epoch: 200\t loss: 0.12910157442092896\n",
      "epoch: 400\t loss: 0.1297263503074646\n",
      "98\n"
     ]
    },
    {
     "data": {
      "text/plain": "  0%|          | 0/600 [00:00<?, ?it/s]",
      "application/vnd.jupyter.widget-view+json": {
       "version_major": 2,
       "version_minor": 0,
       "model_id": "2d24a25f4f1b4164a1a6ef6f12e278d4"
      }
     },
     "metadata": {},
     "output_type": "display_data"
    },
    {
     "name": "stdout",
     "output_type": "stream",
     "text": [
      "est:  [-0.8350214]\n",
      "state:  tensor([-0.9577])\n",
      "epoch: 0\t loss: 0.15094509720802307\n",
      "epoch: 200\t loss: 0.1465604603290558\n",
      "epoch: 400\t loss: 0.10877715051174164\n"
     ]
    },
    {
     "data": {
      "text/plain": "  0%|          | 0/500 [00:00<?, ?it/s]",
      "application/vnd.jupyter.widget-view+json": {
       "version_major": 2,
       "version_minor": 0,
       "model_id": "c5a16612bcf340729b668770929ff7aa"
      }
     },
     "metadata": {},
     "output_type": "display_data"
    }
   ],
   "source": [
    "est_all = []\n",
    "x_prior = x_init.clone()\n",
    "for i in range(N_T-1):\n",
    "    print(i)\n",
    "    \n",
    "    score_prior_old = score_prior_new\n",
    "    score_prior_new = copy.deepcopy(score_prior_new)\n",
    "    \n",
    "    # sample initial distribution\n",
    "    x_init = Euler_Maruyama_sampler(score_prior_old,marginal_prob_std_fn, diffusion_coeff_fn,score_likelihood=likelihood_score_fn,\n",
    "                                   batch_size=sample_size,num_steps=600,device=device)\n",
    "    est_all.append(torch.mean(x_init, dim=0).cpu().numpy())\n",
    "\n",
    "\n",
    "    # solve for forward SDE (prediction)\n",
    "    x_prior[:,0] = x_init[:,0] - 4 * x_init[:,0] * ( x_init[:,0]**2 - 1)*dt + torch.randn(sample_size,device=device) * np.sqrt(dt)\n",
    "\n",
    "\n",
    "    print('est: ',est_all[i])\n",
    "    print('state: ',X_path[i])\n",
    "\n",
    "\n",
    "    # train model for prior distribution\n",
    "    train_loss = train_model(score_prior_new, x_sample=x_prior,\n",
    "                             batch_size=sample_size,lr=0.01, n_epochs=600, print_interval=200)\n",
    "\n",
    "    # new observation\n",
    "    obs_current = np.array(obs_path[i+1,:])\n",
    "\n",
    "    # update likelihood function\n",
    "    likelihood_score_fn = functools.partial(likelihood_score, obs=obs_current, sigma_obs=sigma_obs)\n",
    "    # likelihood_score_fn = functools.partial(likelihood_score_damp, obs=obs_current, sigma_obs=sigma_obs, c=0.1)\n",
    "    # next iteration\n",
    "\n",
    "\n",
    "# last estimation\n",
    "# sample initial distribution\n",
    "x_init = Euler_Maruyama_sampler(score_prior_old,marginal_prob_std_fn, diffusion_coeff_fn,score_likelihood=likelihood_score_fn,\n",
    "                               batch_size=sample_size,num_steps=500,device=device)\n",
    "est_all.append(torch.mean(x_init, dim=0).cpu().numpy())\n",
    "\n",
    "#\n",
    "est_all = np.array(est_all)\n"
   ]
  },
  {
   "cell_type": "code",
   "execution_count": 24,
   "outputs": [
    {
     "data": {
      "text/plain": "<Figure size 432x288 with 1 Axes>",
      "image/png": "[encoded data removed]"
     },
     "metadata": {
      "needs_background": "light"
     },
     "output_type": "display_data"
    }
   ],
   "source": [
    "plt.plot(est_all,'.-',label='est')\n",
    "plt.plot(X_path,'.-',label='state')\n",
    "plt.legend()\n",
    "plt.show()"
   ],
   "metadata": {
    "collapsed": false,
    "pycharm": {
     "name": "#%%\n"
    }
   }
  },
  {
   "cell_type": "code",
   "execution_count": null,
   "outputs": [],
   "source": [],
   "metadata": {
    "collapsed": false,
    "pycharm": {
     "name": "#%%\n"
    }
   }
  },
  {
   "cell_type": "code",
   "execution_count": 40,
   "metadata": {
    "pycharm": {
     "name": "#%%\n"
    }
   },
   "outputs": [],
   "source": [
    "np.savetxt('Est_all.txt', est_all)\n",
    "np.savetxt('X_path.txt', X_path)\n",
    "np.savetxt('obs_path.txt', obs_path)\n"
   ]
  },
  {
   "cell_type": "code",
   "execution_count": null,
   "metadata": {
    "pycharm": {
     "name": "#%%\n"
    }
   },
   "outputs": [],
   "source": []
  }
 ],
 "metadata": {
  "kernelspec": {
   "display_name": "Python 3 (ipykernel)",
   "language": "python",
   "name": "python3"
  },
  "language_info": {
   "codemirror_mode": {
    "name": "ipython",
    "version": 3
   },
   "file_extension": ".py",
   "mimetype": "text/x-python",
   "name": "python",
   "nbconvert_exporter": "python",
   "pygments_lexer": "ipython3",
   "version": "3.9.12"
  }
 },
 "nbformat": 4,
 "nbformat_minor": 1
}
{
 "cells": [
  {
   "cell_type": "code",
   "execution_count": 2,
   "metadata": {
    "pycharm": {
     "name": "#%%\n"
    }
   },
   "outputs": [],
   "source": [
    "import torch\n",
    "import torch.nn as nn\n",
    "import torch.nn.functional as F\n",
    "import numpy as np\n",
    "import functools\n",
    "from torch.optim import Adam\n",
    "import torchvision.transforms as transforms\n",
    "#from torchvision.datasets import MNIST\n",
    "import matplotlib.pyplot as plt\n",
    "import tqdm\n",
    "import copy\n",
    "\n",
    "from torch.utils.data import DataLoader, Dataset\n"
   ]
  },
  {
   "cell_type": "code",
   "execution_count": 3,
   "metadata": {
    "pycharm": {
     "name": "#%%\n"
    }
   },
   "outputs": [],
   "source": [
    "# model\n",
    "# Defining a time-dependent score-based model\n",
    "\n",
    "class GaussianFourierProjection(nn.Module):\n",
    "    \"\"\"Gaussian random features for encoding time steps.\"\"\"\n",
    "    def __init__(self, embed_dim, scale=30.):\n",
    "        super().__init__()\n",
    "        # Randomly sample weights during initialization. These weights are fixed\n",
    "        # during optimization and are not trainable.\n",
    "        self.W = nn.Parameter(torch.randn(embed_dim // 2) * scale, requires_grad=False)\n",
    "    def forward(self, x):\n",
    "        x_proj = x[:, None] * self.W[None, :] * 2 * np.pi\n",
    "        return torch.cat([torch.sin(x_proj), torch.cos(x_proj)], dim=-1)\n",
    "\n",
    "\n",
    "class ScoreNet(nn.Module):\n",
    "    \"\"\"A time-dependent score-based model built upon U-Net architecture.\"\"\"\n",
    "\n",
    "    def __init__(self, marginal_prob_std, x_dim , hidden_depth=2, embed_dim=128, use_bn=True):\n",
    "        \"\"\"Initialize a time-dependent score-based network.\n",
    "\n",
    "        Args:\n",
    "          marginal_prob_std: A function that takes time t and gives the standard\n",
    "            deviation of the perturbation kernel p_{0t}(x(t) | x(0)).\n",
    "          channels: The number of channels for feature maps of each resolution.\n",
    "          embed_dim: The dimensionality of Gaussian random feature embeddings.\n",
    "        \"\"\"\n",
    "        super().__init__()\n",
    "        self.x_dim = x_dim\n",
    "        self.hidden_depth = hidden_depth\n",
    "        self.embed_dim = embed_dim\n",
    "        self.use_bn = use_bn\n",
    "\n",
    "        assert hidden_depth>=1, 'hidden_depth must be greater than 0!'\n",
    "        # Gaussian random feature embedding layer for time\n",
    "        self.embed = nn.Sequential(GaussianFourierProjection(embed_dim=embed_dim),\n",
    "             nn.Linear(embed_dim, embed_dim))\n",
    "\n",
    "        # fc layers\n",
    "        self.input = nn.Linear(x_dim, embed_dim)\n",
    "        self.fc_all = nn.ModuleList([nn.Linear(embed_dim, embed_dim) for i in range(self.hidden_depth)])\n",
    "        self.output = nn.Linear(embed_dim, x_dim)\n",
    "\n",
    "        if self.use_bn:\n",
    "            self.bn = nn.ModuleList([nn.BatchNorm1d(num_features=embed_dim) for i in range(self.hidden_depth)])\n",
    "\n",
    "        # The swish activation function\n",
    "        self.act = lambda x: x * torch.sigmoid(x)\n",
    "        self.marginal_prob_std = marginal_prob_std\n",
    "\n",
    "\n",
    "    def forward(self, x, t):\n",
    "        # Obtain the Gaussian random feature embedding for t\n",
    "        embed = self.act(self.embed(t))\n",
    "\n",
    "        #\n",
    "        h = self.input(x)\n",
    "        # residue connections\n",
    "        for i in range(self.hidden_depth):\n",
    "            h = h + self.act(self.fc_all[i](h)) + embed\n",
    "            if self.use_bn:\n",
    "                h = self.bn[i](h)\n",
    "\n",
    "        h = self.output(h)\n",
    "\n",
    "        # Normalize output\n",
    "        h = h / self.marginal_prob_std(t)[:, None,]\n",
    "        return h\n",
    "\n",
    "\n",
    "# Define the loss function\n",
    "def loss_fn(model, x, marginal_prob_std, eps=1e-5):\n",
    "    \"\"\"The loss function for training score-based generative models.\n",
    "\n",
    "    Args:\n",
    "    model: A PyTorch model instance that represents a\n",
    "      time-dependent score-based model.\n",
    "    x: A mini-batch of training data.\n",
    "    marginal_prob_std: A function that gives the standard deviation of\n",
    "      the perturbation kernel.\n",
    "    eps: A tolerance value for numerical stability.\n",
    "    \"\"\"\n",
    "    random_t = torch.rand(x.shape[0], device=x.device) * (1. - eps) + eps #(eps,1)\n",
    "    z = torch.randn_like(x)\n",
    "    std = marginal_prob_std(random_t)\n",
    "    perturbed_x = x + z * std[:, None]\n",
    "    score = model(perturbed_x, random_t)\n",
    "    loss = torch.mean(torch.sum((score * std[:, None] + z)**2, dim=1))\n",
    "    return loss\n",
    "\n",
    "\n",
    "def marginal_prob_std(t, sigma):\n",
    "    \"\"\"Compute the mean and standard deviation of $p_{0t}(x(t) | x(0))$.\n",
    "\n",
    "    Args:\n",
    "    t: A vector of time steps.\n",
    "    sigma: The $\\sigma$ in our SDE.\n",
    "\n",
    "    Returns:\n",
    "    The standard deviation.\n",
    "    \"\"\"\n",
    "    # t = torch.tensor(t, device=device)\n",
    "    return torch.sqrt((sigma**(2 * t) - 1.) / 2. / np.log(sigma))\n",
    "\n",
    "\n",
    "def diffusion_coeff(t, sigma):\n",
    "    \"\"\"Compute the diffusion coefficient of our SDE.\n",
    "\n",
    "    Args:\n",
    "    t: A vector of time steps.\n",
    "    sigma: The $\\sigma$ in our SDE.\n",
    "\n",
    "    Returns:\n",
    "    The vector of diffusion coefficients.\n",
    "    \"\"\"\n",
    "    # return torch.tensor(sigma**t, device=device)\n",
    "    return sigma**t\n",
    "\n",
    "\n",
    "# data set\n",
    "class MyDataset(Dataset):\n",
    "    def __init__(self, x_train):\n",
    "        super().__init__()\n",
    "        self.x_train = x_train\n",
    "\n",
    "    def __len__(self):\n",
    "        return self.x_train.shape[0]\n",
    "\n",
    "    def __getitem__(self, idx):\n",
    "        return self.x_train[idx]\n",
    "\n",
    "\n",
    "\n",
    "def train_model(score_model, x_sample, lr=1e-4, batch_size=1000, n_epochs=5000, print_interval=100):\n",
    "    dataset = MyDataset(x_sample)\n",
    "    data_loader = DataLoader(dataset, batch_size=batch_size, shuffle=True)\n",
    "\n",
    "    optimizer = Adam(score_model.parameters(), lr=lr)\n",
    "    train_loss = []\n",
    "\n",
    "\n",
    "    for epoch in range(n_epochs):\n",
    "        avg_loss = 0.\n",
    "        num_items = 0\n",
    "        for x in data_loader:\n",
    "            x = x.to(device)\n",
    "            loss = loss_fn(score_model, x, marginal_prob_std_fn)\n",
    "            optimizer.zero_grad()\n",
    "            loss.backward()\n",
    "            optimizer.step()\n",
    "            avg_loss += loss.item() * x.shape[0]\n",
    "            num_items += x.shape[0]\n",
    "        # Print the averaged training loss so far.\n",
    "        epoch_avg_loss = avg_loss / num_items\n",
    "        train_loss.append(epoch_avg_loss)\n",
    "        if epoch%print_interval==0:\n",
    "            print(f'epoch: {epoch}\\t loss: {epoch_avg_loss}')\n",
    "    return train_loss\n",
    "\n",
    "\n",
    "def Euler_Maruyama_sampler(score_prior, marginal_prob_std, diffusion_coeff, score_likelihood=None,\n",
    "                           batch_size=64,num_steps=500,device='cpu',eps=1e-3):\n",
    "    \"\"\"Generate samples from score-based models with the Euler-Maruyama solver.\n",
    "\n",
    "    Args:\n",
    "    score_model: A PyTorch model that represents the time-dependent score-based model.\n",
    "    marginal_prob_std: A function that gives the standard deviation of\n",
    "    the perturbation kernel.\n",
    "    diffusion_coeff: A function that gives the diffusion coefficient of the SDE.\n",
    "    batch_size: The number of samplers to generate by calling this function once.\n",
    "    num_steps: The number of sampling steps.\n",
    "    Equivalent to the number of discretized time steps.\n",
    "    device: 'cuda' for running on GPUs, and 'cpu' for running on CPUs.\n",
    "    eps: The smallest time step for numerical stability.\n",
    "\n",
    "    Returns:\n",
    "    Samples.\n",
    "    \"\"\"\n",
    "    t = torch.ones(batch_size, device=device)\n",
    "    init_x = torch.randn(batch_size, score_prior.x_dim, device=device) \\\n",
    "    * marginal_prob_std(t)[:, None]\n",
    "    time_steps = torch.linspace(1., eps, num_steps, device=device)\n",
    "    step_size = time_steps[0] - time_steps[1]\n",
    "    x = init_x\n",
    "    with torch.no_grad():\n",
    "        for time_step in tqdm.notebook.tqdm(time_steps):\n",
    "            batch_time_step = torch.ones(batch_size, device=device) * time_step\n",
    "            g = diffusion_coeff(batch_time_step)\n",
    "            if score_likelihood is None:\n",
    "                score = score_prior(x, batch_time_step)\n",
    "            else:\n",
    "                score = score_prior(x, batch_time_step) + score_likelihood(x)*torch.relu(1-2*time_step)\n",
    "\n",
    "            # score = torch.clip(score, min=-100, max=100)\n",
    "\n",
    "            score_norm = torch.sqrt(torch.mean(score**2, dim=1))\n",
    "            adj_ratio = torch.ones_like(score_norm)\n",
    "            tol = 50.\n",
    "            adj_ratio[score_norm>tol] = tol/score_norm[score_norm>tol]\n",
    "            # score_norm = torch.clip(score_norm, min=0, max=50)\n",
    "\n",
    "\n",
    "            score = score*adj_ratio[:,None]\n",
    "\n",
    "            # print(time_step, score)\n",
    "\n",
    "            mean_x = x + (g**2)[:, None] * score * step_size\n",
    "            x = mean_x + torch.sqrt(step_size) * g[:, None] * torch.randn_like(x)\n",
    "        # Do not include any noise in the last sampling step.\n",
    "    return mean_x\n"
   ]
  },
  {
   "cell_type": "code",
   "execution_count": 4,
   "metadata": {
    "pycharm": {
     "name": "#%%\n"
    }
   },
   "outputs": [],
   "source": [
    "# diffusion setup\n",
    "device = 'cuda' #@param ['cuda', 'cpu'] {'type':'string'}\n",
    "sigma =  25.0#@param {'type':'number'}\n",
    "marginal_prob_std_fn = functools.partial(marginal_prob_std, sigma=sigma)\n",
    "diffusion_coeff_fn = functools.partial(diffusion_coeff, sigma=sigma)\n"
   ]
  },
  {
   "cell_type": "code",
   "execution_count": 10,
   "metadata": {
    "pycharm": {
     "name": "#%%\n"
    }
   },
   "outputs": [],
   "source": [
    "# define obs system\n",
    "# h(x) = x^3\n",
    "\n",
    "\n",
    "\n",
    "# def likelihood_1d(x, obs, sigma_obs):\n",
    "#     return torch.exp(-0.5*(x**3 - obs)**2/sigma_obs**2)\n",
    "\n",
    "def likelihood_score_1d(x, obs, sigma_obs):\n",
    "    temp1 = -(x - obs)/sigma_obs**2\n",
    "    temp2 = 1\n",
    "    return temp2*temp1\n",
    "\n",
    "\n",
    "# def likelihood(x, obs, sigma_obs):\n",
    "#     l1 = likelihood_1d(x[:,0], obs[0], sigma_obs)\n",
    "#     l2 = likelihood_1d(x[:,1], obs[1], sigma_obs)\n",
    "#     return l1*l2\n",
    "\n",
    "def likelihood_score(x, obs, sigma_obs):\n",
    "    score_d = []\n",
    "    for d in range(num_dim):\n",
    "        score_d.append(likelihood_score_1d(x[:,d], obs[d], sigma_obs))\n",
    "        #score_d[d] = likelihood_score_1d(x[:,d], obs[0], sigma_obs)\n",
    "    \n",
    "    sc = torch.stack(score_d, dim=1)\n",
    "    return sc\n",
    "\n",
    "# def likelihood_score_damp(x, obs, sigma_obs, c=0.01):\n",
    "#     sc1 = likelihood_score_1d(x[:,0], obs[0], sigma_obs)\n",
    "#     sc2 = likelihood_score_1d(x[:,1], obs[1], sigma_obs)\n",
    "#     sc = torch.stack([sc1, sc2], dim=1)\n",
    "#     sc_gauss = -(x)/c\n",
    "\n",
    "    # sc_norm = torch.mean(sc**2, dim=1)\n",
    "    # gauss_norm = torch.mean(sc_gauss**2, dim=1)\n",
    "    # sc[sc_norm > gauss_norm] = sc_gauss[sc_norm > gauss_norm]\n",
    "    # return sc"
   ]
  },
  {
   "cell_type": "markdown",
   "metadata": {
    "pycharm": {
     "name": "#%% md\n"
    }
   },
   "source": [
    "# filtering setup"
   ]
  },
  {
   "cell_type": "code",
   "execution_count": 11,
   "metadata": {
    "pycharm": {
     "name": "#%%\n"
    }
   },
   "outputs": [
    {
     "data": {
      "text/plain": "<Figure size 432x288 with 1 Axes>",
      "image/png": "[encoded data removed]"
     },
     "metadata": {
      "needs_background": "light"
     },
     "output_type": "display_data"
    }
   ],
   "source": [
    "# Problem formulation\n",
    "# state process setup\n",
    "Time = 10.\n",
    "dt = 0.1\n",
    "num_dim = 1\n",
    "X_initial = -1 + torch.randn(1) * 0.02\n",
    "N_T = int(Time//dt+1)\n",
    "t_path = np.linspace(0, Time, N_T)\n",
    "sigma_SDE = 0.2\n",
    "\n",
    "\n",
    "#dt = t_path[1] - t_path[0]\n",
    "\n",
    "\n",
    "X_path = torch.zeros((N_T, num_dim))\n",
    "X_path[0] = X_initial.clone()\n",
    "x_new = X_initial.clone()\n",
    "\n",
    "for i in range(N_T-1):\n",
    "    # Generate true state trajectory\n",
    "    x_old = X_path[i]\n",
    "    \n",
    "    x_new[0] = x_old[0] - 4*x_old[0]*(x_old[0]**2 - 1)*dt + sigma_SDE*np.random.randn(1) * np.sqrt(dt)\n",
    "    \n",
    "    X_path[i+1] = x_new\n",
    "    \n",
    "    if i==20:\n",
    "        X_path[i+1] = -X_path[i+1]\n",
    "    if i==40:\n",
    "        X_path[i+1] = -X_path[i+1]\n",
    "    if i==60:\n",
    "        X_path[i+1] = -X_path[i+1]\n",
    "    if i==80:\n",
    "        X_path[i+1] = -X_path[i+1]\n",
    "    \n",
    "# plt.plot(*X_path.T, '.-')\n",
    "# plt.title('state')\n",
    "# plt.show()\n",
    "\n",
    "# get observation\n",
    "sigma_obs = 0.1\n",
    "\n",
    "obs_path_true = X_path\n",
    "obs_path = obs_path_true + np.random.randn(N_T,num_dim)*sigma_obs\n",
    "\n",
    "# plot\n",
    "plt.plot(X_path,'.-',label='state')\n",
    "plt.plot(obs_path,'.-',label='obs')\n",
    "plt.show()"
   ]
  },
  {
   "cell_type": "code",
   "execution_count": 12,
   "metadata": {
    "pycharm": {
     "name": "#%%\n"
    }
   },
   "outputs": [
    {
     "name": "stdout",
     "output_type": "stream",
     "text": [
      "tensor([-0.9912])\n"
     ]
    },
    {
     "name": "stderr",
     "output_type": "stream",
     "text": [
      "C:\\Users\\10576\\AppData\\Local\\Temp\\ipykernel_14456\\3694373087.py:2: UserWarning: To copy construct from a tensor, it is recommended to use sourceTensor.clone().detach() or sourceTensor.clone().detach().requires_grad_(True), rather than torch.tensor(sourceTensor).\n",
      "  x0 = torch.tensor(X_initial.clone(), dtype=torch.float32, device=device)\n"
     ]
    }
   ],
   "source": [
    "# initial guess\n",
    "x0 = torch.tensor(X_initial.clone(), dtype=torch.float32, device=device)\n",
    "sigma0 = 0.2\n",
    "\n",
    "print(X_initial)\n"
   ]
  },
  {
   "cell_type": "code",
   "execution_count": 13,
   "metadata": {
    "pycharm": {
     "name": "#%%\n"
    },
    "scrolled": true
   },
   "outputs": [
    {
     "name": "stdout",
     "output_type": "stream",
     "text": [
      "epoch: 0\t loss: 3.224475622177124\n",
      "epoch: 100\t loss: 0.22057612240314484\n",
      "epoch: 200\t loss: 0.1149153858423233\n",
      "epoch: 300\t loss: 0.09554843604564667\n",
      "epoch: 400\t loss: 0.07647322863340378\n",
      "epoch: 500\t loss: 0.08386338502168655\n"
     ]
    }
   ],
   "source": [
    "# Training initialize\n",
    "x_dim = num_dim\n",
    "hidden_depth  = 2\n",
    "embed_dim = 50\n",
    "use_bn = False\n",
    "\n",
    "score_prior_old = ScoreNet(marginal_prob_std=marginal_prob_std_fn, x_dim=x_dim,\n",
    "                           hidden_depth=hidden_depth, embed_dim=embed_dim, use_bn=use_bn)\n",
    "\n",
    "score_prior_new = ScoreNet(marginal_prob_std=marginal_prob_std_fn, x_dim=x_dim,\n",
    "                           hidden_depth=hidden_depth, embed_dim=embed_dim, use_bn=use_bn)\n",
    "\n",
    "score_prior_old = score_prior_old.to(device)\n",
    "score_prior_new = score_prior_new.to(device)\n",
    "\n",
    "# initial samples\n",
    "sample_size = 1000\n",
    "x_init = x0 + torch.randn(sample_size,num_dim, dtype=torch.float32, device=device)*sigma0\n",
    "train_loss = train_model(score_prior_old, x_sample=x_init, batch_size=sample_size, lr=0.005, n_epochs=600, print_interval=100)\n",
    "\n",
    "likelihood_score_fn = None\n",
    "score_prior_new = score_prior_old"
   ]
  },
  {
   "cell_type": "code",
   "execution_count": 14,
   "metadata": {
    "pycharm": {
     "name": "#%%\n"
    }
   },
   "outputs": [
    {
     "name": "stdout",
     "output_type": "stream",
     "text": [
      "0\n"
     ]
    },
    {
     "data": {
      "text/plain": "  0%|          | 0/600 [00:00<?, ?it/s]",
      "application/vnd.jupyter.widget-view+json": {
       "version_major": 2,
       "version_minor": 0,
       "model_id": "200ef139e2a84221bbb335df6b21f0f6"
      }
     },
     "metadata": {},
     "output_type": "display_data"
    },
    {
     "name": "stdout",
     "output_type": "stream",
     "text": [
      "est:  [-1.01298]\n",
      "state:  tensor([-0.9912])\n",
      "epoch: 0\t loss: 0.17819209396839142\n",
      "epoch: 200\t loss: 0.14945904910564423\n",
      "epoch: 400\t loss: 0.14128872752189636\n",
      "1\n"
     ]
    },
    {
     "data": {
      "text/plain": "  0%|          | 0/600 [00:00<?, ?it/s]",
      "application/vnd.jupyter.widget-view+json": {
       "version_major": 2,
       "version_minor": 0,
       "model_id": "ec5dec4680a241ba981ceb9960362497"
      }
     },
     "metadata": {},
     "output_type": "display_data"
    },
    {
     "name": "stdout",
     "output_type": "stream",
     "text": [
      "est:  [-1.2522938]\n",
      "state:  tensor([-1.1557])\n",
      "epoch: 0\t loss: 0.13849380612373352\n",
      "epoch: 200\t loss: 0.12137648463249207\n",
      "epoch: 400\t loss: 0.11966647952795029\n",
      "2\n"
     ]
    },
    {
     "data": {
      "text/plain": "  0%|          | 0/600 [00:00<?, ?it/s]",
      "application/vnd.jupyter.widget-view+json": {
       "version_major": 2,
       "version_minor": 0,
       "model_id": "e3ebe4692b4b4e81b0b31364f0cc7d49"
      }
     },
     "metadata": {},
     "output_type": "display_data"
    },
    {
     "name": "stdout",
     "output_type": "stream",
     "text": [
      "est:  [-1.0287669]\n",
      "state:  tensor([-1.0194])\n",
      "epoch: 0\t loss: 0.12964367866516113\n",
      "epoch: 200\t loss: 0.14360101521015167\n",
      "epoch: 400\t loss: 0.10272470861673355\n",
      "3\n"
     ]
    },
    {
     "data": {
      "text/plain": "  0%|          | 0/600 [00:00<?, ?it/s]",
      "application/vnd.jupyter.widget-view+json": {
       "version_major": 2,
       "version_minor": 0,
       "model_id": "f2c5acfcab2c42e385e0654a9cb8f4a2"
      }
     },
     "metadata": {},
     "output_type": "display_data"
    },
    {
     "name": "stdout",
     "output_type": "stream",
     "text": [
      "est:  [-1.0433372]\n",
      "state:  tensor([-0.9351])\n",
      "epoch: 0\t loss: 0.1573639065027237\n",
      "epoch: 200\t loss: 0.13998332619667053\n",
      "epoch: 400\t loss: 0.1459709107875824\n",
      "4\n"
     ]
    },
    {
     "data": {
      "text/plain": "  0%|          | 0/600 [00:00<?, ?it/s]",
      "application/vnd.jupyter.widget-view+json": {
       "version_major": 2,
       "version_minor": 0,
       "model_id": "a348ba84bbd34e6bb6a867d7a25ad52b"
      }
     },
     "metadata": {},
     "output_type": "display_data"
    },
    {
     "name": "stdout",
     "output_type": "stream",
     "text": [
      "est:  [-0.9930827]\n",
      "state:  tensor([-1.0706])\n",
      "epoch: 0\t loss: 0.11329317092895508\n",
      "epoch: 200\t loss: 0.12389975786209106\n",
      "epoch: 400\t loss: 0.13890360295772552\n",
      "5\n"
     ]
    },
    {
     "data": {
      "text/plain": "  0%|          | 0/600 [00:00<?, ?it/s]",
      "application/vnd.jupyter.widget-view+json": {
       "version_major": 2,
       "version_minor": 0,
       "model_id": "0b22854a5ba8425a9e9dda227d6fb2af"
      }
     },
     "metadata": {},
     "output_type": "display_data"
    },
    {
     "name": "stdout",
     "output_type": "stream",
     "text": [
      "est:  [-1.01701]\n",
      "state:  tensor([-0.9645])\n",
      "epoch: 0\t loss: 0.11347368359565735\n",
      "epoch: 200\t loss: 0.14075180888175964\n",
      "epoch: 400\t loss: 0.1326887011528015\n",
      "6\n"
     ]
    },
    {
     "data": {
      "text/plain": "  0%|          | 0/600 [00:00<?, ?it/s]",
      "application/vnd.jupyter.widget-view+json": {
       "version_major": 2,
       "version_minor": 0,
       "model_id": "f2a99149b0514fca915b3eff028fbabc"
      }
     },
     "metadata": {},
     "output_type": "display_data"
    },
    {
     "name": "stdout",
     "output_type": "stream",
     "text": [
      "est:  [-0.9731242]\n",
      "state:  tensor([-0.9922])\n",
      "epoch: 0\t loss: 0.13610923290252686\n",
      "epoch: 200\t loss: 0.12565480172634125\n",
      "epoch: 400\t loss: 0.11777951568365097\n",
      "7\n"
     ]
    },
    {
     "data": {
      "text/plain": "  0%|          | 0/600 [00:00<?, ?it/s]",
      "application/vnd.jupyter.widget-view+json": {
       "version_major": 2,
       "version_minor": 0,
       "model_id": "a1c98cb2d1fb41379ccfa0ea354813f2"
      }
     },
     "metadata": {},
     "output_type": "display_data"
    },
    {
     "name": "stdout",
     "output_type": "stream",
     "text": [
      "est:  [-0.8822499]\n",
      "state:  tensor([-0.9902])\n",
      "epoch: 0\t loss: 0.12653250992298126\n",
      "epoch: 200\t loss: 0.12244126200675964\n",
      "epoch: 400\t loss: 0.1144396960735321\n",
      "8\n"
     ]
    },
    {
     "data": {
      "text/plain": "  0%|          | 0/600 [00:00<?, ?it/s]",
      "application/vnd.jupyter.widget-view+json": {
       "version_major": 2,
       "version_minor": 0,
       "model_id": "9bb58995c04c42ea80cc47b40ecf999e"
      }
     },
     "metadata": {},
     "output_type": "display_data"
    },
    {
     "name": "stdout",
     "output_type": "stream",
     "text": [
      "est:  [-1.0446361]\n",
      "state:  tensor([-1.0755])\n",
      "epoch: 0\t loss: 0.13032683730125427\n",
      "epoch: 200\t loss: 0.13672205805778503\n",
      "epoch: 400\t loss: 0.11265676468610764\n",
      "9\n"
     ]
    },
    {
     "data": {
      "text/plain": "  0%|          | 0/600 [00:00<?, ?it/s]",
      "application/vnd.jupyter.widget-view+json": {
       "version_major": 2,
       "version_minor": 0,
       "model_id": "b0f10217099741e0abaf37d8a93341d7"
      }
     },
     "metadata": {},
     "output_type": "display_data"
    },
    {
     "name": "stdout",
     "output_type": "stream",
     "text": [
      "est:  [-1.0862732]\n",
      "state:  tensor([-0.9804])\n",
      "epoch: 0\t loss: 0.11501697450876236\n",
      "epoch: 200\t loss: 0.12176834046840668\n",
      "epoch: 400\t loss: 0.14826709032058716\n",
      "10\n"
     ]
    },
    {
     "data": {
      "text/plain": "  0%|          | 0/600 [00:00<?, ?it/s]",
      "application/vnd.jupyter.widget-view+json": {
       "version_major": 2,
       "version_minor": 0,
       "model_id": "efa1eb1048ab4a5aa0a4789b4c0b78d8"
      }
     },
     "metadata": {},
     "output_type": "display_data"
    },
    {
     "name": "stdout",
     "output_type": "stream",
     "text": [
      "est:  [-0.96138394]\n",
      "state:  tensor([-1.0282])\n",
      "epoch: 0\t loss: 0.1190316453576088\n",
      "epoch: 200\t loss: 0.12074229121208191\n",
      "epoch: 400\t loss: 0.11879535764455795\n",
      "11\n"
     ]
    },
    {
     "data": {
      "text/plain": "  0%|          | 0/600 [00:00<?, ?it/s]",
      "application/vnd.jupyter.widget-view+json": {
       "version_major": 2,
       "version_minor": 0,
       "model_id": "8e57c7826b8c42e4a4cf4b30570ee255"
      }
     },
     "metadata": {},
     "output_type": "display_data"
    },
    {
     "name": "stdout",
     "output_type": "stream",
     "text": [
      "est:  [-1.1129268]\n",
      "state:  tensor([-0.9500])\n",
      "epoch: 0\t loss: 0.11817009747028351\n",
      "epoch: 200\t loss: 0.12315276265144348\n",
      "epoch: 400\t loss: 0.10891766846179962\n",
      "12\n"
     ]
    },
    {
     "data": {
      "text/plain": "  0%|          | 0/600 [00:00<?, ?it/s]",
      "application/vnd.jupyter.widget-view+json": {
       "version_major": 2,
       "version_minor": 0,
       "model_id": "865ae12705f746f0b422be291c6b86c6"
      }
     },
     "metadata": {},
     "output_type": "display_data"
    },
    {
     "name": "stdout",
     "output_type": "stream",
     "text": [
      "est:  [-1.0305647]\n",
      "state:  tensor([-0.9597])\n",
      "epoch: 0\t loss: 0.147029846906662\n",
      "epoch: 200\t loss: 0.12908393144607544\n",
      "epoch: 400\t loss: 0.11754704266786575\n",
      "13\n"
     ]
    },
    {
     "data": {
      "text/plain": "  0%|          | 0/600 [00:00<?, ?it/s]",
      "application/vnd.jupyter.widget-view+json": {
       "version_major": 2,
       "version_minor": 0,
       "model_id": "7f943a993e8444bb8a887c21a2866f33"
      }
     },
     "metadata": {},
     "output_type": "display_data"
    },
    {
     "name": "stdout",
     "output_type": "stream",
     "text": [
      "est:  [-1.136038]\n",
      "state:  tensor([-0.9679])\n",
      "epoch: 0\t loss: 0.12641340494155884\n",
      "epoch: 200\t loss: 0.13213224709033966\n",
      "epoch: 400\t loss: 0.12796318531036377\n",
      "14\n"
     ]
    },
    {
     "data": {
      "text/plain": "  0%|          | 0/600 [00:00<?, ?it/s]",
      "application/vnd.jupyter.widget-view+json": {
       "version_major": 2,
       "version_minor": 0,
       "model_id": "6d647b08cd6b477a976a2d1cb2cf60f8"
      }
     },
     "metadata": {},
     "output_type": "display_data"
    },
    {
     "name": "stdout",
     "output_type": "stream",
     "text": [
      "est:  [-0.9694366]\n",
      "state:  tensor([-1.0017])\n",
      "epoch: 0\t loss: 0.1184530258178711\n",
      "epoch: 200\t loss: 0.12589842081069946\n",
      "epoch: 400\t loss: 0.11005868762731552\n",
      "15\n"
     ]
    },
    {
     "data": {
      "text/plain": "  0%|          | 0/600 [00:00<?, ?it/s]",
      "application/vnd.jupyter.widget-view+json": {
       "version_major": 2,
       "version_minor": 0,
       "model_id": "ab00ba639de3495593e8eb1bfb2dc656"
      }
     },
     "metadata": {},
     "output_type": "display_data"
    },
    {
     "name": "stdout",
     "output_type": "stream",
     "text": [
      "est:  [-1.0858757]\n",
      "state:  tensor([-0.9586])\n",
      "epoch: 0\t loss: 0.10364781320095062\n",
      "epoch: 200\t loss: 0.12631595134735107\n",
      "epoch: 400\t loss: 0.12746189534664154\n",
      "16\n"
     ]
    },
    {
     "data": {
      "text/plain": "  0%|          | 0/600 [00:00<?, ?it/s]",
      "application/vnd.jupyter.widget-view+json": {
       "version_major": 2,
       "version_minor": 0,
       "model_id": "49d8cca3280f4ef8a2e6e1cfc3af9e0e"
      }
     },
     "metadata": {},
     "output_type": "display_data"
    },
    {
     "name": "stdout",
     "output_type": "stream",
     "text": [
      "est:  [-0.9422077]\n",
      "state:  tensor([-0.9776])\n",
      "epoch: 0\t loss: 0.11043769121170044\n",
      "epoch: 200\t loss: 0.12371307611465454\n",
      "epoch: 400\t loss: 0.13037830591201782\n",
      "17\n"
     ]
    },
    {
     "data": {
      "text/plain": "  0%|          | 0/600 [00:00<?, ?it/s]",
      "application/vnd.jupyter.widget-view+json": {
       "version_major": 2,
       "version_minor": 0,
       "model_id": "da0d01416de74e2ba542493046e5be71"
      }
     },
     "metadata": {},
     "output_type": "display_data"
    },
    {
     "name": "stdout",
     "output_type": "stream",
     "text": [
      "est:  [-1.0489933]\n",
      "state:  tensor([-1.0633])\n",
      "epoch: 0\t loss: 0.11280615627765656\n",
      "epoch: 200\t loss: 0.12366323173046112\n",
      "epoch: 400\t loss: 0.127466082572937\n",
      "18\n"
     ]
    },
    {
     "data": {
      "text/plain": "  0%|          | 0/600 [00:00<?, ?it/s]",
      "application/vnd.jupyter.widget-view+json": {
       "version_major": 2,
       "version_minor": 0,
       "model_id": "4429b6da68a841268913eb74f768510b"
      }
     },
     "metadata": {},
     "output_type": "display_data"
    },
    {
     "name": "stdout",
     "output_type": "stream",
     "text": [
      "est:  [-1.0199753]\n",
      "state:  tensor([-0.9645])\n",
      "epoch: 0\t loss: 0.12009207904338837\n",
      "epoch: 200\t loss: 0.12717869877815247\n",
      "epoch: 400\t loss: 0.14125841856002808\n",
      "19\n"
     ]
    },
    {
     "data": {
      "text/plain": "  0%|          | 0/600 [00:00<?, ?it/s]",
      "application/vnd.jupyter.widget-view+json": {
       "version_major": 2,
       "version_minor": 0,
       "model_id": "3a6d34ef87c3472a8dd32a73dc22f341"
      }
     },
     "metadata": {},
     "output_type": "display_data"
    },
    {
     "name": "stdout",
     "output_type": "stream",
     "text": [
      "est:  [-0.970258]\n",
      "state:  tensor([-1.0516])\n",
      "epoch: 0\t loss: 0.11388673633337021\n",
      "epoch: 200\t loss: 0.11890395730733871\n",
      "epoch: 400\t loss: 0.1255320906639099\n",
      "20\n"
     ]
    },
    {
     "data": {
      "text/plain": "  0%|          | 0/600 [00:00<?, ?it/s]",
      "application/vnd.jupyter.widget-view+json": {
       "version_major": 2,
       "version_minor": 0,
       "model_id": "cb3001d3d15240899e9ea8c80a7de292"
      }
     },
     "metadata": {},
     "output_type": "display_data"
    },
    {
     "name": "stdout",
     "output_type": "stream",
     "text": [
      "est:  [-0.9246511]\n",
      "state:  tensor([-0.9420])\n",
      "epoch: 0\t loss: 0.11851569265127182\n",
      "epoch: 200\t loss: 0.11175604164600372\n",
      "epoch: 400\t loss: 0.12899869680404663\n",
      "21\n"
     ]
    },
    {
     "data": {
      "text/plain": "  0%|          | 0/600 [00:00<?, ?it/s]",
      "application/vnd.jupyter.widget-view+json": {
       "version_major": 2,
       "version_minor": 0,
       "model_id": "e5f73d7ce9434d74ab0e2a2eee137e0a"
      }
     },
     "metadata": {},
     "output_type": "display_data"
    },
    {
     "name": "stdout",
     "output_type": "stream",
     "text": [
      "est:  [0.79591113]\n",
      "state:  tensor([1.0559])\n",
      "epoch: 0\t loss: 2.1756365299224854\n",
      "epoch: 200\t loss: 0.10797111690044403\n",
      "epoch: 400\t loss: 0.119136281311512\n",
      "22\n"
     ]
    },
    {
     "data": {
      "text/plain": "  0%|          | 0/600 [00:00<?, ?it/s]",
      "application/vnd.jupyter.widget-view+json": {
       "version_major": 2,
       "version_minor": 0,
       "model_id": "fb6026be01214a8a90e40c2b6e13e483"
      }
     },
     "metadata": {},
     "output_type": "display_data"
    },
    {
     "name": "stdout",
     "output_type": "stream",
     "text": [
      "est:  [0.89484024]\n",
      "state:  tensor([1.0474])\n",
      "epoch: 0\t loss: 0.11904872208833694\n",
      "epoch: 200\t loss: 0.13181710243225098\n",
      "epoch: 400\t loss: 0.13893002271652222\n",
      "23\n"
     ]
    },
    {
     "data": {
      "text/plain": "  0%|          | 0/600 [00:00<?, ?it/s]",
      "application/vnd.jupyter.widget-view+json": {
       "version_major": 2,
       "version_minor": 0,
       "model_id": "54bacf5918c942f6a77a488fb8fe3234"
      }
     },
     "metadata": {},
     "output_type": "display_data"
    },
    {
     "name": "stdout",
     "output_type": "stream",
     "text": [
      "est:  [1.077711]\n",
      "state:  tensor([1.0089])\n",
      "epoch: 0\t loss: 0.1211063414812088\n",
      "epoch: 200\t loss: 0.12794266641139984\n",
      "epoch: 400\t loss: 0.10290896147489548\n",
      "24\n"
     ]
    },
    {
     "data": {
      "text/plain": "  0%|          | 0/600 [00:00<?, ?it/s]",
      "application/vnd.jupyter.widget-view+json": {
       "version_major": 2,
       "version_minor": 0,
       "model_id": "fcc442e8318e4fa1af578f0210a00204"
      }
     },
     "metadata": {},
     "output_type": "display_data"
    },
    {
     "name": "stdout",
     "output_type": "stream",
     "text": [
      "est:  [0.9044529]\n",
      "state:  tensor([0.9388])\n",
      "epoch: 0\t loss: 0.10533766448497772\n",
      "epoch: 200\t loss: 0.11506613343954086\n",
      "epoch: 400\t loss: 0.1167437881231308\n",
      "25\n"
     ]
    },
    {
     "data": {
      "text/plain": "  0%|          | 0/600 [00:00<?, ?it/s]",
      "application/vnd.jupyter.widget-view+json": {
       "version_major": 2,
       "version_minor": 0,
       "model_id": "c892469d310e4747924c2d119d23283d"
      }
     },
     "metadata": {},
     "output_type": "display_data"
    },
    {
     "name": "stdout",
     "output_type": "stream",
     "text": [
      "est:  [1.0201187]\n",
      "state:  tensor([0.9472])\n",
      "epoch: 0\t loss: 0.13082535564899445\n",
      "epoch: 200\t loss: 0.12462230026721954\n",
      "epoch: 400\t loss: 0.11902116984128952\n",
      "26\n"
     ]
    },
    {
     "data": {
      "text/plain": "  0%|          | 0/600 [00:00<?, ?it/s]",
      "application/vnd.jupyter.widget-view+json": {
       "version_major": 2,
       "version_minor": 0,
       "model_id": "8a7b6254797e477ba76d4b4e17db606a"
      }
     },
     "metadata": {},
     "output_type": "display_data"
    },
    {
     "name": "stdout",
     "output_type": "stream",
     "text": [
      "est:  [0.9767867]\n",
      "state:  tensor([0.9022])\n",
      "epoch: 0\t loss: 0.11938144266605377\n",
      "epoch: 200\t loss: 0.11615487188100815\n",
      "epoch: 400\t loss: 0.1367449313402176\n",
      "27\n"
     ]
    },
    {
     "data": {
      "text/plain": "  0%|          | 0/600 [00:00<?, ?it/s]",
      "application/vnd.jupyter.widget-view+json": {
       "version_major": 2,
       "version_minor": 0,
       "model_id": "fcadddf03a814758a44430ccbb9cf097"
      }
     },
     "metadata": {},
     "output_type": "display_data"
    },
    {
     "name": "stdout",
     "output_type": "stream",
     "text": [
      "est:  [0.6800195]\n",
      "state:  tensor([0.8771])\n",
      "epoch: 0\t loss: 0.13880713284015656\n",
      "epoch: 200\t loss: 0.13979309797286987\n",
      "epoch: 400\t loss: 0.1216379851102829\n",
      "28\n"
     ]
    },
    {
     "data": {
      "text/plain": "  0%|          | 0/600 [00:00<?, ?it/s]",
      "application/vnd.jupyter.widget-view+json": {
       "version_major": 2,
       "version_minor": 0,
       "model_id": "f210d4f311524af0be95b693210054f7"
      }
     },
     "metadata": {},
     "output_type": "display_data"
    },
    {
     "name": "stdout",
     "output_type": "stream",
     "text": [
      "est:  [0.9404236]\n",
      "state:  tensor([0.9322])\n",
      "epoch: 0\t loss: 0.149665966629982\n",
      "epoch: 200\t loss: 0.13710030913352966\n",
      "epoch: 400\t loss: 0.11905479431152344\n",
      "29\n"
     ]
    },
    {
     "data": {
      "text/plain": "  0%|          | 0/600 [00:00<?, ?it/s]",
      "application/vnd.jupyter.widget-view+json": {
       "version_major": 2,
       "version_minor": 0,
       "model_id": "1fdb58c1c25f418f9d6036993a2df6b7"
      }
     },
     "metadata": {},
     "output_type": "display_data"
    },
    {
     "name": "stdout",
     "output_type": "stream",
     "text": [
      "est:  [1.0065972]\n",
      "state:  tensor([1.0536])\n",
      "epoch: 0\t loss: 0.12819477915763855\n",
      "epoch: 200\t loss: 0.13403943181037903\n",
      "epoch: 400\t loss: 0.13401910662651062\n",
      "30\n"
     ]
    },
    {
     "data": {
      "text/plain": "  0%|          | 0/600 [00:00<?, ?it/s]",
      "application/vnd.jupyter.widget-view+json": {
       "version_major": 2,
       "version_minor": 0,
       "model_id": "f572e81694a14a5ea73065e8cdc79235"
      }
     },
     "metadata": {},
     "output_type": "display_data"
    },
    {
     "name": "stdout",
     "output_type": "stream",
     "text": [
      "est:  [0.889206]\n",
      "state:  tensor([0.9729])\n",
      "epoch: 0\t loss: 0.11014656722545624\n",
      "epoch: 200\t loss: 0.11562751978635788\n",
      "epoch: 400\t loss: 0.11870033293962479\n",
      "31\n"
     ]
    },
    {
     "data": {
      "text/plain": "  0%|          | 0/600 [00:00<?, ?it/s]",
      "application/vnd.jupyter.widget-view+json": {
       "version_major": 2,
       "version_minor": 0,
       "model_id": "e67926cd301747528b31cadcf30297f8"
      }
     },
     "metadata": {},
     "output_type": "display_data"
    },
    {
     "name": "stdout",
     "output_type": "stream",
     "text": [
      "est:  [0.92510444]\n",
      "state:  tensor([1.0905])\n",
      "epoch: 0\t loss: 0.12754569947719574\n",
      "epoch: 200\t loss: 0.11242787539958954\n",
      "epoch: 400\t loss: 0.11716651171445847\n",
      "32\n"
     ]
    },
    {
     "data": {
      "text/plain": "  0%|          | 0/600 [00:00<?, ?it/s]",
      "application/vnd.jupyter.widget-view+json": {
       "version_major": 2,
       "version_minor": 0,
       "model_id": "1169f04e77e24039823505a3be32862f"
      }
     },
     "metadata": {},
     "output_type": "display_data"
    },
    {
     "name": "stdout",
     "output_type": "stream",
     "text": [
      "est:  [0.8339977]\n",
      "state:  tensor([1.0391])\n",
      "epoch: 0\t loss: 0.1257690191268921\n",
      "epoch: 200\t loss: 0.12164134532213211\n",
      "epoch: 400\t loss: 0.11806156486272812\n",
      "33\n"
     ]
    },
    {
     "data": {
      "text/plain": "  0%|          | 0/600 [00:00<?, ?it/s]",
      "application/vnd.jupyter.widget-view+json": {
       "version_major": 2,
       "version_minor": 0,
       "model_id": "bce2b9bf243442c9a6e6d480b6c7cb89"
      }
     },
     "metadata": {},
     "output_type": "display_data"
    },
    {
     "name": "stdout",
     "output_type": "stream",
     "text": [
      "est:  [1.0880548]\n",
      "state:  tensor([1.0776])\n",
      "epoch: 0\t loss: 0.1407424956560135\n",
      "epoch: 200\t loss: 0.15814080834388733\n",
      "epoch: 400\t loss: 0.13042132556438446\n",
      "34\n"
     ]
    },
    {
     "data": {
      "text/plain": "  0%|          | 0/600 [00:00<?, ?it/s]",
      "application/vnd.jupyter.widget-view+json": {
       "version_major": 2,
       "version_minor": 0,
       "model_id": "35416e328875444a8590e859f4fcc869"
      }
     },
     "metadata": {},
     "output_type": "display_data"
    },
    {
     "name": "stdout",
     "output_type": "stream",
     "text": [
      "est:  [1.0998533]\n",
      "state:  tensor([1.0148])\n",
      "epoch: 0\t loss: 0.1589278280735016\n",
      "epoch: 200\t loss: 0.1475316882133484\n",
      "epoch: 400\t loss: 0.09904804080724716\n",
      "35\n"
     ]
    },
    {
     "data": {
      "text/plain": "  0%|          | 0/600 [00:00<?, ?it/s]",
      "application/vnd.jupyter.widget-view+json": {
       "version_major": 2,
       "version_minor": 0,
       "model_id": "835a1829b9704a3a9642abcb280147ba"
      }
     },
     "metadata": {},
     "output_type": "display_data"
    },
    {
     "name": "stdout",
     "output_type": "stream",
     "text": [
      "est:  [1.0455995]\n",
      "state:  tensor([0.9582])\n",
      "epoch: 0\t loss: 0.12781871855258942\n",
      "epoch: 200\t loss: 0.11426638811826706\n",
      "epoch: 400\t loss: 0.1298884153366089\n",
      "36\n"
     ]
    },
    {
     "data": {
      "text/plain": "  0%|          | 0/600 [00:00<?, ?it/s]",
      "application/vnd.jupyter.widget-view+json": {
       "version_major": 2,
       "version_minor": 0,
       "model_id": "2db1bfb172724b8b903b1f9fe658a149"
      }
     },
     "metadata": {},
     "output_type": "display_data"
    },
    {
     "name": "stdout",
     "output_type": "stream",
     "text": [
      "est:  [0.9763422]\n",
      "state:  tensor([0.9773])\n",
      "epoch: 0\t loss: 0.13670599460601807\n",
      "epoch: 200\t loss: 0.13801702857017517\n",
      "epoch: 400\t loss: 0.14382170140743256\n",
      "37\n"
     ]
    },
    {
     "data": {
      "text/plain": "  0%|          | 0/600 [00:00<?, ?it/s]",
      "application/vnd.jupyter.widget-view+json": {
       "version_major": 2,
       "version_minor": 0,
       "model_id": "f0193e1e8b3040e0984b5fa2b623cec3"
      }
     },
     "metadata": {},
     "output_type": "display_data"
    },
    {
     "name": "stdout",
     "output_type": "stream",
     "text": [
      "est:  [1.1105684]\n",
      "state:  tensor([1.1540])\n",
      "epoch: 0\t loss: 0.12240058928728104\n",
      "epoch: 200\t loss: 0.13803525269031525\n",
      "epoch: 400\t loss: 0.11318770051002502\n",
      "38\n"
     ]
    },
    {
     "data": {
      "text/plain": "  0%|          | 0/600 [00:00<?, ?it/s]",
      "application/vnd.jupyter.widget-view+json": {
       "version_major": 2,
       "version_minor": 0,
       "model_id": "406ee109b95d4f8aab898a251b28b079"
      }
     },
     "metadata": {},
     "output_type": "display_data"
    },
    {
     "name": "stdout",
     "output_type": "stream",
     "text": [
      "est:  [1.0051011]\n",
      "state:  tensor([0.9799])\n",
      "epoch: 0\t loss: 0.14120692014694214\n",
      "epoch: 200\t loss: 0.10542839765548706\n",
      "epoch: 400\t loss: 0.12337283790111542\n",
      "39\n"
     ]
    },
    {
     "data": {
      "text/plain": "  0%|          | 0/600 [00:00<?, ?it/s]",
      "application/vnd.jupyter.widget-view+json": {
       "version_major": 2,
       "version_minor": 0,
       "model_id": "851530ddefb84dfc82d0dcfd379ca1b5"
      }
     },
     "metadata": {},
     "output_type": "display_data"
    },
    {
     "name": "stdout",
     "output_type": "stream",
     "text": [
      "est:  [0.9345849]\n",
      "state:  tensor([0.9366])\n",
      "epoch: 0\t loss: 0.13011562824249268\n",
      "epoch: 200\t loss: 0.12715113162994385\n",
      "epoch: 400\t loss: 0.13033537566661835\n",
      "40\n"
     ]
    },
    {
     "data": {
      "text/plain": "  0%|          | 0/600 [00:00<?, ?it/s]",
      "application/vnd.jupyter.widget-view+json": {
       "version_major": 2,
       "version_minor": 0,
       "model_id": "fe7db63faceb471cb805d00502837d68"
      }
     },
     "metadata": {},
     "output_type": "display_data"
    },
    {
     "name": "stdout",
     "output_type": "stream",
     "text": [
      "est:  [0.90849876]\n",
      "state:  tensor([0.9027])\n",
      "epoch: 0\t loss: 0.13205954432487488\n",
      "epoch: 200\t loss: 0.14037127792835236\n",
      "epoch: 400\t loss: 0.12489689886569977\n",
      "41\n"
     ]
    },
    {
     "data": {
      "text/plain": "  0%|          | 0/600 [00:00<?, ?it/s]",
      "application/vnd.jupyter.widget-view+json": {
       "version_major": 2,
       "version_minor": 0,
       "model_id": "4f22925018f647368a2c16f0ba2ad805"
      }
     },
     "metadata": {},
     "output_type": "display_data"
    },
    {
     "name": "stdout",
     "output_type": "stream",
     "text": [
      "est:  [-0.65375715]\n",
      "state:  tensor([-0.8865])\n",
      "epoch: 0\t loss: 1.891226053237915\n",
      "epoch: 200\t loss: 0.13553045690059662\n",
      "epoch: 400\t loss: 0.11736726760864258\n",
      "42\n"
     ]
    },
    {
     "data": {
      "text/plain": "  0%|          | 0/600 [00:00<?, ?it/s]",
      "application/vnd.jupyter.widget-view+json": {
       "version_major": 2,
       "version_minor": 0,
       "model_id": "23e353800c504d678651be9723cf63b4"
      }
     },
     "metadata": {},
     "output_type": "display_data"
    },
    {
     "name": "stdout",
     "output_type": "stream",
     "text": [
      "est:  [-0.80858064]\n",
      "state:  tensor([-0.9115])\n",
      "epoch: 0\t loss: 0.12672583758831024\n",
      "epoch: 200\t loss: 0.11882820725440979\n",
      "epoch: 400\t loss: 0.13202722370624542\n",
      "43\n"
     ]
    },
    {
     "data": {
      "text/plain": "  0%|          | 0/600 [00:00<?, ?it/s]",
      "application/vnd.jupyter.widget-view+json": {
       "version_major": 2,
       "version_minor": 0,
       "model_id": "8d4791ccf5534084b48cc79aacb711cb"
      }
     },
     "metadata": {},
     "output_type": "display_data"
    },
    {
     "name": "stdout",
     "output_type": "stream",
     "text": [
      "est:  [-1.0393858]\n",
      "state:  tensor([-0.9904])\n",
      "epoch: 0\t loss: 0.1447065770626068\n",
      "epoch: 200\t loss: 0.12418147921562195\n",
      "epoch: 400\t loss: 0.1352168172597885\n",
      "44\n"
     ]
    },
    {
     "data": {
      "text/plain": "  0%|          | 0/600 [00:00<?, ?it/s]",
      "application/vnd.jupyter.widget-view+json": {
       "version_major": 2,
       "version_minor": 0,
       "model_id": "67829c7386724387a1ff6335b29f044e"
      }
     },
     "metadata": {},
     "output_type": "display_data"
    },
    {
     "name": "stdout",
     "output_type": "stream",
     "text": [
      "est:  [-0.942254]\n",
      "state:  tensor([-0.9301])\n",
      "epoch: 0\t loss: 0.11628380417823792\n",
      "epoch: 200\t loss: 0.12976433336734772\n",
      "epoch: 400\t loss: 0.10873575508594513\n",
      "45\n"
     ]
    },
    {
     "data": {
      "text/plain": "  0%|          | 0/600 [00:00<?, ?it/s]",
      "application/vnd.jupyter.widget-view+json": {
       "version_major": 2,
       "version_minor": 0,
       "model_id": "39384033bd224bec8c2243428a4d2919"
      }
     },
     "metadata": {},
     "output_type": "display_data"
    },
    {
     "name": "stdout",
     "output_type": "stream",
     "text": [
      "est:  [-1.0562153]\n",
      "state:  tensor([-0.8755])\n",
      "epoch: 0\t loss: 0.11126220226287842\n",
      "epoch: 200\t loss: 0.12608087062835693\n",
      "epoch: 400\t loss: 0.13065935671329498\n",
      "46\n"
     ]
    },
    {
     "data": {
      "text/plain": "  0%|          | 0/600 [00:00<?, ?it/s]",
      "application/vnd.jupyter.widget-view+json": {
       "version_major": 2,
       "version_minor": 0,
       "model_id": "224d8b09d9494c9e8705e231633f13b8"
      }
     },
     "metadata": {},
     "output_type": "display_data"
    },
    {
     "name": "stdout",
     "output_type": "stream",
     "text": [
      "est:  [-0.9821083]\n",
      "state:  tensor([-1.0083])\n",
      "epoch: 0\t loss: 0.13389694690704346\n",
      "epoch: 200\t loss: 0.11602672934532166\n",
      "epoch: 400\t loss: 0.1312139928340912\n",
      "47\n"
     ]
    },
    {
     "data": {
      "text/plain": "  0%|          | 0/600 [00:00<?, ?it/s]",
      "application/vnd.jupyter.widget-view+json": {
       "version_major": 2,
       "version_minor": 0,
       "model_id": "d96074689cc547f2b1cf6a7125c840ed"
      }
     },
     "metadata": {},
     "output_type": "display_data"
    },
    {
     "name": "stdout",
     "output_type": "stream",
     "text": [
      "est:  [-0.88851947]\n",
      "state:  tensor([-0.9193])\n",
      "epoch: 0\t loss: 0.11294428259134293\n",
      "epoch: 200\t loss: 0.12314089387655258\n",
      "epoch: 400\t loss: 0.11270346492528915\n",
      "48\n"
     ]
    },
    {
     "data": {
      "text/plain": "  0%|          | 0/600 [00:00<?, ?it/s]",
      "application/vnd.jupyter.widget-view+json": {
       "version_major": 2,
       "version_minor": 0,
       "model_id": "a49cd3e37a044ed4906e86af26f2db3f"
      }
     },
     "metadata": {},
     "output_type": "display_data"
    },
    {
     "name": "stdout",
     "output_type": "stream",
     "text": [
      "est:  [-1.0656453]\n",
      "state:  tensor([-1.0840])\n",
      "epoch: 0\t loss: 0.1330839842557907\n",
      "epoch: 200\t loss: 0.1358702927827835\n",
      "epoch: 400\t loss: 0.13423185050487518\n",
      "49\n"
     ]
    },
    {
     "data": {
      "text/plain": "  0%|          | 0/600 [00:00<?, ?it/s]",
      "application/vnd.jupyter.widget-view+json": {
       "version_major": 2,
       "version_minor": 0,
       "model_id": "38a29b291a32448d84a4654aeb431e03"
      }
     },
     "metadata": {},
     "output_type": "display_data"
    },
    {
     "name": "stdout",
     "output_type": "stream",
     "text": [
      "est:  [-1.1833863]\n",
      "state:  tensor([-1.0782])\n",
      "epoch: 0\t loss: 0.1399957239627838\n",
      "epoch: 200\t loss: 0.13321568071842194\n",
      "epoch: 400\t loss: 0.12924060225486755\n",
      "50\n"
     ]
    },
    {
     "data": {
      "text/plain": "  0%|          | 0/600 [00:00<?, ?it/s]",
      "application/vnd.jupyter.widget-view+json": {
       "version_major": 2,
       "version_minor": 0,
       "model_id": "e7dff14a2ea64a449fb9d6b823386e34"
      }
     },
     "metadata": {},
     "output_type": "display_data"
    },
    {
     "name": "stdout",
     "output_type": "stream",
     "text": [
      "est:  [-0.97940785]\n",
      "state:  tensor([-0.9493])\n",
      "epoch: 0\t loss: 0.10890480875968933\n",
      "epoch: 200\t loss: 0.10856232792139053\n",
      "epoch: 400\t loss: 0.1328575313091278\n",
      "51\n"
     ]
    },
    {
     "data": {
      "text/plain": "  0%|          | 0/600 [00:00<?, ?it/s]",
      "application/vnd.jupyter.widget-view+json": {
       "version_major": 2,
       "version_minor": 0,
       "model_id": "f76342819e2b45f99389804206df27d4"
      }
     },
     "metadata": {},
     "output_type": "display_data"
    },
    {
     "name": "stdout",
     "output_type": "stream",
     "text": [
      "est:  [-0.8653167]\n",
      "state:  tensor([-0.9558])\n",
      "epoch: 0\t loss: 0.1385633498430252\n",
      "epoch: 200\t loss: 0.11306051164865494\n",
      "epoch: 400\t loss: 0.10371079295873642\n",
      "52\n"
     ]
    },
    {
     "data": {
      "text/plain": "  0%|          | 0/600 [00:00<?, ?it/s]",
      "application/vnd.jupyter.widget-view+json": {
       "version_major": 2,
       "version_minor": 0,
       "model_id": "65d8c52f08534ecab163027a623e9f29"
      }
     },
     "metadata": {},
     "output_type": "display_data"
    },
    {
     "name": "stdout",
     "output_type": "stream",
     "text": [
      "est:  [-0.78881127]\n",
      "state:  tensor([-0.9584])\n",
      "epoch: 0\t loss: 0.1089932844042778\n",
      "epoch: 200\t loss: 0.13209323585033417\n",
      "epoch: 400\t loss: 0.14204056560993195\n",
      "53\n"
     ]
    },
    {
     "data": {
      "text/plain": "  0%|          | 0/600 [00:00<?, ?it/s]",
      "application/vnd.jupyter.widget-view+json": {
       "version_major": 2,
       "version_minor": 0,
       "model_id": "2b7b2273e51a473bb3df8fb5d4382528"
      }
     },
     "metadata": {},
     "output_type": "display_data"
    },
    {
     "name": "stdout",
     "output_type": "stream",
     "text": [
      "est:  [-0.9399022]\n",
      "state:  tensor([-0.9704])\n",
      "epoch: 0\t loss: 0.1247069239616394\n",
      "epoch: 200\t loss: 0.11413445323705673\n",
      "epoch: 400\t loss: 0.11164335906505585\n",
      "54\n"
     ]
    },
    {
     "data": {
      "text/plain": "  0%|          | 0/600 [00:00<?, ?it/s]",
      "application/vnd.jupyter.widget-view+json": {
       "version_major": 2,
       "version_minor": 0,
       "model_id": "14efde9b32fd40e9a9c261a5cc472702"
      }
     },
     "metadata": {},
     "output_type": "display_data"
    },
    {
     "name": "stdout",
     "output_type": "stream",
     "text": [
      "est:  [-1.2176435]\n",
      "state:  tensor([-0.9665])\n",
      "epoch: 0\t loss: 0.11573819816112518\n",
      "epoch: 200\t loss: 0.11038709431886673\n",
      "epoch: 400\t loss: 0.12409273535013199\n",
      "55\n"
     ]
    },
    {
     "data": {
      "text/plain": "  0%|          | 0/600 [00:00<?, ?it/s]",
      "application/vnd.jupyter.widget-view+json": {
       "version_major": 2,
       "version_minor": 0,
       "model_id": "dd75b75eb5ad4852884092a881dcee9e"
      }
     },
     "metadata": {},
     "output_type": "display_data"
    },
    {
     "name": "stdout",
     "output_type": "stream",
     "text": [
      "est:  [-0.9827629]\n",
      "state:  tensor([-0.9473])\n",
      "epoch: 0\t loss: 0.12182080745697021\n",
      "epoch: 200\t loss: 0.12419740110635757\n",
      "epoch: 400\t loss: 0.13940151035785675\n",
      "56\n"
     ]
    },
    {
     "data": {
      "text/plain": "  0%|          | 0/600 [00:00<?, ?it/s]",
      "application/vnd.jupyter.widget-view+json": {
       "version_major": 2,
       "version_minor": 0,
       "model_id": "b08d4770eed8469b98e31525cbfb28b1"
      }
     },
     "metadata": {},
     "output_type": "display_data"
    },
    {
     "name": "stdout",
     "output_type": "stream",
     "text": [
      "est:  [-0.8995751]\n",
      "state:  tensor([-0.9154])\n",
      "epoch: 0\t loss: 0.14170782268047333\n",
      "epoch: 200\t loss: 0.12732678651809692\n",
      "epoch: 400\t loss: 0.12890195846557617\n",
      "57\n"
     ]
    },
    {
     "data": {
      "text/plain": "  0%|          | 0/600 [00:00<?, ?it/s]",
      "application/vnd.jupyter.widget-view+json": {
       "version_major": 2,
       "version_minor": 0,
       "model_id": "6b9bdcf80f09495cb19741f4119e0c29"
      }
     },
     "metadata": {},
     "output_type": "display_data"
    },
    {
     "name": "stdout",
     "output_type": "stream",
     "text": [
      "est:  [-1.0596988]\n",
      "state:  tensor([-1.0652])\n",
      "epoch: 0\t loss: 0.12484560161828995\n",
      "epoch: 200\t loss: 0.11897852271795273\n",
      "epoch: 400\t loss: 0.1406625211238861\n",
      "58\n"
     ]
    },
    {
     "data": {
      "text/plain": "  0%|          | 0/600 [00:00<?, ?it/s]",
      "application/vnd.jupyter.widget-view+json": {
       "version_major": 2,
       "version_minor": 0,
       "model_id": "9df70812556e4ae5816a61a858fe0c72"
      }
     },
     "metadata": {},
     "output_type": "display_data"
    },
    {
     "name": "stdout",
     "output_type": "stream",
     "text": [
      "est:  [-1.0234346]\n",
      "state:  tensor([-0.9847])\n",
      "epoch: 0\t loss: 0.14977869391441345\n",
      "epoch: 200\t loss: 0.10052572190761566\n",
      "epoch: 400\t loss: 0.11896232515573502\n",
      "59\n"
     ]
    },
    {
     "data": {
      "text/plain": "  0%|          | 0/600 [00:00<?, ?it/s]",
      "application/vnd.jupyter.widget-view+json": {
       "version_major": 2,
       "version_minor": 0,
       "model_id": "ea7bb891696f4825bc027c103c702ad9"
      }
     },
     "metadata": {},
     "output_type": "display_data"
    },
    {
     "name": "stdout",
     "output_type": "stream",
     "text": [
      "est:  [-1.0006111]\n",
      "state:  tensor([-1.0226])\n",
      "epoch: 0\t loss: 0.12487839162349701\n",
      "epoch: 200\t loss: 0.10371268540620804\n",
      "epoch: 400\t loss: 0.12724943459033966\n",
      "60\n"
     ]
    },
    {
     "data": {
      "text/plain": "  0%|          | 0/600 [00:00<?, ?it/s]",
      "application/vnd.jupyter.widget-view+json": {
       "version_major": 2,
       "version_minor": 0,
       "model_id": "8b559a60e8554bca9513e84a06d1929a"
      }
     },
     "metadata": {},
     "output_type": "display_data"
    },
    {
     "name": "stdout",
     "output_type": "stream",
     "text": [
      "est:  [-1.0685462]\n",
      "state:  tensor([-1.0090])\n",
      "epoch: 0\t loss: 0.13787619769573212\n",
      "epoch: 200\t loss: 0.13809584081172943\n",
      "epoch: 400\t loss: 0.11429169028997421\n",
      "61\n"
     ]
    },
    {
     "data": {
      "text/plain": "  0%|          | 0/600 [00:00<?, ?it/s]",
      "application/vnd.jupyter.widget-view+json": {
       "version_major": 2,
       "version_minor": 0,
       "model_id": "d83d75d905d84f4db09d1adf2f048381"
      }
     },
     "metadata": {},
     "output_type": "display_data"
    },
    {
     "name": "stdout",
     "output_type": "stream",
     "text": [
      "est:  [0.7284994]\n",
      "state:  tensor([1.0776])\n",
      "epoch: 0\t loss: 2.1033623218536377\n",
      "epoch: 200\t loss: 0.10906592011451721\n",
      "epoch: 400\t loss: 0.1119554191827774\n",
      "62\n"
     ]
    },
    {
     "data": {
      "text/plain": "  0%|          | 0/600 [00:00<?, ?it/s]",
      "application/vnd.jupyter.widget-view+json": {
       "version_major": 2,
       "version_minor": 0,
       "model_id": "5002e70e918444abb1f10f2ec49bb15c"
      }
     },
     "metadata": {},
     "output_type": "display_data"
    },
    {
     "name": "stdout",
     "output_type": "stream",
     "text": [
      "est:  [0.88126457]\n",
      "state:  tensor([1.0021])\n",
      "epoch: 0\t loss: 0.11862709373235703\n",
      "epoch: 200\t loss: 0.14062923192977905\n",
      "epoch: 400\t loss: 0.12259677797555923\n",
      "63\n"
     ]
    },
    {
     "data": {
      "text/plain": "  0%|          | 0/600 [00:00<?, ?it/s]",
      "application/vnd.jupyter.widget-view+json": {
       "version_major": 2,
       "version_minor": 0,
       "model_id": "6a2eeb0188b340e18f311810978bbd9f"
      }
     },
     "metadata": {},
     "output_type": "display_data"
    },
    {
     "name": "stdout",
     "output_type": "stream",
     "text": [
      "est:  [1.0864968]\n",
      "state:  tensor([0.9736])\n",
      "epoch: 0\t loss: 0.136334627866745\n",
      "epoch: 200\t loss: 0.12232659012079239\n",
      "epoch: 400\t loss: 0.12594489753246307\n",
      "64\n"
     ]
    },
    {
     "data": {
      "text/plain": "  0%|          | 0/600 [00:00<?, ?it/s]",
      "application/vnd.jupyter.widget-view+json": {
       "version_major": 2,
       "version_minor": 0,
       "model_id": "b428b3a16fcc4d628e699653d5616aae"
      }
     },
     "metadata": {},
     "output_type": "display_data"
    },
    {
     "name": "stdout",
     "output_type": "stream",
     "text": [
      "est:  [1.071187]\n",
      "state:  tensor([1.0008])\n",
      "epoch: 0\t loss: 0.11930420994758606\n",
      "epoch: 200\t loss: 0.11200980097055435\n",
      "epoch: 400\t loss: 0.12480530142784119\n",
      "65\n"
     ]
    },
    {
     "data": {
      "text/plain": "  0%|          | 0/600 [00:00<?, ?it/s]",
      "application/vnd.jupyter.widget-view+json": {
       "version_major": 2,
       "version_minor": 0,
       "model_id": "9a7cbf0be5fd4bdbab81efa8a7e56d88"
      }
     },
     "metadata": {},
     "output_type": "display_data"
    },
    {
     "name": "stdout",
     "output_type": "stream",
     "text": [
      "est:  [0.86203253]\n",
      "state:  tensor([0.9693])\n",
      "epoch: 0\t loss: 0.12234687060117722\n",
      "epoch: 200\t loss: 0.13995057344436646\n",
      "epoch: 400\t loss: 0.13568134605884552\n",
      "66\n"
     ]
    },
    {
     "data": {
      "text/plain": "  0%|          | 0/600 [00:00<?, ?it/s]",
      "application/vnd.jupyter.widget-view+json": {
       "version_major": 2,
       "version_minor": 0,
       "model_id": "796a2753f3634f77901e14dd98cf9c19"
      }
     },
     "metadata": {},
     "output_type": "display_data"
    },
    {
     "name": "stdout",
     "output_type": "stream",
     "text": [
      "est:  [0.85829234]\n",
      "state:  tensor([0.9412])\n",
      "epoch: 0\t loss: 0.1271563172340393\n",
      "epoch: 200\t loss: 0.12381772696971893\n",
      "epoch: 400\t loss: 0.11859508603811264\n",
      "67\n"
     ]
    },
    {
     "data": {
      "text/plain": "  0%|          | 0/600 [00:00<?, ?it/s]",
      "application/vnd.jupyter.widget-view+json": {
       "version_major": 2,
       "version_minor": 0,
       "model_id": "1ff87105f23046eabf99bacd0eb1d459"
      }
     },
     "metadata": {},
     "output_type": "display_data"
    },
    {
     "name": "stdout",
     "output_type": "stream",
     "text": [
      "est:  [0.9219394]\n",
      "state:  tensor([1.0037])\n",
      "epoch: 0\t loss: 0.1137133538722992\n",
      "epoch: 200\t loss: 0.11422954499721527\n",
      "epoch: 400\t loss: 0.11042477935552597\n",
      "68\n"
     ]
    },
    {
     "data": {
      "text/plain": "  0%|          | 0/600 [00:00<?, ?it/s]",
      "application/vnd.jupyter.widget-view+json": {
       "version_major": 2,
       "version_minor": 0,
       "model_id": "52b911cfc90e4e50a6ab9b012e74c5c8"
      }
     },
     "metadata": {},
     "output_type": "display_data"
    },
    {
     "name": "stdout",
     "output_type": "stream",
     "text": [
      "est:  [1.0412322]\n",
      "state:  tensor([1.0115])\n",
      "epoch: 0\t loss: 0.14326933026313782\n",
      "epoch: 200\t loss: 0.1403193175792694\n",
      "epoch: 400\t loss: 0.11258117109537125\n",
      "69\n"
     ]
    },
    {
     "data": {
      "text/plain": "  0%|          | 0/600 [00:00<?, ?it/s]",
      "application/vnd.jupyter.widget-view+json": {
       "version_major": 2,
       "version_minor": 0,
       "model_id": "237fad01415247f886ecee171ce69847"
      }
     },
     "metadata": {},
     "output_type": "display_data"
    },
    {
     "name": "stdout",
     "output_type": "stream",
     "text": [
      "est:  [1.0880176]\n",
      "state:  tensor([1.0017])\n",
      "epoch: 0\t loss: 0.13366366922855377\n",
      "epoch: 200\t loss: 0.12918780744075775\n",
      "epoch: 400\t loss: 0.11603125184774399\n",
      "70\n"
     ]
    },
    {
     "data": {
      "text/plain": "  0%|          | 0/600 [00:00<?, ?it/s]",
      "application/vnd.jupyter.widget-view+json": {
       "version_major": 2,
       "version_minor": 0,
       "model_id": "0cce212ed8d844cea03012a38be2fb5d"
      }
     },
     "metadata": {},
     "output_type": "display_data"
    },
    {
     "name": "stdout",
     "output_type": "stream",
     "text": [
      "est:  [0.94630265]\n",
      "state:  tensor([1.0056])\n",
      "epoch: 0\t loss: 0.11056166887283325\n",
      "epoch: 200\t loss: 0.1126430556178093\n",
      "epoch: 400\t loss: 0.14426939189434052\n",
      "71\n"
     ]
    },
    {
     "data": {
      "text/plain": "  0%|          | 0/600 [00:00<?, ?it/s]",
      "application/vnd.jupyter.widget-view+json": {
       "version_major": 2,
       "version_minor": 0,
       "model_id": "3af02215133c49b8b381713aadb08e44"
      }
     },
     "metadata": {},
     "output_type": "display_data"
    },
    {
     "name": "stdout",
     "output_type": "stream",
     "text": [
      "est:  [0.9046547]\n",
      "state:  tensor([0.9937])\n",
      "epoch: 0\t loss: 0.11737325042486191\n",
      "epoch: 200\t loss: 0.11435522139072418\n",
      "epoch: 400\t loss: 0.12931622564792633\n",
      "72\n"
     ]
    },
    {
     "data": {
      "text/plain": "  0%|          | 0/600 [00:00<?, ?it/s]",
      "application/vnd.jupyter.widget-view+json": {
       "version_major": 2,
       "version_minor": 0,
       "model_id": "af0e90b2a02d494aaf7e4cf4cb32698c"
      }
     },
     "metadata": {},
     "output_type": "display_data"
    },
    {
     "name": "stdout",
     "output_type": "stream",
     "text": [
      "est:  [0.94438666]\n",
      "state:  tensor([0.9511])\n",
      "epoch: 0\t loss: 0.13376428186893463\n",
      "epoch: 200\t loss: 0.11645491421222687\n",
      "epoch: 400\t loss: 0.14302393794059753\n",
      "73\n"
     ]
    },
    {
     "data": {
      "text/plain": "  0%|          | 0/600 [00:00<?, ?it/s]",
      "application/vnd.jupyter.widget-view+json": {
       "version_major": 2,
       "version_minor": 0,
       "model_id": "6c3b9a241f7c4401b30d9c56da39891f"
      }
     },
     "metadata": {},
     "output_type": "display_data"
    },
    {
     "name": "stdout",
     "output_type": "stream",
     "text": [
      "est:  [1.0843643]\n",
      "state:  tensor([0.9890])\n",
      "epoch: 0\t loss: 0.12450742721557617\n",
      "epoch: 200\t loss: 0.11518621444702148\n",
      "epoch: 400\t loss: 0.10889732837677002\n",
      "74\n"
     ]
    },
    {
     "data": {
      "text/plain": "  0%|          | 0/600 [00:00<?, ?it/s]",
      "application/vnd.jupyter.widget-view+json": {
       "version_major": 2,
       "version_minor": 0,
       "model_id": "5a746ae68be845f8b1515a0c28245635"
      }
     },
     "metadata": {},
     "output_type": "display_data"
    },
    {
     "name": "stdout",
     "output_type": "stream",
     "text": [
      "est:  [0.97019583]\n",
      "state:  tensor([1.0849])\n",
      "epoch: 0\t loss: 0.1202116459608078\n",
      "epoch: 200\t loss: 0.12100913375616074\n",
      "epoch: 400\t loss: 0.13360807299613953\n",
      "75\n"
     ]
    },
    {
     "data": {
      "text/plain": "  0%|          | 0/600 [00:00<?, ?it/s]",
      "application/vnd.jupyter.widget-view+json": {
       "version_major": 2,
       "version_minor": 0,
       "model_id": "48543dffc8fa4c2d9fa42ab68a748cdb"
      }
     },
     "metadata": {},
     "output_type": "display_data"
    },
    {
     "name": "stdout",
     "output_type": "stream",
     "text": [
      "est:  [1.1038336]\n",
      "state:  tensor([1.0085])\n",
      "epoch: 0\t loss: 0.13491058349609375\n",
      "epoch: 200\t loss: 0.12419939041137695\n",
      "epoch: 400\t loss: 0.1375022530555725\n",
      "76\n"
     ]
    },
    {
     "data": {
      "text/plain": "  0%|          | 0/600 [00:00<?, ?it/s]",
      "application/vnd.jupyter.widget-view+json": {
       "version_major": 2,
       "version_minor": 0,
       "model_id": "d902ab6f9841431d923ea5ccf76f9509"
      }
     },
     "metadata": {},
     "output_type": "display_data"
    },
    {
     "name": "stdout",
     "output_type": "stream",
     "text": [
      "est:  [1.0481974]\n",
      "state:  tensor([0.9667])\n",
      "epoch: 0\t loss: 0.11352141201496124\n",
      "epoch: 200\t loss: 0.10768584907054901\n",
      "epoch: 400\t loss: 0.11464047431945801\n",
      "77\n"
     ]
    },
    {
     "data": {
      "text/plain": "  0%|          | 0/600 [00:00<?, ?it/s]",
      "application/vnd.jupyter.widget-view+json": {
       "version_major": 2,
       "version_minor": 0,
       "model_id": "b335de03eae44faa963ef6404fcb5046"
      }
     },
     "metadata": {},
     "output_type": "display_data"
    },
    {
     "name": "stdout",
     "output_type": "stream",
     "text": [
      "est:  [1.027233]\n",
      "state:  tensor([0.9360])\n",
      "epoch: 0\t loss: 0.14559894800186157\n",
      "epoch: 200\t loss: 0.14533783495426178\n",
      "epoch: 400\t loss: 0.1148630902171135\n",
      "78\n"
     ]
    },
    {
     "data": {
      "text/plain": "  0%|          | 0/600 [00:00<?, ?it/s]",
      "application/vnd.jupyter.widget-view+json": {
       "version_major": 2,
       "version_minor": 0,
       "model_id": "c5a44196628c4db9b8e5b04381a64727"
      }
     },
     "metadata": {},
     "output_type": "display_data"
    },
    {
     "name": "stdout",
     "output_type": "stream",
     "text": [
      "est:  [1.0867947]\n",
      "state:  tensor([1.0483])\n",
      "epoch: 0\t loss: 0.1392046958208084\n",
      "epoch: 200\t loss: 0.13618652522563934\n",
      "epoch: 400\t loss: 0.1012570932507515\n",
      "79\n"
     ]
    },
    {
     "data": {
      "text/plain": "  0%|          | 0/600 [00:00<?, ?it/s]",
      "application/vnd.jupyter.widget-view+json": {
       "version_major": 2,
       "version_minor": 0,
       "model_id": "1304a57215e7443ba34ea607f7f23cd4"
      }
     },
     "metadata": {},
     "output_type": "display_data"
    },
    {
     "name": "stdout",
     "output_type": "stream",
     "text": [
      "est:  [0.8697427]\n",
      "state:  tensor([1.0871])\n",
      "epoch: 0\t loss: 0.1158079206943512\n",
      "epoch: 200\t loss: 0.1314719021320343\n",
      "epoch: 400\t loss: 0.11491244286298752\n",
      "80\n"
     ]
    },
    {
     "data": {
      "text/plain": "  0%|          | 0/600 [00:00<?, ?it/s]",
      "application/vnd.jupyter.widget-view+json": {
       "version_major": 2,
       "version_minor": 0,
       "model_id": "641971bc55f74f95ba52047ae1461ab5"
      }
     },
     "metadata": {},
     "output_type": "display_data"
    },
    {
     "name": "stdout",
     "output_type": "stream",
     "text": [
      "est:  [1.1195909]\n",
      "state:  tensor([1.0638])\n",
      "epoch: 0\t loss: 0.14763036370277405\n",
      "epoch: 200\t loss: 0.14002688229084015\n",
      "epoch: 400\t loss: 0.11513633280992508\n",
      "81\n"
     ]
    },
    {
     "data": {
      "text/plain": "  0%|          | 0/600 [00:00<?, ?it/s]",
      "application/vnd.jupyter.widget-view+json": {
       "version_major": 2,
       "version_minor": 0,
       "model_id": "26d65904f604487e934db3ef40257594"
      }
     },
     "metadata": {},
     "output_type": "display_data"
    },
    {
     "name": "stdout",
     "output_type": "stream",
     "text": [
      "est:  [-0.99214983]\n",
      "state:  tensor([-1.0548])\n",
      "epoch: 0\t loss: 2.322819709777832\n",
      "epoch: 200\t loss: 0.12598755955696106\n",
      "epoch: 400\t loss: 0.10330630838871002\n",
      "82\n"
     ]
    },
    {
     "data": {
      "text/plain": "  0%|          | 0/600 [00:00<?, ?it/s]",
      "application/vnd.jupyter.widget-view+json": {
       "version_major": 2,
       "version_minor": 0,
       "model_id": "5716b7185d8340dab2bdd778a1084aee"
      }
     },
     "metadata": {},
     "output_type": "display_data"
    },
    {
     "name": "stdout",
     "output_type": "stream",
     "text": [
      "est:  [-1.0127841]\n",
      "state:  tensor([-0.9084])\n",
      "epoch: 0\t loss: 0.1128210797905922\n",
      "epoch: 200\t loss: 0.11604609340429306\n",
      "epoch: 400\t loss: 0.11361948400735855\n",
      "83\n"
     ]
    },
    {
     "data": {
      "text/plain": "  0%|          | 0/600 [00:00<?, ?it/s]",
      "application/vnd.jupyter.widget-view+json": {
       "version_major": 2,
       "version_minor": 0,
       "model_id": "458933f1c7ba4c479b50869be067d8c8"
      }
     },
     "metadata": {},
     "output_type": "display_data"
    },
    {
     "name": "stdout",
     "output_type": "stream",
     "text": [
      "est:  [-1.0376219]\n",
      "state:  tensor([-0.9428])\n",
      "epoch: 0\t loss: 0.1461455076932907\n",
      "epoch: 200\t loss: 0.1416831612586975\n",
      "epoch: 400\t loss: 0.1349787712097168\n",
      "84\n"
     ]
    },
    {
     "data": {
      "text/plain": "  0%|          | 0/600 [00:00<?, ?it/s]",
      "application/vnd.jupyter.widget-view+json": {
       "version_major": 2,
       "version_minor": 0,
       "model_id": "c54fa8c1eff14e2ca44d10d1654d388a"
      }
     },
     "metadata": {},
     "output_type": "display_data"
    },
    {
     "name": "stdout",
     "output_type": "stream",
     "text": [
      "est:  [-1.2144804]\n",
      "state:  tensor([-1.1274])\n",
      "epoch: 0\t loss: 0.13551481068134308\n",
      "epoch: 200\t loss: 0.1412976235151291\n",
      "epoch: 400\t loss: 0.145590141415596\n",
      "85\n"
     ]
    },
    {
     "data": {
      "text/plain": "  0%|          | 0/600 [00:00<?, ?it/s]",
      "application/vnd.jupyter.widget-view+json": {
       "version_major": 2,
       "version_minor": 0,
       "model_id": "972bca107f614568b3165a84a404f5b4"
      }
     },
     "metadata": {},
     "output_type": "display_data"
    },
    {
     "name": "stdout",
     "output_type": "stream",
     "text": [
      "est:  [-1.0466733]\n",
      "state:  tensor([-1.0331])\n",
      "epoch: 0\t loss: 0.13350997865200043\n",
      "epoch: 200\t loss: 0.117398202419281\n",
      "epoch: 400\t loss: 0.10722040385007858\n",
      "86\n"
     ]
    },
    {
     "data": {
      "text/plain": "  0%|          | 0/600 [00:00<?, ?it/s]",
      "application/vnd.jupyter.widget-view+json": {
       "version_major": 2,
       "version_minor": 0,
       "model_id": "79a55bbd654b489283d3c4636d4faee4"
      }
     },
     "metadata": {},
     "output_type": "display_data"
    },
    {
     "name": "stdout",
     "output_type": "stream",
     "text": [
      "est:  [-1.0157686]\n",
      "state:  tensor([-1.0703])\n",
      "epoch: 0\t loss: 0.12602348625659943\n",
      "epoch: 200\t loss: 0.11343659460544586\n",
      "epoch: 400\t loss: 0.11528107523918152\n",
      "87\n"
     ]
    },
    {
     "data": {
      "text/plain": "  0%|          | 0/600 [00:00<?, ?it/s]",
      "application/vnd.jupyter.widget-view+json": {
       "version_major": 2,
       "version_minor": 0,
       "model_id": "a8847bac7c1843b0912b802a7f9399e8"
      }
     },
     "metadata": {},
     "output_type": "display_data"
    },
    {
     "name": "stdout",
     "output_type": "stream",
     "text": [
      "est:  [-1.1001348]\n",
      "state:  tensor([-1.0478])\n",
      "epoch: 0\t loss: 0.13476328551769257\n",
      "epoch: 200\t loss: 0.12718841433525085\n",
      "epoch: 400\t loss: 0.13172510266304016\n",
      "88\n"
     ]
    },
    {
     "data": {
      "text/plain": "  0%|          | 0/600 [00:00<?, ?it/s]",
      "application/vnd.jupyter.widget-view+json": {
       "version_major": 2,
       "version_minor": 0,
       "model_id": "1194d71eed68424485410f5f4c5fa2e4"
      }
     },
     "metadata": {},
     "output_type": "display_data"
    },
    {
     "name": "stdout",
     "output_type": "stream",
     "text": [
      "est:  [-0.96289885]\n",
      "state:  tensor([-1.0394])\n",
      "epoch: 0\t loss: 0.12525323033332825\n",
      "epoch: 200\t loss: 0.130917489528656\n",
      "epoch: 400\t loss: 0.11969275772571564\n",
      "89\n"
     ]
    },
    {
     "data": {
      "text/plain": "  0%|          | 0/600 [00:00<?, ?it/s]",
      "application/vnd.jupyter.widget-view+json": {
       "version_major": 2,
       "version_minor": 0,
       "model_id": "758d8594d3bc464a9f8f787bc1e8a2f7"
      }
     },
     "metadata": {},
     "output_type": "display_data"
    },
    {
     "name": "stdout",
     "output_type": "stream",
     "text": [
      "est:  [-0.9990348]\n",
      "state:  tensor([-1.0787])\n",
      "epoch: 0\t loss: 0.12826114892959595\n",
      "epoch: 200\t loss: 0.10266614705324173\n",
      "epoch: 400\t loss: 0.09010375291109085\n",
      "90\n"
     ]
    },
    {
     "data": {
      "text/plain": "  0%|          | 0/600 [00:00<?, ?it/s]",
      "application/vnd.jupyter.widget-view+json": {
       "version_major": 2,
       "version_minor": 0,
       "model_id": "0518870347a34ad39232061dda5ee26e"
      }
     },
     "metadata": {},
     "output_type": "display_data"
    },
    {
     "name": "stdout",
     "output_type": "stream",
     "text": [
      "est:  [-0.8556928]\n",
      "state:  tensor([-0.9243])\n",
      "epoch: 0\t loss: 0.1184324249625206\n",
      "epoch: 200\t loss: 0.1208527609705925\n",
      "epoch: 400\t loss: 0.11201900243759155\n",
      "91\n"
     ]
    },
    {
     "data": {
      "text/plain": "  0%|          | 0/600 [00:00<?, ?it/s]",
      "application/vnd.jupyter.widget-view+json": {
       "version_major": 2,
       "version_minor": 0,
       "model_id": "01bfbe552945488c8b768be829cf9079"
      }
     },
     "metadata": {},
     "output_type": "display_data"
    },
    {
     "name": "stdout",
     "output_type": "stream",
     "text": [
      "est:  [-0.9505685]\n",
      "state:  tensor([-0.9504])\n",
      "epoch: 0\t loss: 0.13063208758831024\n",
      "epoch: 200\t loss: 0.12372735887765884\n",
      "epoch: 400\t loss: 0.10615604370832443\n",
      "92\n"
     ]
    },
    {
     "data": {
      "text/plain": "  0%|          | 0/600 [00:00<?, ?it/s]",
      "application/vnd.jupyter.widget-view+json": {
       "version_major": 2,
       "version_minor": 0,
       "model_id": "aeb256a71c864553bd66f866ee2cfd9a"
      }
     },
     "metadata": {},
     "output_type": "display_data"
    },
    {
     "name": "stdout",
     "output_type": "stream",
     "text": [
      "est:  [-1.008326]\n",
      "state:  tensor([-1.1028])\n",
      "epoch: 0\t loss: 0.11477311700582504\n",
      "epoch: 200\t loss: 0.11773525178432465\n",
      "epoch: 400\t loss: 0.13454940915107727\n",
      "93\n"
     ]
    },
    {
     "data": {
      "text/plain": "  0%|          | 0/600 [00:00<?, ?it/s]",
      "application/vnd.jupyter.widget-view+json": {
       "version_major": 2,
       "version_minor": 0,
       "model_id": "8a64eef7d4bc422bbd1d1166eaa6c325"
      }
     },
     "metadata": {},
     "output_type": "display_data"
    },
    {
     "name": "stdout",
     "output_type": "stream",
     "text": [
      "est:  [-1.0708882]\n",
      "state:  tensor([-1.1012])\n",
      "epoch: 0\t loss: 0.12111280858516693\n",
      "epoch: 200\t loss: 0.10547640174627304\n",
      "epoch: 400\t loss: 0.12276016920804977\n",
      "94\n"
     ]
    },
    {
     "data": {
      "text/plain": "  0%|          | 0/600 [00:00<?, ?it/s]",
      "application/vnd.jupyter.widget-view+json": {
       "version_major": 2,
       "version_minor": 0,
       "model_id": "c8c5e3de21ac42a78d19ffd89c7e8a1d"
      }
     },
     "metadata": {},
     "output_type": "display_data"
    },
    {
     "name": "stdout",
     "output_type": "stream",
     "text": [
      "est:  [-0.9774705]\n",
      "state:  tensor([-0.9707])\n",
      "epoch: 0\t loss: 0.1195158138871193\n",
      "epoch: 200\t loss: 0.10837510973215103\n",
      "epoch: 400\t loss: 0.13670247793197632\n",
      "95\n"
     ]
    },
    {
     "data": {
      "text/plain": "  0%|          | 0/600 [00:00<?, ?it/s]",
      "application/vnd.jupyter.widget-view+json": {
       "version_major": 2,
       "version_minor": 0,
       "model_id": "49b1341dcea54a378fe5758174818104"
      }
     },
     "metadata": {},
     "output_type": "display_data"
    },
    {
     "name": "stdout",
     "output_type": "stream",
     "text": [
      "est:  [-1.0651692]\n",
      "state:  tensor([-1.0045])\n",
      "epoch: 0\t loss: 0.10371431708335876\n",
      "epoch: 200\t loss: 0.12764286994934082\n",
      "epoch: 400\t loss: 0.1294718235731125\n",
      "96\n"
     ]
    },
    {
     "data": {
      "text/plain": "  0%|          | 0/600 [00:00<?, ?it/s]",
      "application/vnd.jupyter.widget-view+json": {
       "version_major": 2,
       "version_minor": 0,
       "model_id": "0b7996b2789b4a0789d725f9ee110041"
      }
     },
     "metadata": {},
     "output_type": "display_data"
    },
    {
     "name": "stdout",
     "output_type": "stream",
     "text": [
      "est:  [-0.98627955]\n",
      "state:  tensor([-1.0595])\n",
      "epoch: 0\t loss: 0.12877631187438965\n",
      "epoch: 200\t loss: 0.13865934312343597\n",
      "epoch: 400\t loss: 0.13716500997543335\n",
      "97\n"
     ]
    },
    {
     "data": {
      "text/plain": "  0%|          | 0/600 [00:00<?, ?it/s]",
      "application/vnd.jupyter.widget-view+json": {
       "version_major": 2,
       "version_minor": 0,
       "model_id": "faf38cc89ebe429abdd118f6d1b11b42"
      }
     },
     "metadata": {},
     "output_type": "display_data"
    },
    {
     "name": "stdout",
     "output_type": "stream",
     "text": [
      "est:  [-1.0237186]\n",
      "state:  tensor([-0.9752])\n",
      "epoch: 0\t loss: 0.11380433291196823\n",
      "epoch: 200\t loss: 0.11719493567943573\n",
      "epoch: 400\t loss: 0.12057839334011078\n",
      "98\n"
     ]
    },
    {
     "data": {
      "text/plain": "  0%|          | 0/600 [00:00<?, ?it/s]",
      "application/vnd.jupyter.widget-view+json": {
       "version_major": 2,
       "version_minor": 0,
       "model_id": "46cc7f7ea4d04953a0f951c0b366bf96"
      }
     },
     "metadata": {},
     "output_type": "display_data"
    },
    {
     "name": "stdout",
     "output_type": "stream",
     "text": [
      "est:  [-1.01189]\n",
      "state:  tensor([-0.9639])\n",
      "epoch: 0\t loss: 0.1152620017528534\n",
      "epoch: 200\t loss: 0.12815876305103302\n",
      "epoch: 400\t loss: 0.08956413716077805\n"
     ]
    },
    {
     "data": {
      "text/plain": "  0%|          | 0/500 [00:00<?, ?it/s]",
      "application/vnd.jupyter.widget-view+json": {
       "version_major": 2,
       "version_minor": 0,
       "model_id": "e7038ea1925f4d48bd55529bd2970d45"
      }
     },
     "metadata": {},
     "output_type": "display_data"
    }
   ],
   "source": [
    "est_all = []\n",
    "x_prior = x_init.clone()\n",
    "for i in range(N_T-1):\n",
    "    print(i)\n",
    "    \n",
    "    score_prior_old = score_prior_new\n",
    "    score_prior_new = copy.deepcopy(score_prior_new)\n",
    "    \n",
    "    # sample initial distribution\n",
    "    x_init = Euler_Maruyama_sampler(score_prior_old,marginal_prob_std_fn, diffusion_coeff_fn,score_likelihood=likelihood_score_fn,\n",
    "                                   batch_size=sample_size,num_steps=600,device=device)\n",
    "    est_all.append(torch.mean(x_init, dim=0).cpu().numpy())\n",
    "\n",
    "\n",
    "    # solve for forward SDE (prediction)\n",
    "    x_prior[:,0] = x_init[:,0] - 4 * x_init[:,0] * ( x_init[:,0]**2 - 1)*dt + torch.randn(sample_size,device=device) * np.sqrt(dt)\n",
    "\n",
    "\n",
    "    print('est: ',est_all[i])\n",
    "    print('state: ',X_path[i])\n",
    "\n",
    "\n",
    "    # train model for prior distribution\n",
    "    train_loss = train_model(score_prior_new, x_sample=x_prior,\n",
    "                             batch_size=sample_size,lr=0.01, n_epochs=600, print_interval=200)\n",
    "\n",
    "    # new observation\n",
    "    obs_current = np.array(obs_path[i+1,:])\n",
    "\n",
    "    # update likelihood function\n",
    "    likelihood_score_fn = functools.partial(likelihood_score, obs=obs_current, sigma_obs=sigma_obs)\n",
    "    # likelihood_score_fn = functools.partial(likelihood_score_damp, obs=obs_current, sigma_obs=sigma_obs, c=0.1)\n",
    "    # next iteration\n",
    "\n",
    "\n",
    "# last estimation\n",
    "# sample initial distribution\n",
    "x_init = Euler_Maruyama_sampler(score_prior_old,marginal_prob_std_fn, diffusion_coeff_fn,score_likelihood=likelihood_score_fn,\n",
    "                               batch_size=sample_size,num_steps=500,device=device)\n",
    "est_all.append(torch.mean(x_init, dim=0).cpu().numpy())\n",
    "\n",
    "#\n",
    "est_all = np.array(est_all)\n"
   ]
  },
  {
   "cell_type": "code",
   "execution_count": 15,
   "outputs": [
    {
     "data": {
      "text/plain": "<Figure size 432x288 with 1 Axes>",
      "image/png": "[encoded data removed]"
     },
     "metadata": {
      "needs_background": "light"
     },
     "output_type": "display_data"
    }
   ],
   "source": [
    "plt.plot(est_all,'.-',label='est')\n",
    "plt.plot(X_path,'.-',label='state')\n",
    "plt.legend()\n",
    "plt.show()"
   ],
   "metadata": {
    "collapsed": false,
    "pycharm": {
     "name": "#%%\n"
    }
   }
  },
  {
   "cell_type": "code",
   "execution_count": null,
   "outputs": [],
   "source": [],
   "metadata": {
    "collapsed": false,
    "pycharm": {
     "name": "#%%\n"
    }
   }
  },
  {
   "cell_type": "code",
   "execution_count": 46,
   "metadata": {
    "pycharm": {
     "name": "#%%\n"
    }
   },
   "outputs": [],
   "source": [
    "np.savetxt('Est_all.txt', est_all)\n",
    "np.savetxt('X_path.txt', X_path)\n",
    "np.savetxt('obs_path.txt', obs_path)\n"
   ]
  },
  {
   "cell_type": "code",
   "execution_count": null,
   "metadata": {
    "pycharm": {
     "name": "#%%\n"
    }
   },
   "outputs": [],
   "source": []
  }
 ],
 "metadata": {
  "kernelspec": {
   "display_name": "Python 3 (ipykernel)",
   "language": "python",
   "name": "python3"
  },
  "language_info": {
   "codemirror_mode": {
    "name": "ipython",
    "version": 3
   },
   "file_extension": ".py",
   "mimetype": "text/x-python",
   "name": "python",
   "nbconvert_exporter": "python",
   "pygments_lexer": "ipython3",
   "version": "3.9.12"
  }
 },
 "nbformat": 4,
 "nbformat_minor": 1
}
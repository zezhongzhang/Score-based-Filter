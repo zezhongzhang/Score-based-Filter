{
 "cells": [
  {
   "cell_type": "code",
   "execution_count": 3,
   "metadata": {
    "pycharm": {
     "name": "#%%\n"
    }
   },
   "outputs": [],
   "source": [
    "import torch\n",
    "import torch.nn as nn\n",
    "import torch.nn.functional as F\n",
    "import numpy as np\n",
    "import functools\n",
    "from torch.optim import Adam\n",
    "import torchvision.transforms as transforms\n",
    "#from torchvision.datasets import MNIST\n",
    "import matplotlib.pyplot as plt\n",
    "import tqdm\n",
    "import copy\n",
    "\n",
    "from torch.utils.data import DataLoader, Dataset\n"
   ]
  },
  {
   "cell_type": "code",
   "execution_count": 4,
   "metadata": {
    "pycharm": {
     "name": "#%%\n"
    }
   },
   "outputs": [],
   "source": [
    "# model\n",
    "# Defining a time-dependent score-based model\n",
    "\n",
    "class GaussianFourierProjection(nn.Module):\n",
    "    \"\"\"Gaussian random features for encoding time steps.\"\"\"\n",
    "    def __init__(self, embed_dim, scale=30.):\n",
    "        super().__init__()\n",
    "        # Randomly sample weights during initialization. These weights are fixed\n",
    "        # during optimization and are not trainable.\n",
    "        self.W = nn.Parameter(torch.randn(embed_dim // 2) * scale, requires_grad=False)\n",
    "    def forward(self, x):\n",
    "        x_proj = x[:, None] * self.W[None, :] * 2 * np.pi\n",
    "        return torch.cat([torch.sin(x_proj), torch.cos(x_proj)], dim=-1)\n",
    "\n",
    "\n",
    "class ScoreNet(nn.Module):\n",
    "    \"\"\"A time-dependent score-based model built upon U-Net architecture.\"\"\"\n",
    "\n",
    "    def __init__(self, marginal_prob_std, x_dim , hidden_depth=2, embed_dim=128, use_bn=True):\n",
    "        \"\"\"Initialize a time-dependent score-based network.\n",
    "\n",
    "        Args:\n",
    "          marginal_prob_std: A function that takes time t and gives the standard\n",
    "            deviation of the perturbation kernel p_{0t}(x(t) | x(0)).\n",
    "          channels: The number of channels for feature maps of each resolution.\n",
    "          embed_dim: The dimensionality of Gaussian random feature embeddings.\n",
    "        \"\"\"\n",
    "        super().__init__()\n",
    "        self.x_dim = x_dim\n",
    "        self.hidden_depth = hidden_depth\n",
    "        self.embed_dim = embed_dim\n",
    "        self.use_bn = use_bn\n",
    "\n",
    "        assert hidden_depth>=1, 'hidden_depth must be greater than 0!'\n",
    "        # Gaussian random feature embedding layer for time\n",
    "        self.embed = nn.Sequential(GaussianFourierProjection(embed_dim=embed_dim),\n",
    "             nn.Linear(embed_dim, embed_dim))\n",
    "\n",
    "        # fc layers\n",
    "        self.input = nn.Linear(x_dim, embed_dim)\n",
    "        self.fc_all = nn.ModuleList([nn.Linear(embed_dim, embed_dim) for i in range(self.hidden_depth)])\n",
    "        self.output = nn.Linear(embed_dim, x_dim)\n",
    "\n",
    "        if self.use_bn:\n",
    "            self.bn = nn.ModuleList([nn.BatchNorm1d(num_features=embed_dim) for i in range(self.hidden_depth)])\n",
    "\n",
    "        # The swish activation function\n",
    "        self.act = lambda x: x * torch.sigmoid(x)\n",
    "        self.marginal_prob_std = marginal_prob_std\n",
    "\n",
    "\n",
    "    def forward(self, x, t):\n",
    "        # Obtain the Gaussian random feature embedding for t\n",
    "        embed = self.act(self.embed(t))\n",
    "\n",
    "        #\n",
    "        h = self.input(x)\n",
    "        # residue connections\n",
    "        for i in range(self.hidden_depth):\n",
    "            h = h + self.act(self.fc_all[i](h)) + embed\n",
    "            if self.use_bn:\n",
    "                h = self.bn[i](h)\n",
    "\n",
    "        h = self.output(h)\n",
    "\n",
    "        # Normalize output\n",
    "        h = h / self.marginal_prob_std(t)[:, None,]\n",
    "        return h\n",
    "\n",
    "\n",
    "# Define the loss function\n",
    "def loss_fn(model, x, marginal_prob_std, eps=1e-5):\n",
    "    \"\"\"The loss function for training score-based generative models.\n",
    "\n",
    "    Args:\n",
    "    model: A PyTorch model instance that represents a\n",
    "      time-dependent score-based model.\n",
    "    x: A mini-batch of training data.\n",
    "    marginal_prob_std: A function that gives the standard deviation of\n",
    "      the perturbation kernel.\n",
    "    eps: A tolerance value for numerical stability.\n",
    "    \"\"\"\n",
    "    random_t = torch.rand(x.shape[0], device=x.device) * (1. - eps) + eps #(eps,1)\n",
    "    z = torch.randn_like(x)\n",
    "    std = marginal_prob_std(random_t)\n",
    "    perturbed_x = x + z * std[:, None]\n",
    "    score = model(perturbed_x, random_t)\n",
    "    loss = torch.mean(torch.sum((score * std[:, None] + z)**2, dim=1))\n",
    "    return loss\n",
    "\n",
    "\n",
    "def marginal_prob_std(t, sigma):\n",
    "    \"\"\"Compute the mean and standard deviation of $p_{0t}(x(t) | x(0))$.\n",
    "\n",
    "    Args:\n",
    "    t: A vector of time steps.\n",
    "    sigma: The $\\sigma$ in our SDE.\n",
    "\n",
    "    Returns:\n",
    "    The standard deviation.\n",
    "    \"\"\"\n",
    "    # t = torch.tensor(t, device=device)\n",
    "    return torch.sqrt((sigma**(2 * t) - 1.) / 2. / np.log(sigma))\n",
    "\n",
    "\n",
    "def diffusion_coeff(t, sigma):\n",
    "    \"\"\"Compute the diffusion coefficient of our SDE.\n",
    "\n",
    "    Args:\n",
    "    t: A vector of time steps.\n",
    "    sigma: The $\\sigma$ in our SDE.\n",
    "\n",
    "    Returns:\n",
    "    The vector of diffusion coefficients.\n",
    "    \"\"\"\n",
    "    # return torch.tensor(sigma**t, device=device)\n",
    "    return sigma**t\n",
    "\n",
    "\n",
    "# data set\n",
    "class MyDataset(Dataset):\n",
    "    def __init__(self, x_train):\n",
    "        super().__init__()\n",
    "        self.x_train = x_train\n",
    "\n",
    "    def __len__(self):\n",
    "        return self.x_train.shape[0]\n",
    "\n",
    "    def __getitem__(self, idx):\n",
    "        return self.x_train[idx]\n",
    "\n",
    "\n",
    "\n",
    "def train_model(score_model, x_sample, lr=1e-4, batch_size=1000, n_epochs=5000, print_interval=100):\n",
    "    dataset = MyDataset(x_sample)\n",
    "    data_loader = DataLoader(dataset, batch_size=batch_size, shuffle=True)\n",
    "\n",
    "    optimizer = Adam(score_model.parameters(), lr=lr)\n",
    "    train_loss = []\n",
    "\n",
    "\n",
    "    for epoch in range(n_epochs):\n",
    "        avg_loss = 0.\n",
    "        num_items = 0\n",
    "        for x in data_loader:\n",
    "            x = x.to(device)\n",
    "            loss = loss_fn(score_model, x, marginal_prob_std_fn)\n",
    "            optimizer.zero_grad()\n",
    "            loss.backward()\n",
    "            optimizer.step()\n",
    "            avg_loss += loss.item() * x.shape[0]\n",
    "            num_items += x.shape[0]\n",
    "        # Print the averaged training loss so far.\n",
    "        epoch_avg_loss = avg_loss / num_items\n",
    "        train_loss.append(epoch_avg_loss)\n",
    "        if epoch%print_interval==0:\n",
    "            print(f'epoch: {epoch}\\t loss: {epoch_avg_loss}')\n",
    "    return train_loss\n",
    "\n",
    "\n",
    "def Euler_Maruyama_sampler(score_prior, marginal_prob_std, diffusion_coeff, score_likelihood=None,\n",
    "                           batch_size=64,num_steps=500,device='cpu',eps=1e-3):\n",
    "    \"\"\"Generate samples from score-based models with the Euler-Maruyama solver.\n",
    "\n",
    "    Args:\n",
    "    score_model: A PyTorch model that represents the time-dependent score-based model.\n",
    "    marginal_prob_std: A function that gives the standard deviation of\n",
    "    the perturbation kernel.\n",
    "    diffusion_coeff: A function that gives the diffusion coefficient of the SDE.\n",
    "    batch_size: The number of samplers to generate by calling this function once.\n",
    "    num_steps: The number of sampling steps.\n",
    "    Equivalent to the number of discretized time steps.\n",
    "    device: 'cuda' for running on GPUs, and 'cpu' for running on CPUs.\n",
    "    eps: The smallest time step for numerical stability.\n",
    "\n",
    "    Returns:\n",
    "    Samples.\n",
    "    \"\"\"\n",
    "    t = torch.ones(batch_size, device=device)\n",
    "    init_x = torch.randn(batch_size, score_prior.x_dim, device=device) \\\n",
    "    * marginal_prob_std(t)[:, None]\n",
    "    time_steps = torch.linspace(1., eps, num_steps, device=device)\n",
    "    step_size = time_steps[0] - time_steps[1]\n",
    "    x = init_x\n",
    "    with torch.no_grad():\n",
    "        for time_step in tqdm.notebook.tqdm(time_steps):\n",
    "            batch_time_step = torch.ones(batch_size, device=device) * time_step\n",
    "            g = diffusion_coeff(batch_time_step)\n",
    "            if score_likelihood is None:\n",
    "                score = score_prior(x, batch_time_step)\n",
    "            else:\n",
    "                score = score_prior(x, batch_time_step) + score_likelihood(x)*torch.relu(1-2*time_step)\n",
    "\n",
    "            # score = torch.clip(score, min=-100, max=100)\n",
    "\n",
    "            score_norm = torch.sqrt(torch.mean(score**2, dim=1))\n",
    "            adj_ratio = torch.ones_like(score_norm)\n",
    "            tol = 50.\n",
    "            adj_ratio[score_norm>tol] = tol/score_norm[score_norm>tol]\n",
    "            # score_norm = torch.clip(score_norm, min=0, max=50)\n",
    "\n",
    "\n",
    "            score = score*adj_ratio[:,None]\n",
    "\n",
    "            # print(time_step, score)\n",
    "\n",
    "            mean_x = x + (g**2)[:, None] * score * step_size\n",
    "            x = mean_x + torch.sqrt(step_size) * g[:, None] * torch.randn_like(x)\n",
    "        # Do not include any noise in the last sampling step.\n",
    "    return mean_x\n"
   ]
  },
  {
   "cell_type": "code",
   "execution_count": 5,
   "metadata": {
    "pycharm": {
     "name": "#%%\n"
    }
   },
   "outputs": [],
   "source": [
    "# diffusion setup\n",
    "device = 'cuda' #@param ['cuda', 'cpu'] {'type':'string'}\n",
    "sigma =  25.0#@param {'type':'number'}\n",
    "marginal_prob_std_fn = functools.partial(marginal_prob_std, sigma=sigma)\n",
    "diffusion_coeff_fn = functools.partial(diffusion_coeff, sigma=sigma)\n",
    "\n",
    "torch.manual_seed(123456987)\n",
    "np.random.seed(12362186)"
   ]
  },
  {
   "cell_type": "code",
   "execution_count": 6,
   "metadata": {
    "pycharm": {
     "name": "#%%\n"
    }
   },
   "outputs": [],
   "source": [
    "# define obs system\n",
    "# h(x) = x^3\n",
    "\n",
    "\n",
    "\n",
    "def likelihood_1d(x, obs, sigma_obs):\n",
    "    return torch.exp(-0.5*(x**3 - obs)**2/sigma_obs**2)\n",
    "\n",
    "def likelihood_score_1d(x, obs, sigma_obs):\n",
    "    temp1 = -(x**3 - obs)/sigma_obs**2\n",
    "    temp2 = 3*x**2\n",
    "    return temp2*temp1\n",
    "\n",
    "\n",
    "def likelihood(x, obs, sigma_obs):\n",
    "    l1 = likelihood_1d(x[:,0], obs[0], sigma_obs)\n",
    "    l2 = likelihood_1d(x[:,1], obs[1], sigma_obs)\n",
    "    return l1*l2\n",
    "\n",
    "def likelihood_score(x, obs, sigma_obs):\n",
    "    score_d = []\n",
    "    for d in range(num_dim):\n",
    "        score_d.append(likelihood_score_1d(x[:,d], obs[d], sigma_obs))\n",
    "        #score_d[d] = likelihood_score_1d(x[:,d], obs[0], sigma_obs)\n",
    "    \n",
    "    sc = torch.stack(score_d, dim=1)\n",
    "    return sc\n",
    "\n",
    "def likelihood_score_damp(x, obs, sigma_obs, c=0.01):\n",
    "    sc1 = likelihood_score_1d(x[:,0], obs[0], sigma_obs)\n",
    "    sc2 = likelihood_score_1d(x[:,1], obs[1], sigma_obs)\n",
    "    sc = torch.stack([sc1, sc2], dim=1)\n",
    "    sc_gauss = -(x)/c\n",
    "\n",
    "    sc_norm = torch.mean(sc**2, dim=1)\n",
    "    gauss_norm = torch.mean(sc_gauss**2, dim=1)\n",
    "    sc[sc_norm > gauss_norm] = sc_gauss[sc_norm > gauss_norm]\n",
    "    return sc"
   ]
  },
  {
   "cell_type": "markdown",
   "metadata": {
    "pycharm": {
     "name": "#%% md\n"
    }
   },
   "source": [
    "# filtering setup"
   ]
  },
  {
   "cell_type": "code",
   "execution_count": 8,
   "metadata": {
    "pycharm": {
     "name": "#%%\n"
    }
   },
   "outputs": [
    {
     "data": {
      "text/plain": "<Figure size 432x288 with 1 Axes>",
      "image/png": "[encoded data removed]"
     },
     "metadata": {
      "needs_background": "light"
     },
     "output_type": "display_data"
    },
    {
     "data": {
      "text/plain": "<Figure size 432x288 with 1 Axes>",
      "image/png": "[encoded data removed]"
     },
     "metadata": {
      "needs_background": "light"
     },
     "output_type": "display_data"
    }
   ],
   "source": [
    "# Problem formulation\n",
    "# state process setup\n",
    "Time = 1.00\n",
    "dt = 0.01\n",
    "num_dim = 100\n",
    "X_initial = torch.randn(num_dim)*2+4\n",
    "N_T = int(Time//dt+1)\n",
    "t_path = np.linspace(0, Time, N_T)\n",
    "sigma_SDE = 0.1\n",
    "F = 8\n",
    "\n",
    "\n",
    "#dt = t_path[1] - t_path[0]\n",
    "\n",
    "\n",
    "X_path = torch.zeros((N_T, num_dim))\n",
    "X_path[0] = X_initial.clone()\n",
    "x_new = X_initial.clone()\n",
    "\n",
    "for i in range(N_T-1):\n",
    "    # Generate true state trajectory\n",
    "    x_old = X_path[i]\n",
    "    \n",
    "    x_new[0] = x_old[0] + ( (x_old[1] - x_old[num_dim-2])*x_old[num_dim-1] - x_old[0] + F)*dt + sigma_SDE*np.random.randn(1) * np.sqrt(dt)\n",
    "    x_new[1] = x_old[1] + ( (x_old[2] - x_old[num_dim-1])*x_old[0] - x_old[1] + F)*dt + sigma_SDE*np.random.randn(1) * np.sqrt(dt)\n",
    "    x_new[num_dim-1] = x_old[num_dim-1] + ( (x_old[0] - x_old[num_dim-3])*x_old[num_dim-2] - x_old[num_dim-1] + F)*dt + sigma_SDE*np.random.randn(1) * np.sqrt(dt)\n",
    "    \n",
    "    for d in range(2, num_dim-1):\n",
    "        x_new[d] = x_old[d] + ( (x_old[d+1] - x_old[d-2])*x_old[d-1] - x_old[d] + F)*dt + sigma_SDE*np.random.randn(1) * np.sqrt(dt)\n",
    "        #print(x_new[d])\n",
    "        #print(d)\n",
    "    #x_new[num_dim-1] = x_new[0]    \n",
    "\n",
    "    X_path[i+1] = x_new\n",
    "    \n",
    "    if i==30:\n",
    "        X_path[i+1] = X_path[i+1] + torch.randn(num_dim)*3\n",
    "    if i==60:\n",
    "        X_path[i+1] = X_path[i+1] + torch.randn(num_dim)*3\n",
    "\n",
    "# get observation\n",
    "sigma_obs = 0.5\n",
    "\n",
    "obs_path_true = X_path**3\n",
    "obs_path = obs_path_true + np.random.randn(N_T,num_dim)*sigma_obs\n",
    "\n",
    "# plot\n",
    "plt.plot(X_path[:,0],X_path[:,1],'.-',label='obs')\n",
    "plt.title('state')\n",
    "plt.show()\n",
    "\n",
    "plt.plot(obs_path[:,0],obs_path[:,1],'.-',label='obs')\n",
    "plt.title('obs')\n",
    "plt.show()\n",
    "\n"
   ]
  },
  {
   "cell_type": "code",
   "execution_count": 9,
   "metadata": {
    "pycharm": {
     "name": "#%%\n"
    }
   },
   "outputs": [
    {
     "name": "stdout",
     "output_type": "stream",
     "text": [
      "tensor([ 4.5672,  2.6720,  4.6869,  6.1129,  3.0330,  4.6172,  5.5807,  4.7557,\n",
      "         1.7602,  1.7656,  4.8650,  4.5329,  2.6762,  4.8137,  1.3468,  3.9708,\n",
      "         0.8274,  3.2171,  4.4368,  2.1885,  2.6863,  4.2668,  4.7033,  1.7479,\n",
      "         4.6993,  6.3499,  3.0749,  5.5497,  4.6910,  1.9417,  4.0838,  3.2442,\n",
      "         3.1635,  3.8746,  2.7106,  3.3441,  2.2606,  0.8433,  2.9846,  3.4501,\n",
      "         3.5797,  1.6196,  2.9484,  5.8204,  6.4675,  7.0187,  7.3860,  2.0554,\n",
      "         2.9413,  4.9925,  3.1469,  3.8502,  6.4035, -0.1024,  6.5344,  3.0568,\n",
      "         6.0976,  3.1239,  4.0684,  1.2053,  6.2914,  5.1576,  2.3653,  4.5269,\n",
      "         2.3400,  6.3962,  3.9268,  8.4407, -1.7358,  5.2227,  2.2953,  2.1751,\n",
      "         7.4454,  4.0238,  3.9543,  3.7247,  5.4899,  3.6605,  1.3932,  0.6019,\n",
      "         1.9462,  3.0790, -0.8554,  3.0425,  2.7911,  6.3440,  1.6272, -0.6897,\n",
      "         6.2654,  4.5791,  3.8711,  4.8781,  3.0438,  3.7170,  0.8976,  2.9607,\n",
      "         5.7311,  6.6993,  3.4146,  3.3176])\n"
     ]
    },
    {
     "name": "stderr",
     "output_type": "stream",
     "text": [
      "C:\\Users\\10576\\AppData\\Local\\Temp\\ipykernel_21940\\2126229071.py:2: UserWarning: To copy construct from a tensor, it is recommended to use sourceTensor.clone().detach() or sourceTensor.clone().detach().requires_grad_(True), rather than torch.tensor(sourceTensor).\n",
      "  x0 = torch.tensor(X_initial.clone(), dtype=torch.float32, device=device)\n"
     ]
    }
   ],
   "source": [
    "# initial guess\n",
    "x0 = torch.tensor(X_initial.clone(), dtype=torch.float32, device=device)\n",
    "sigma0 = 0.5\n",
    "\n",
    "print(X_initial)\n"
   ]
  },
  {
   "cell_type": "code",
   "execution_count": 12,
   "metadata": {
    "pycharm": {
     "name": "#%%\n"
    }
   },
   "outputs": [
    {
     "name": "stdout",
     "output_type": "stream",
     "text": [
      "epoch: 0\t loss: 581.2781982421875\n",
      "epoch: 100\t loss: 61.3089599609375\n",
      "epoch: 200\t loss: 49.712135314941406\n",
      "epoch: 300\t loss: 46.930580139160156\n",
      "epoch: 400\t loss: 46.411293029785156\n",
      "epoch: 500\t loss: 45.494510650634766\n",
      "epoch: 600\t loss: 45.932884216308594\n",
      "epoch: 700\t loss: 45.50865936279297\n",
      "epoch: 800\t loss: 45.55564880371094\n"
     ]
    },
    {
     "ename": "KeyboardInterrupt",
     "evalue": "",
     "output_type": "error",
     "traceback": [
      "\u001B[1;31m---------------------------------------------------------------------------\u001B[0m",
      "\u001B[1;31mKeyboardInterrupt\u001B[0m                         Traceback (most recent call last)",
      "Input \u001B[1;32mIn [12]\u001B[0m, in \u001B[0;36m<cell line: 19>\u001B[1;34m()\u001B[0m\n\u001B[0;32m     17\u001B[0m sample_size \u001B[38;5;241m=\u001B[39m \u001B[38;5;241m50000\u001B[39m\n\u001B[0;32m     18\u001B[0m x_init \u001B[38;5;241m=\u001B[39m x0 \u001B[38;5;241m+\u001B[39m torch\u001B[38;5;241m.\u001B[39mrandn(sample_size,num_dim, dtype\u001B[38;5;241m=\u001B[39mtorch\u001B[38;5;241m.\u001B[39mfloat32, device\u001B[38;5;241m=\u001B[39mdevice)\u001B[38;5;241m*\u001B[39msigma0\n\u001B[1;32m---> 19\u001B[0m train_loss \u001B[38;5;241m=\u001B[39m \u001B[43mtrain_model\u001B[49m\u001B[43m(\u001B[49m\u001B[43mscore_prior_old\u001B[49m\u001B[43m,\u001B[49m\u001B[43m \u001B[49m\u001B[43mx_sample\u001B[49m\u001B[38;5;241;43m=\u001B[39;49m\u001B[43mx_init\u001B[49m\u001B[43m,\u001B[49m\u001B[43m \u001B[49m\u001B[43mbatch_size\u001B[49m\u001B[38;5;241;43m=\u001B[39;49m\u001B[38;5;241;43m50000\u001B[39;49m\u001B[43m,\u001B[49m\u001B[43m \u001B[49m\u001B[43mlr\u001B[49m\u001B[38;5;241;43m=\u001B[39;49m\u001B[38;5;241;43m0.01\u001B[39;49m\u001B[43m,\u001B[49m\u001B[43m \u001B[49m\u001B[43mn_epochs\u001B[49m\u001B[38;5;241;43m=\u001B[39;49m\u001B[38;5;241;43m1000\u001B[39;49m\u001B[43m,\u001B[49m\u001B[43m \u001B[49m\u001B[43mprint_interval\u001B[49m\u001B[38;5;241;43m=\u001B[39;49m\u001B[38;5;241;43m100\u001B[39;49m\u001B[43m)\u001B[49m\n\u001B[0;32m     21\u001B[0m likelihood_score_fn \u001B[38;5;241m=\u001B[39m \u001B[38;5;28;01mNone\u001B[39;00m\n\u001B[0;32m     22\u001B[0m score_prior_new \u001B[38;5;241m=\u001B[39m score_prior_old\n",
      "Input \u001B[1;32mIn [4]\u001B[0m, in \u001B[0;36mtrain_model\u001B[1;34m(score_model, x_sample, lr, batch_size, n_epochs, print_interval)\u001B[0m\n\u001B[0;32m    143\u001B[0m avg_loss \u001B[38;5;241m=\u001B[39m \u001B[38;5;241m0.\u001B[39m\n\u001B[0;32m    144\u001B[0m num_items \u001B[38;5;241m=\u001B[39m \u001B[38;5;241m0\u001B[39m\n\u001B[1;32m--> 145\u001B[0m \u001B[38;5;28;01mfor\u001B[39;00m x \u001B[38;5;129;01min\u001B[39;00m data_loader:\n\u001B[0;32m    146\u001B[0m     x \u001B[38;5;241m=\u001B[39m x\u001B[38;5;241m.\u001B[39mto(device)\n\u001B[0;32m    147\u001B[0m     loss \u001B[38;5;241m=\u001B[39m loss_fn(score_model, x, marginal_prob_std_fn)\n",
      "File \u001B[1;32m~\\Anaconda3\\lib\\site-packages\\torch\\utils\\data\\dataloader.py:681\u001B[0m, in \u001B[0;36m_BaseDataLoaderIter.__next__\u001B[1;34m(self)\u001B[0m\n\u001B[0;32m    678\u001B[0m \u001B[38;5;28;01mif\u001B[39;00m \u001B[38;5;28mself\u001B[39m\u001B[38;5;241m.\u001B[39m_sampler_iter \u001B[38;5;129;01mis\u001B[39;00m \u001B[38;5;28;01mNone\u001B[39;00m:\n\u001B[0;32m    679\u001B[0m     \u001B[38;5;66;03m# TODO(https://github.com/pytorch/pytorch/issues/76750)\u001B[39;00m\n\u001B[0;32m    680\u001B[0m     \u001B[38;5;28mself\u001B[39m\u001B[38;5;241m.\u001B[39m_reset()  \u001B[38;5;66;03m# type: ignore[call-arg]\u001B[39;00m\n\u001B[1;32m--> 681\u001B[0m data \u001B[38;5;241m=\u001B[39m \u001B[38;5;28;43mself\u001B[39;49m\u001B[38;5;241;43m.\u001B[39;49m\u001B[43m_next_data\u001B[49m\u001B[43m(\u001B[49m\u001B[43m)\u001B[49m\n\u001B[0;32m    682\u001B[0m \u001B[38;5;28mself\u001B[39m\u001B[38;5;241m.\u001B[39m_num_yielded \u001B[38;5;241m+\u001B[39m\u001B[38;5;241m=\u001B[39m \u001B[38;5;241m1\u001B[39m\n\u001B[0;32m    683\u001B[0m \u001B[38;5;28;01mif\u001B[39;00m \u001B[38;5;28mself\u001B[39m\u001B[38;5;241m.\u001B[39m_dataset_kind \u001B[38;5;241m==\u001B[39m _DatasetKind\u001B[38;5;241m.\u001B[39mIterable \u001B[38;5;129;01mand\u001B[39;00m \\\n\u001B[0;32m    684\u001B[0m         \u001B[38;5;28mself\u001B[39m\u001B[38;5;241m.\u001B[39m_IterableDataset_len_called \u001B[38;5;129;01mis\u001B[39;00m \u001B[38;5;129;01mnot\u001B[39;00m \u001B[38;5;28;01mNone\u001B[39;00m \u001B[38;5;129;01mand\u001B[39;00m \\\n\u001B[0;32m    685\u001B[0m         \u001B[38;5;28mself\u001B[39m\u001B[38;5;241m.\u001B[39m_num_yielded \u001B[38;5;241m>\u001B[39m \u001B[38;5;28mself\u001B[39m\u001B[38;5;241m.\u001B[39m_IterableDataset_len_called:\n",
      "File \u001B[1;32m~\\Anaconda3\\lib\\site-packages\\torch\\utils\\data\\dataloader.py:721\u001B[0m, in \u001B[0;36m_SingleProcessDataLoaderIter._next_data\u001B[1;34m(self)\u001B[0m\n\u001B[0;32m    719\u001B[0m \u001B[38;5;28;01mdef\u001B[39;00m \u001B[38;5;21m_next_data\u001B[39m(\u001B[38;5;28mself\u001B[39m):\n\u001B[0;32m    720\u001B[0m     index \u001B[38;5;241m=\u001B[39m \u001B[38;5;28mself\u001B[39m\u001B[38;5;241m.\u001B[39m_next_index()  \u001B[38;5;66;03m# may raise StopIteration\u001B[39;00m\n\u001B[1;32m--> 721\u001B[0m     data \u001B[38;5;241m=\u001B[39m \u001B[38;5;28;43mself\u001B[39;49m\u001B[38;5;241;43m.\u001B[39;49m\u001B[43m_dataset_fetcher\u001B[49m\u001B[38;5;241;43m.\u001B[39;49m\u001B[43mfetch\u001B[49m\u001B[43m(\u001B[49m\u001B[43mindex\u001B[49m\u001B[43m)\u001B[49m  \u001B[38;5;66;03m# may raise StopIteration\u001B[39;00m\n\u001B[0;32m    722\u001B[0m     \u001B[38;5;28;01mif\u001B[39;00m \u001B[38;5;28mself\u001B[39m\u001B[38;5;241m.\u001B[39m_pin_memory:\n\u001B[0;32m    723\u001B[0m         data \u001B[38;5;241m=\u001B[39m _utils\u001B[38;5;241m.\u001B[39mpin_memory\u001B[38;5;241m.\u001B[39mpin_memory(data, \u001B[38;5;28mself\u001B[39m\u001B[38;5;241m.\u001B[39m_pin_memory_device)\n",
      "File \u001B[1;32m~\\Anaconda3\\lib\\site-packages\\torch\\utils\\data\\_utils\\fetch.py:49\u001B[0m, in \u001B[0;36m_MapDatasetFetcher.fetch\u001B[1;34m(self, possibly_batched_index)\u001B[0m\n\u001B[0;32m     47\u001B[0m \u001B[38;5;28;01mdef\u001B[39;00m \u001B[38;5;21mfetch\u001B[39m(\u001B[38;5;28mself\u001B[39m, possibly_batched_index):\n\u001B[0;32m     48\u001B[0m     \u001B[38;5;28;01mif\u001B[39;00m \u001B[38;5;28mself\u001B[39m\u001B[38;5;241m.\u001B[39mauto_collation:\n\u001B[1;32m---> 49\u001B[0m         data \u001B[38;5;241m=\u001B[39m [\u001B[38;5;28mself\u001B[39m\u001B[38;5;241m.\u001B[39mdataset[idx] \u001B[38;5;28;01mfor\u001B[39;00m idx \u001B[38;5;129;01min\u001B[39;00m possibly_batched_index]\n\u001B[0;32m     50\u001B[0m     \u001B[38;5;28;01melse\u001B[39;00m:\n\u001B[0;32m     51\u001B[0m         data \u001B[38;5;241m=\u001B[39m \u001B[38;5;28mself\u001B[39m\u001B[38;5;241m.\u001B[39mdataset[possibly_batched_index]\n",
      "File \u001B[1;32m~\\Anaconda3\\lib\\site-packages\\torch\\utils\\data\\_utils\\fetch.py:49\u001B[0m, in \u001B[0;36m<listcomp>\u001B[1;34m(.0)\u001B[0m\n\u001B[0;32m     47\u001B[0m \u001B[38;5;28;01mdef\u001B[39;00m \u001B[38;5;21mfetch\u001B[39m(\u001B[38;5;28mself\u001B[39m, possibly_batched_index):\n\u001B[0;32m     48\u001B[0m     \u001B[38;5;28;01mif\u001B[39;00m \u001B[38;5;28mself\u001B[39m\u001B[38;5;241m.\u001B[39mauto_collation:\n\u001B[1;32m---> 49\u001B[0m         data \u001B[38;5;241m=\u001B[39m [\u001B[38;5;28;43mself\u001B[39;49m\u001B[38;5;241;43m.\u001B[39;49m\u001B[43mdataset\u001B[49m\u001B[43m[\u001B[49m\u001B[43midx\u001B[49m\u001B[43m]\u001B[49m \u001B[38;5;28;01mfor\u001B[39;00m idx \u001B[38;5;129;01min\u001B[39;00m possibly_batched_index]\n\u001B[0;32m     50\u001B[0m     \u001B[38;5;28;01melse\u001B[39;00m:\n\u001B[0;32m     51\u001B[0m         data \u001B[38;5;241m=\u001B[39m \u001B[38;5;28mself\u001B[39m\u001B[38;5;241m.\u001B[39mdataset[possibly_batched_index]\n",
      "Input \u001B[1;32mIn [4]\u001B[0m, in \u001B[0;36mMyDataset.__getitem__\u001B[1;34m(self, idx)\u001B[0m\n\u001B[0;32m    129\u001B[0m \u001B[38;5;28;01mdef\u001B[39;00m \u001B[38;5;21m__getitem__\u001B[39m(\u001B[38;5;28mself\u001B[39m, idx):\n\u001B[1;32m--> 130\u001B[0m     \u001B[38;5;28;01mreturn\u001B[39;00m \u001B[38;5;28;43mself\u001B[39;49m\u001B[38;5;241;43m.\u001B[39;49m\u001B[43mx_train\u001B[49m\u001B[43m[\u001B[49m\u001B[43midx\u001B[49m\u001B[43m]\u001B[49m\n",
      "\u001B[1;31mKeyboardInterrupt\u001B[0m: "
     ]
    }
   ],
   "source": [
    "# Training initialize\n",
    "x_dim = num_dim\n",
    "hidden_depth  = 2\n",
    "embed_dim = 200\n",
    "use_bn = False\n",
    "\n",
    "score_prior_old = ScoreNet(marginal_prob_std=marginal_prob_std_fn, x_dim=x_dim,\n",
    "                           hidden_depth=hidden_depth, embed_dim=embed_dim, use_bn=use_bn)\n",
    "\n",
    "score_prior_new = ScoreNet(marginal_prob_std=marginal_prob_std_fn, x_dim=x_dim,\n",
    "                           hidden_depth=hidden_depth, embed_dim=embed_dim, use_bn=use_bn)\n",
    "\n",
    "score_prior_old = score_prior_old.to(device)\n",
    "score_prior_new = score_prior_new.to(device)\n",
    "\n",
    "# initial samples\n",
    "sample_size = 50000\n",
    "x_init = x0 + torch.randn(sample_size,num_dim, dtype=torch.float32, device=device)*sigma0\n",
    "train_loss = train_model(score_prior_old, x_sample=x_init, batch_size=50000, lr=0.01, n_epochs=1000, print_interval=100)\n",
    "\n",
    "likelihood_score_fn = None\n",
    "score_prior_new = score_prior_old"
   ]
  },
  {
   "cell_type": "code",
   "execution_count": 11,
   "metadata": {
    "pycharm": {
     "name": "#%%\n"
    }
   },
   "outputs": [
    {
     "name": "stdout",
     "output_type": "stream",
     "text": [
      "0\n"
     ]
    },
    {
     "data": {
      "text/plain": "  0%|          | 0/800 [00:00<?, ?it/s]",
      "application/vnd.jupyter.widget-view+json": {
       "version_major": 2,
       "version_minor": 0,
       "model_id": "3baff71b40cd4ea6b9f6deb0e9df7de6"
      }
     },
     "metadata": {},
     "output_type": "display_data"
    },
    {
     "name": "stdout",
     "output_type": "stream",
     "text": [
      "est:  [-4909.2295   1277.6356    913.638   -4943.1772  -2339.0706   2675.6243\n",
      " -3222.405   -2605.9133   3275.1174  -1970.3478  -5012.405    3476.7595\n",
      "  2520.208   -5517.211   -1981.2152  -3904.2266  -2489.9685   1805.7148\n",
      " -3561.712   -2230.8896   2177.0725  -1921.335    1501.686    2515.7275\n",
      "   242.24704  1173.638    2157.316   -4422.9404  -3797.2163   4225.715\n",
      "  1419.2358  -3082.592   -2859.9058  -3789.2395  -2996.066   -4020.534\n",
      " -2640.2224  -4134.4023   2673.7026   2149.8347  -2350.7046   3059.8657\n",
      "  3015.3474   3181.0813  -3466.7935  -2118.6235  -2228.2668  -2810.8213\n",
      "  2147.323   -4298.6323   2102.7922  -2865.3887   4256.666    3118.8142\n",
      " -2969.038    2311.4802  -3817.0598   4106.7876   2118.4717  -1959.4569\n",
      " -5369.622     930.81415 -3733.512    2647.372   -2296.222   -2640.313\n",
      " -2783.088   -5024.806    2852.1147   3305.182    2568.4358   -194.5184\n",
      "  3104.743   -4974.0244   1673.4619   1217.3805  -3118.402   -3620.3916\n",
      " -4860.1646   2719.4067   3943.3235   3275.3235  -2177.6792   2474.248\n",
      "   322.60413 -3344.3013  -3960.8115   2860.6213  -3116.0051    577.4664\n",
      " -1136.1951   3415.9814  -4147.3755  -4130.9043   3320.8691  -3657.3455\n",
      "  -849.3723  -2221.9775    272.1393  -2640.646  ]\n",
      "state:  tensor([ 4.5672,  2.6720,  4.6869,  6.1129,  3.0330,  4.6172,  5.5807,  4.7557,\n",
      "         1.7602,  1.7656,  4.8650,  4.5329,  2.6762,  4.8137,  1.3468,  3.9708,\n",
      "         0.8274,  3.2171,  4.4368,  2.1885,  2.6863,  4.2668,  4.7033,  1.7479,\n",
      "         4.6993,  6.3499,  3.0749,  5.5497,  4.6910,  1.9417,  4.0838,  3.2442,\n",
      "         3.1635,  3.8746,  2.7106,  3.3441,  2.2606,  0.8433,  2.9846,  3.4501,\n",
      "         3.5797,  1.6196,  2.9484,  5.8204,  6.4675,  7.0187,  7.3860,  2.0554,\n",
      "         2.9413,  4.9925,  3.1469,  3.8502,  6.4035, -0.1024,  6.5344,  3.0568,\n",
      "         6.0976,  3.1239,  4.0684,  1.2053,  6.2914,  5.1576,  2.3653,  4.5269,\n",
      "         2.3400,  6.3962,  3.9268,  8.4407, -1.7358,  5.2227,  2.2953,  2.1751,\n",
      "         7.4454,  4.0238,  3.9543,  3.7247,  5.4899,  3.6605,  1.3932,  0.6019,\n",
      "         1.9462,  3.0790, -0.8554,  3.0425,  2.7911,  6.3440,  1.6272, -0.6897,\n",
      "         6.2654,  4.5791,  3.8711,  4.8781,  3.0438,  3.7170,  0.8976,  2.9607,\n",
      "         5.7311,  6.6993,  3.4146,  3.3176])\n",
      "epoch: 0\t loss: 553267953664.0\n",
      "epoch: 100\t loss: 9402429.0\n",
      "epoch: 200\t loss: 6034981.5\n"
     ]
    },
    {
     "ename": "KeyboardInterrupt",
     "evalue": "",
     "output_type": "error",
     "traceback": [
      "\u001B[1;31m---------------------------------------------------------------------------\u001B[0m",
      "\u001B[1;31mKeyboardInterrupt\u001B[0m                         Traceback (most recent call last)",
      "Input \u001B[1;32mIn [11]\u001B[0m, in \u001B[0;36m<cell line: 3>\u001B[1;34m()\u001B[0m\n\u001B[0;32m     25\u001B[0m \u001B[38;5;28mprint\u001B[39m(\u001B[38;5;124m'\u001B[39m\u001B[38;5;124mstate: \u001B[39m\u001B[38;5;124m'\u001B[39m,X_path[i])\n\u001B[0;32m     27\u001B[0m \u001B[38;5;66;03m# train model for prior distribution\u001B[39;00m\n\u001B[1;32m---> 28\u001B[0m train_loss \u001B[38;5;241m=\u001B[39m \u001B[43mtrain_model\u001B[49m\u001B[43m(\u001B[49m\u001B[43mscore_prior_new\u001B[49m\u001B[43m,\u001B[49m\u001B[43m \u001B[49m\u001B[43mx_sample\u001B[49m\u001B[38;5;241;43m=\u001B[39;49m\u001B[43mx_prior\u001B[49m\u001B[43m,\u001B[49m\n\u001B[0;32m     29\u001B[0m \u001B[43m                         \u001B[49m\u001B[43mbatch_size\u001B[49m\u001B[38;5;241;43m=\u001B[39;49m\u001B[38;5;241;43m50000\u001B[39;49m\u001B[43m,\u001B[49m\u001B[43mlr\u001B[49m\u001B[38;5;241;43m=\u001B[39;49m\u001B[38;5;241;43m0.001\u001B[39;49m\u001B[43m,\u001B[49m\u001B[43m \u001B[49m\u001B[43mn_epochs\u001B[49m\u001B[38;5;241;43m=\u001B[39;49m\u001B[38;5;241;43m1000\u001B[39;49m\u001B[43m,\u001B[49m\u001B[43m \u001B[49m\u001B[43mprint_interval\u001B[49m\u001B[38;5;241;43m=\u001B[39;49m\u001B[38;5;241;43m100\u001B[39;49m\u001B[43m)\u001B[49m\n\u001B[0;32m     31\u001B[0m \u001B[38;5;66;03m# new observation\u001B[39;00m\n\u001B[0;32m     32\u001B[0m \u001B[38;5;66;03m#obs_current = torch.from_numpy(obs_path[i+1,:]).float().to(device)\u001B[39;00m\n\u001B[0;32m     33\u001B[0m obs_current \u001B[38;5;241m=\u001B[39m np\u001B[38;5;241m.\u001B[39marray(obs_path[i\u001B[38;5;241m+\u001B[39m\u001B[38;5;241m1\u001B[39m,:])\n",
      "Input \u001B[1;32mIn [4]\u001B[0m, in \u001B[0;36mtrain_model\u001B[1;34m(score_model, x_sample, lr, batch_size, n_epochs, print_interval)\u001B[0m\n\u001B[0;32m    145\u001B[0m \u001B[38;5;28;01mfor\u001B[39;00m x \u001B[38;5;129;01min\u001B[39;00m data_loader:\n\u001B[0;32m    146\u001B[0m     x \u001B[38;5;241m=\u001B[39m x\u001B[38;5;241m.\u001B[39mto(device)\n\u001B[1;32m--> 147\u001B[0m     loss \u001B[38;5;241m=\u001B[39m \u001B[43mloss_fn\u001B[49m\u001B[43m(\u001B[49m\u001B[43mscore_model\u001B[49m\u001B[43m,\u001B[49m\u001B[43m \u001B[49m\u001B[43mx\u001B[49m\u001B[43m,\u001B[49m\u001B[43m \u001B[49m\u001B[43mmarginal_prob_std_fn\u001B[49m\u001B[43m)\u001B[49m\n\u001B[0;32m    148\u001B[0m     optimizer\u001B[38;5;241m.\u001B[39mzero_grad()\n\u001B[0;32m    149\u001B[0m     loss\u001B[38;5;241m.\u001B[39mbackward()\n",
      "Input \u001B[1;32mIn [4]\u001B[0m, in \u001B[0;36mloss_fn\u001B[1;34m(model, x, marginal_prob_std, eps)\u001B[0m\n\u001B[0;32m     85\u001B[0m std \u001B[38;5;241m=\u001B[39m marginal_prob_std(random_t)\n\u001B[0;32m     86\u001B[0m perturbed_x \u001B[38;5;241m=\u001B[39m x \u001B[38;5;241m+\u001B[39m z \u001B[38;5;241m*\u001B[39m std[:, \u001B[38;5;28;01mNone\u001B[39;00m]\n\u001B[1;32m---> 87\u001B[0m score \u001B[38;5;241m=\u001B[39m \u001B[43mmodel\u001B[49m\u001B[43m(\u001B[49m\u001B[43mperturbed_x\u001B[49m\u001B[43m,\u001B[49m\u001B[43m \u001B[49m\u001B[43mrandom_t\u001B[49m\u001B[43m)\u001B[49m\n\u001B[0;32m     88\u001B[0m loss \u001B[38;5;241m=\u001B[39m torch\u001B[38;5;241m.\u001B[39mmean(torch\u001B[38;5;241m.\u001B[39msum((score \u001B[38;5;241m*\u001B[39m std[:, \u001B[38;5;28;01mNone\u001B[39;00m] \u001B[38;5;241m+\u001B[39m z)\u001B[38;5;241m*\u001B[39m\u001B[38;5;241m*\u001B[39m\u001B[38;5;241m2\u001B[39m, dim\u001B[38;5;241m=\u001B[39m\u001B[38;5;241m1\u001B[39m))\n\u001B[0;32m     89\u001B[0m \u001B[38;5;28;01mreturn\u001B[39;00m loss\n",
      "File \u001B[1;32m~\\Anaconda3\\lib\\site-packages\\torch\\nn\\modules\\module.py:1130\u001B[0m, in \u001B[0;36mModule._call_impl\u001B[1;34m(self, *input, **kwargs)\u001B[0m\n\u001B[0;32m   1126\u001B[0m \u001B[38;5;66;03m# If we don't have any hooks, we want to skip the rest of the logic in\u001B[39;00m\n\u001B[0;32m   1127\u001B[0m \u001B[38;5;66;03m# this function, and just call forward.\u001B[39;00m\n\u001B[0;32m   1128\u001B[0m \u001B[38;5;28;01mif\u001B[39;00m \u001B[38;5;129;01mnot\u001B[39;00m (\u001B[38;5;28mself\u001B[39m\u001B[38;5;241m.\u001B[39m_backward_hooks \u001B[38;5;129;01mor\u001B[39;00m \u001B[38;5;28mself\u001B[39m\u001B[38;5;241m.\u001B[39m_forward_hooks \u001B[38;5;129;01mor\u001B[39;00m \u001B[38;5;28mself\u001B[39m\u001B[38;5;241m.\u001B[39m_forward_pre_hooks \u001B[38;5;129;01mor\u001B[39;00m _global_backward_hooks\n\u001B[0;32m   1129\u001B[0m         \u001B[38;5;129;01mor\u001B[39;00m _global_forward_hooks \u001B[38;5;129;01mor\u001B[39;00m _global_forward_pre_hooks):\n\u001B[1;32m-> 1130\u001B[0m     \u001B[38;5;28;01mreturn\u001B[39;00m forward_call(\u001B[38;5;241m*\u001B[39m\u001B[38;5;28minput\u001B[39m, \u001B[38;5;241m*\u001B[39m\u001B[38;5;241m*\u001B[39mkwargs)\n\u001B[0;32m   1131\u001B[0m \u001B[38;5;66;03m# Do not call functions when jit is used\u001B[39;00m\n\u001B[0;32m   1132\u001B[0m full_backward_hooks, non_full_backward_hooks \u001B[38;5;241m=\u001B[39m [], []\n",
      "Input \u001B[1;32mIn [4]\u001B[0m, in \u001B[0;36mScoreNet.forward\u001B[1;34m(self, x, t)\u001B[0m\n\u001B[0;32m     64\u001B[0m h \u001B[38;5;241m=\u001B[39m \u001B[38;5;28mself\u001B[39m\u001B[38;5;241m.\u001B[39moutput(h)\n\u001B[0;32m     66\u001B[0m \u001B[38;5;66;03m# Normalize output\u001B[39;00m\n\u001B[1;32m---> 67\u001B[0m h \u001B[38;5;241m=\u001B[39m h \u001B[38;5;241m/\u001B[39m \u001B[38;5;28;43mself\u001B[39;49m\u001B[38;5;241;43m.\u001B[39;49m\u001B[43mmarginal_prob_std\u001B[49m\u001B[43m(\u001B[49m\u001B[43mt\u001B[49m\u001B[43m)\u001B[49m[:, \u001B[38;5;28;01mNone\u001B[39;00m,]\n\u001B[0;32m     68\u001B[0m \u001B[38;5;28;01mreturn\u001B[39;00m h\n",
      "Input \u001B[1;32mIn [4]\u001B[0m, in \u001B[0;36mmarginal_prob_std\u001B[1;34m(t, sigma)\u001B[0m\n\u001B[0;32m     93\u001B[0m \u001B[38;5;124;03m\"\"\"Compute the mean and standard deviation of $p_{0t}(x(t) | x(0))$.\u001B[39;00m\n\u001B[0;32m     94\u001B[0m \n\u001B[0;32m     95\u001B[0m \u001B[38;5;124;03mArgs:\u001B[39;00m\n\u001B[1;32m   (...)\u001B[0m\n\u001B[0;32m    100\u001B[0m \u001B[38;5;124;03mThe standard deviation.\u001B[39;00m\n\u001B[0;32m    101\u001B[0m \u001B[38;5;124;03m\"\"\"\u001B[39;00m\n\u001B[0;32m    102\u001B[0m \u001B[38;5;66;03m# t = torch.tensor(t, device=device)\u001B[39;00m\n\u001B[1;32m--> 103\u001B[0m \u001B[38;5;28;01mreturn\u001B[39;00m torch\u001B[38;5;241m.\u001B[39msqrt((\u001B[43msigma\u001B[49m\u001B[38;5;241;43m*\u001B[39;49m\u001B[38;5;241;43m*\u001B[39;49m\u001B[43m(\u001B[49m\u001B[38;5;241;43m2\u001B[39;49m\u001B[43m \u001B[49m\u001B[38;5;241;43m*\u001B[39;49m\u001B[43m \u001B[49m\u001B[43mt\u001B[49m\u001B[43m)\u001B[49m \u001B[38;5;241m-\u001B[39m \u001B[38;5;241m1.\u001B[39m) \u001B[38;5;241m/\u001B[39m \u001B[38;5;241m2.\u001B[39m \u001B[38;5;241m/\u001B[39m np\u001B[38;5;241m.\u001B[39mlog(sigma))\n",
      "File \u001B[1;32m~\\Anaconda3\\lib\\site-packages\\torch\\_tensor.py:32\u001B[0m, in \u001B[0;36m_handle_torch_function_and_wrap_type_error_to_not_implemented.<locals>.wrapped\u001B[1;34m(*args, **kwargs)\u001B[0m\n\u001B[0;32m     30\u001B[0m     \u001B[38;5;28;01mif\u001B[39;00m has_torch_function(args):\n\u001B[0;32m     31\u001B[0m         \u001B[38;5;28;01mreturn\u001B[39;00m handle_torch_function(wrapped, args, \u001B[38;5;241m*\u001B[39margs, \u001B[38;5;241m*\u001B[39m\u001B[38;5;241m*\u001B[39mkwargs)\n\u001B[1;32m---> 32\u001B[0m     \u001B[38;5;28;01mreturn\u001B[39;00m f(\u001B[38;5;241m*\u001B[39margs, \u001B[38;5;241m*\u001B[39m\u001B[38;5;241m*\u001B[39mkwargs)\n\u001B[0;32m     33\u001B[0m \u001B[38;5;28;01mexcept\u001B[39;00m \u001B[38;5;167;01mTypeError\u001B[39;00m:\n\u001B[0;32m     34\u001B[0m     \u001B[38;5;28;01mreturn\u001B[39;00m \u001B[38;5;28mNotImplemented\u001B[39m\n",
      "File \u001B[1;32m~\\Anaconda3\\lib\\site-packages\\torch\\_tensor.py:665\u001B[0m, in \u001B[0;36mTensor.__rpow__\u001B[1;34m(self, other)\u001B[0m\n\u001B[0;32m    662\u001B[0m \u001B[38;5;129m@_handle_torch_function_and_wrap_type_error_to_not_implemented\u001B[39m\n\u001B[0;32m    663\u001B[0m \u001B[38;5;28;01mdef\u001B[39;00m \u001B[38;5;21m__rpow__\u001B[39m(\u001B[38;5;28mself\u001B[39m, other):\n\u001B[0;32m    664\u001B[0m     dtype \u001B[38;5;241m=\u001B[39m torch\u001B[38;5;241m.\u001B[39mresult_type(other, \u001B[38;5;28mself\u001B[39m)\n\u001B[1;32m--> 665\u001B[0m     \u001B[38;5;28;01mreturn\u001B[39;00m \u001B[43mtorch\u001B[49m\u001B[38;5;241;43m.\u001B[39;49m\u001B[43mtensor\u001B[49m\u001B[43m(\u001B[49m\u001B[43mother\u001B[49m\u001B[43m,\u001B[49m\u001B[43m \u001B[49m\u001B[43mdtype\u001B[49m\u001B[38;5;241;43m=\u001B[39;49m\u001B[43mdtype\u001B[49m\u001B[43m,\u001B[49m\u001B[43m \u001B[49m\u001B[43mdevice\u001B[49m\u001B[38;5;241;43m=\u001B[39;49m\u001B[38;5;28;43mself\u001B[39;49m\u001B[38;5;241;43m.\u001B[39;49m\u001B[43mdevice\u001B[49m\u001B[43m)\u001B[49m \u001B[38;5;241m*\u001B[39m\u001B[38;5;241m*\u001B[39m \u001B[38;5;28mself\u001B[39m\n",
      "\u001B[1;31mKeyboardInterrupt\u001B[0m: "
     ]
    }
   ],
   "source": [
    "est_all = []\n",
    "x_prior = x_init.clone()\n",
    "for i in range(N_T-1):\n",
    "    print(i)\n",
    "    \n",
    "    score_prior_old = score_prior_new\n",
    "    score_prior_new = copy.deepcopy(score_prior_new)\n",
    "    \n",
    "    # sample initial distribution\n",
    "    x_init = Euler_Maruyama_sampler(score_prior_old,marginal_prob_std_fn, diffusion_coeff_fn,score_likelihood=likelihood_score_fn,\n",
    "                                   batch_size=sample_size,num_steps=800,device=device)\n",
    "    est_all.append(torch.mean(x_init, dim=0).cpu().numpy())\n",
    "\n",
    "    # solve for forward SDE (prediction)\n",
    "    x_prior[:,0] = x_init[:,0] + ( (x_init[:,1] - x_init[:,num_dim-2])*x_init[:,num_dim-1] - x_init[:,0] + F)*dt + torch.randn(sample_size,device=device) * np.sqrt(dt)\n",
    "    x_prior[:,1] = x_init[:,1] + ( (x_init[:,2] - x_init[:,num_dim-1])*x_init[:,0] - x_init[:,1] + F)*dt + torch.randn(sample_size,device=device) * np.sqrt(dt)\n",
    "    x_prior[:,num_dim-1] = x_init[:,num_dim-1] + ( (x_init[:,0] - x_init[:,num_dim-3])*x_init[:,num_dim-2] - x_init[:,num_dim-1] + F)*dt + torch.randn(sample_size,device=device) * np.sqrt(dt)\n",
    "    for d in range(1, num_dim-2):\n",
    "        x_prior[:,d] = x_init[:,d] + ( (x_init[:,d+1] - x_init[:,d-2])*x_init[:,d-1] - x_init[:,d] + F)*dt + torch.randn(sample_size, device=device) * np.sqrt(dt)\n",
    "      \n",
    "    \n",
    "\n",
    "    \n",
    "    print('est: ',est_all[i])\n",
    "    print('state: ',X_path[i])\n",
    "\n",
    "    # train model for prior distribution\n",
    "    train_loss = train_model(score_prior_new, x_sample=x_prior,\n",
    "                             batch_size=50000,lr=0.001, n_epochs=1000, print_interval=100)\n",
    "\n",
    "    # new observation\n",
    "    #obs_current = torch.from_numpy(obs_path[i+1,:]).float().to(device)\n",
    "    obs_current = np.array(obs_path[i+1,:])\n",
    "\n",
    "    # update likelihood function\n",
    "    likelihood_score_fn = functools.partial(likelihood_score, obs=obs_current, sigma_obs=sigma_obs)\n",
    "    # likelihood_score_fn = functools.partial(likelihood_score_damp, obs=obs_current, sigma_obs=sigma_obs, c=0.1)\n",
    "    # next iteration\n",
    "\n",
    "# last estimation\n",
    "# sample initial distribution\n",
    "x_init = Euler_Maruyama_sampler(score_prior_old,marginal_prob_std_fn, diffusion_coeff_fn,score_likelihood=likelihood_score_fn,\n",
    "                               batch_size=sample_size,num_steps=500,device=device)\n",
    "est_all.append(torch.mean(x_init, dim=0).cpu().numpy())\n",
    "\n",
    "est_all = np.array(est_all)\n"
   ]
  },
  {
   "cell_type": "code",
   "execution_count": null,
   "outputs": [],
   "source": [],
   "metadata": {
    "collapsed": false,
    "pycharm": {
     "name": "#%%\n"
    }
   }
  },
  {
   "cell_type": "code",
   "execution_count": null,
   "metadata": {
    "pycharm": {
     "name": "#%%\n"
    }
   },
   "outputs": [],
   "source": [
    "np.savetxt('Est_all_100d.txt', est_all)\n",
    "np.savetxt('X_path_100d.txt', X_path)\n",
    "np.savetxt('obs_path_100d.txt', obs_path)"
   ]
  }
 ],
 "metadata": {
  "kernelspec": {
   "display_name": "Python 3 (ipykernel)",
   "language": "python",
   "name": "python3"
  },
  "language_info": {
   "codemirror_mode": {
    "name": "ipython",
    "version": 3
   },
   "file_extension": ".py",
   "mimetype": "text/x-python",
   "name": "python",
   "nbconvert_exporter": "python",
   "pygments_lexer": "ipython3",
   "version": "3.9.12"
  }
 },
 "nbformat": 4,
 "nbformat_minor": 1
}
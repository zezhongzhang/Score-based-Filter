{
 "cells": [
  {
   "cell_type": "code",
   "execution_count": 1,
   "metadata": {
    "pycharm": {
     "name": "#%%\n"
    }
   },
   "outputs": [],
   "source": [
    "import torch\n",
    "import torch.nn as nn\n",
    "import torch.nn.functional as F\n",
    "import numpy as np\n",
    "import functools\n",
    "from torch.optim import Adam\n",
    "import torchvision.transforms as transforms\n",
    "#from torchvision.datasets import MNIST\n",
    "import matplotlib.pyplot as plt\n",
    "import tqdm\n",
    "import copy\n",
    "\n",
    "from torch.utils.data import DataLoader, Dataset\n"
   ]
  },
  {
   "cell_type": "code",
   "execution_count": 2,
   "metadata": {
    "pycharm": {
     "name": "#%%\n"
    }
   },
   "outputs": [],
   "source": [
    "# model\n",
    "# Defining a time-dependent score-based model\n",
    "\n",
    "class GaussianFourierProjection(nn.Module):\n",
    "    \"\"\"Gaussian random features for encoding time steps.\"\"\"\n",
    "    def __init__(self, embed_dim, scale=30.):\n",
    "        super().__init__()\n",
    "        # Randomly sample weights during initialization. These weights are fixed\n",
    "        # during optimization and are not trainable.\n",
    "        self.W = nn.Parameter(torch.randn(embed_dim // 2) * scale, requires_grad=False)\n",
    "    def forward(self, x):\n",
    "        x_proj = x[:, None] * self.W[None, :] * 2 * np.pi\n",
    "        return torch.cat([torch.sin(x_proj), torch.cos(x_proj)], dim=-1)\n",
    "\n",
    "\n",
    "class ScoreNet(nn.Module):\n",
    "    \"\"\"A time-dependent score-based model built upon U-Net architecture.\"\"\"\n",
    "\n",
    "    def __init__(self, marginal_prob_std, x_dim , hidden_depth=2, embed_dim=128, use_bn=True):\n",
    "        \"\"\"Initialize a time-dependent score-based network.\n",
    "\n",
    "        Args:\n",
    "          marginal_prob_std: A function that takes time t and gives the standard\n",
    "            deviation of the perturbation kernel p_{0t}(x(t) | x(0)).\n",
    "          channels: The number of channels for feature maps of each resolution.\n",
    "          embed_dim: The dimensionality of Gaussian random feature embeddings.\n",
    "        \"\"\"\n",
    "        super().__init__()\n",
    "        self.x_dim = x_dim\n",
    "        self.hidden_depth = hidden_depth\n",
    "        self.embed_dim = embed_dim\n",
    "        self.use_bn = use_bn\n",
    "\n",
    "        assert hidden_depth>=1, 'hidden_depth must be greater than 0!'\n",
    "        # Gaussian random feature embedding layer for time\n",
    "        self.embed = nn.Sequential(GaussianFourierProjection(embed_dim=embed_dim),\n",
    "             nn.Linear(embed_dim, embed_dim))\n",
    "\n",
    "        # fc layers\n",
    "        self.input = nn.Linear(x_dim, embed_dim)\n",
    "        self.fc_all = nn.ModuleList([nn.Linear(embed_dim, embed_dim) for i in range(self.hidden_depth)])\n",
    "        self.output = nn.Linear(embed_dim, x_dim)\n",
    "\n",
    "        if self.use_bn:\n",
    "            self.bn = nn.ModuleList([nn.BatchNorm1d(num_features=embed_dim) for i in range(self.hidden_depth)])\n",
    "\n",
    "        # The swish activation function\n",
    "        self.act = lambda x: x * torch.sigmoid(x)\n",
    "        self.marginal_prob_std = marginal_prob_std\n",
    "\n",
    "\n",
    "    def forward(self, x, t):\n",
    "        # Obtain the Gaussian random feature embedding for t\n",
    "        embed = self.act(self.embed(t))\n",
    "\n",
    "        #\n",
    "        h = self.input(x)\n",
    "        # residue connections\n",
    "        for i in range(self.hidden_depth):\n",
    "            h = h + self.act(self.fc_all[i](h)) + embed\n",
    "            if self.use_bn:\n",
    "                h = self.bn[i](h)\n",
    "\n",
    "        h = self.output(h)\n",
    "\n",
    "        # Normalize output\n",
    "        h = h / self.marginal_prob_std(t)[:, None,]\n",
    "        return h\n",
    "\n",
    "\n",
    "# Define the loss function\n",
    "def loss_fn(model, x, marginal_prob_std, eps=1e-5):\n",
    "    \"\"\"The loss function for training score-based generative models.\n",
    "\n",
    "    Args:\n",
    "    model: A PyTorch model instance that represents a\n",
    "      time-dependent score-based model.\n",
    "    x: A mini-batch of training data.\n",
    "    marginal_prob_std: A function that gives the standard deviation of\n",
    "      the perturbation kernel.\n",
    "    eps: A tolerance value for numerical stability.\n",
    "    \"\"\"\n",
    "    random_t = torch.rand(x.shape[0], device=x.device) * (1. - eps) + eps #(eps,1)\n",
    "    z = torch.randn_like(x)\n",
    "    std = marginal_prob_std(random_t)\n",
    "    perturbed_x = x + z * std[:, None]\n",
    "    score = model(perturbed_x, random_t)\n",
    "    loss = torch.mean(torch.sum((score * std[:, None] + z)**2, dim=1))\n",
    "    return loss\n",
    "\n",
    "\n",
    "def marginal_prob_std(t, sigma):\n",
    "    \"\"\"Compute the mean and standard deviation of $p_{0t}(x(t) | x(0))$.\n",
    "\n",
    "    Args:\n",
    "    t: A vector of time steps.\n",
    "    sigma: The $\\sigma$ in our SDE.\n",
    "\n",
    "    Returns:\n",
    "    The standard deviation.\n",
    "    \"\"\"\n",
    "    # t = torch.tensor(t, device=device)\n",
    "    return torch.sqrt((sigma**(2 * t) - 1.) / 2. / np.log(sigma))\n",
    "\n",
    "\n",
    "def diffusion_coeff(t, sigma):\n",
    "    \"\"\"Compute the diffusion coefficient of our SDE.\n",
    "\n",
    "    Args:\n",
    "    t: A vector of time steps.\n",
    "    sigma: The $\\sigma$ in our SDE.\n",
    "\n",
    "    Returns:\n",
    "    The vector of diffusion coefficients.\n",
    "    \"\"\"\n",
    "    # return torch.tensor(sigma**t, device=device)\n",
    "    return sigma**t\n",
    "\n",
    "\n",
    "# data set\n",
    "class MyDataset(Dataset):\n",
    "    def __init__(self, x_train):\n",
    "        super().__init__()\n",
    "        self.x_train = x_train\n",
    "\n",
    "    def __len__(self):\n",
    "        return self.x_train.shape[0]\n",
    "\n",
    "    def __getitem__(self, idx):\n",
    "        return self.x_train[idx]\n",
    "\n",
    "\n",
    "\n",
    "def train_model(score_model, x_sample, lr=1e-4, batch_size=1000, n_epochs=5000, print_interval=100):\n",
    "    dataset = MyDataset(x_sample)\n",
    "    data_loader = DataLoader(dataset, batch_size=batch_size, shuffle=True)\n",
    "\n",
    "    optimizer = Adam(score_model.parameters(), lr=lr)\n",
    "    train_loss = []\n",
    "\n",
    "\n",
    "    for epoch in range(n_epochs):\n",
    "        avg_loss = 0.\n",
    "        num_items = 0\n",
    "        for x in data_loader:\n",
    "            x = x.to(device)\n",
    "            loss = loss_fn(score_model, x, marginal_prob_std_fn)\n",
    "            optimizer.zero_grad()\n",
    "            loss.backward()\n",
    "            optimizer.step()\n",
    "            avg_loss += loss.item() * x.shape[0]\n",
    "            num_items += x.shape[0]\n",
    "        # Print the averaged training loss so far.\n",
    "        epoch_avg_loss = avg_loss / num_items\n",
    "        train_loss.append(epoch_avg_loss)\n",
    "        if epoch%print_interval==0:\n",
    "            print(f'epoch: {epoch}\\t loss: {epoch_avg_loss}')\n",
    "    return train_loss\n",
    "\n",
    "\n",
    "def Euler_Maruyama_sampler(score_prior, marginal_prob_std, diffusion_coeff, score_likelihood=None,\n",
    "                           batch_size=64,num_steps=500,device='cpu',eps=1e-3):\n",
    "    \"\"\"Generate samples from score-based models with the Euler-Maruyama solver.\n",
    "\n",
    "    Args:\n",
    "    score_model: A PyTorch model that represents the time-dependent score-based model.\n",
    "    marginal_prob_std: A function that gives the standard deviation of\n",
    "    the perturbation kernel.\n",
    "    diffusion_coeff: A function that gives the diffusion coefficient of the SDE.\n",
    "    batch_size: The number of samplers to generate by calling this function once.\n",
    "    num_steps: The number of sampling steps.\n",
    "    Equivalent to the number of discretized time steps.\n",
    "    device: 'cuda' for running on GPUs, and 'cpu' for running on CPUs.\n",
    "    eps: The smallest time step for numerical stability.\n",
    "\n",
    "    Returns:\n",
    "    Samples.\n",
    "    \"\"\"\n",
    "    t = torch.ones(batch_size, device=device)\n",
    "    init_x = torch.randn(batch_size, score_prior.x_dim, device=device) \\\n",
    "    * marginal_prob_std(t)[:, None]\n",
    "    time_steps = torch.linspace(1., eps, num_steps, device=device)\n",
    "    step_size = time_steps[0] - time_steps[1]\n",
    "    x = init_x\n",
    "    with torch.no_grad():\n",
    "        for time_step in tqdm.notebook.tqdm(time_steps):\n",
    "            batch_time_step = torch.ones(batch_size, device=device) * time_step\n",
    "            g = diffusion_coeff(batch_time_step)\n",
    "            if score_likelihood is None:\n",
    "                score = score_prior(x, batch_time_step)\n",
    "            else:\n",
    "                score = score_prior(x, batch_time_step) + score_likelihood(x)*torch.relu(1-2*time_step)\n",
    "\n",
    "            # score = torch.clip(score, min=-100, max=100)\n",
    "\n",
    "            score_norm = torch.sqrt(torch.mean(score**2, dim=1))\n",
    "            adj_ratio = torch.ones_like(score_norm)\n",
    "            tol = 50.\n",
    "            adj_ratio[score_norm>tol] = tol/score_norm[score_norm>tol]\n",
    "            # score_norm = torch.clip(score_norm, min=0, max=50)\n",
    "\n",
    "\n",
    "            score = score*adj_ratio[:,None]\n",
    "\n",
    "            # print(time_step, score)\n",
    "\n",
    "            mean_x = x + (g**2)[:, None] * score * step_size\n",
    "            x = mean_x + torch.sqrt(step_size) * g[:, None] * torch.randn_like(x)\n",
    "        # Do not include any noise in the last sampling step.\n",
    "    return mean_x\n"
   ]
  },
  {
   "cell_type": "code",
   "execution_count": 3,
   "metadata": {
    "pycharm": {
     "name": "#%%\n"
    }
   },
   "outputs": [],
   "source": [
    "# diffusion setup\n",
    "device = 'cuda' #@param ['cuda', 'cpu'] {'type':'string'}\n",
    "sigma =  25.0#@param {'type':'number'}\n",
    "marginal_prob_std_fn = functools.partial(marginal_prob_std, sigma=sigma)\n",
    "diffusion_coeff_fn = functools.partial(diffusion_coeff, sigma=sigma)\n",
    "\n",
    "torch.manual_seed(123456987)\n",
    "np.random.seed(12362186)"
   ]
  },
  {
   "cell_type": "code",
   "execution_count": 4,
   "metadata": {
    "pycharm": {
     "name": "#%%\n"
    }
   },
   "outputs": [],
   "source": [
    "# define obs system\n",
    "# h(x) = x^3\n",
    "\n",
    "\n",
    "\n",
    "def likelihood_1d(x, obs, sigma_obs):\n",
    "    return torch.exp(-0.5*(x**3 - obs)**2/sigma_obs**2)\n",
    "\n",
    "def likelihood_score_1d(x, obs, sigma_obs):\n",
    "    temp1 = -(x**3 - obs)/sigma_obs**2\n",
    "    temp2 = 3*x**2\n",
    "    return temp2*temp1\n",
    "\n",
    "\n",
    "def likelihood(x, obs, sigma_obs):\n",
    "    l1 = likelihood_1d(x[:,0], obs[0], sigma_obs)\n",
    "    l2 = likelihood_1d(x[:,1], obs[1], sigma_obs)\n",
    "    return l1*l2\n",
    "\n",
    "def likelihood_score(x, obs, sigma_obs):\n",
    "    score_d = []\n",
    "    for d in range(num_dim):\n",
    "        score_d.append(likelihood_score_1d(x[:,d], obs[d], sigma_obs))\n",
    "        #score_d[d] = likelihood_score_1d(x[:,d], obs[0], sigma_obs)\n",
    "    \n",
    "    sc = torch.stack(score_d, dim=1)\n",
    "    return sc\n",
    "\n",
    "def likelihood_score_damp(x, obs, sigma_obs, c=0.01):\n",
    "    sc1 = likelihood_score_1d(x[:,0], obs[0], sigma_obs)\n",
    "    sc2 = likelihood_score_1d(x[:,1], obs[1], sigma_obs)\n",
    "    sc = torch.stack([sc1, sc2], dim=1)\n",
    "    sc_gauss = -(x)/c\n",
    "\n",
    "    sc_norm = torch.mean(sc**2, dim=1)\n",
    "    gauss_norm = torch.mean(sc_gauss**2, dim=1)\n",
    "    sc[sc_norm > gauss_norm] = sc_gauss[sc_norm > gauss_norm]\n",
    "    return sc"
   ]
  },
  {
   "cell_type": "markdown",
   "metadata": {
    "pycharm": {
     "name": "#%% md\n"
    }
   },
   "source": [
    "# filtering setup"
   ]
  },
  {
   "cell_type": "code",
   "execution_count": 5,
   "metadata": {
    "pycharm": {
     "name": "#%%\n"
    }
   },
   "outputs": [
    {
     "data": {
      "text/plain": "<Figure size 432x288 with 1 Axes>",
      "image/png": "[encoded data removed]"
     },
     "metadata": {
      "needs_background": "light"
     },
     "output_type": "display_data"
    },
    {
     "data": {
      "text/plain": "<Figure size 432x288 with 1 Axes>",
      "image/png": "[encoded data removed]"
     },
     "metadata": {
      "needs_background": "light"
     },
     "output_type": "display_data"
    }
   ],
   "source": [
    "# Problem formulation\n",
    "# state process setup\n",
    "Time = 1.00\n",
    "dt = 0.01\n",
    "num_dim = 10\n",
    "X_initial = torch.randn(num_dim)*2+4\n",
    "N_T = int(Time//dt+1)\n",
    "t_path = np.linspace(0, Time, N_T)\n",
    "sigma_SDE = 0.1\n",
    "F = 8\n",
    "\n",
    "\n",
    "#dt = t_path[1] - t_path[0]\n",
    "\n",
    "\n",
    "X_path = torch.zeros((N_T, num_dim))\n",
    "X_path[0] = X_initial.clone()\n",
    "x_new = X_initial.clone()\n",
    "\n",
    "for i in range(N_T-1):\n",
    "    # Generate true state trajectory\n",
    "    x_old = X_path[i]\n",
    "    \n",
    "    x_new[0] = x_old[0] + ( (x_old[1] - x_old[num_dim-2])*x_old[num_dim-1] - x_old[0] + F)*dt + sigma_SDE*np.random.randn(1) * np.sqrt(dt)\n",
    "    x_new[1] = x_old[1] + ( (x_old[2] - x_old[num_dim-1])*x_old[0] - x_old[1] + F)*dt + sigma_SDE*np.random.randn(1) * np.sqrt(dt)\n",
    "    x_new[num_dim-1] = x_old[num_dim-1] + ( (x_old[0] - x_old[num_dim-3])*x_old[num_dim-2] - x_old[num_dim-1] + F)*dt + sigma_SDE*np.random.randn(1) * np.sqrt(dt)\n",
    "    \n",
    "    for d in range(2, num_dim-1):\n",
    "        x_new[d] = x_old[d] + ( (x_old[d+1] - x_old[d-2])*x_old[d-1] - x_old[d] + F)*dt + sigma_SDE*np.random.randn(1) * np.sqrt(dt)\n",
    "        #print(x_new[d])\n",
    "        #print(d)\n",
    "    #x_new[num_dim-1] = x_new[0]    \n",
    "\n",
    "    X_path[i+1] = x_new\n",
    "    \n",
    "    if i==30:\n",
    "        X_path[i+1] = X_path[i+1] + torch.randn(num_dim)*3\n",
    "    if i==60:\n",
    "        X_path[i+1] = X_path[i+1] + torch.randn(num_dim)*3\n",
    "\n",
    "# get observation\n",
    "sigma_obs = 0.5\n",
    "\n",
    "obs_path_true = X_path**3\n",
    "obs_path = obs_path_true + np.random.randn(N_T,num_dim)*sigma_obs\n",
    "\n",
    "# plot\n",
    "plt.plot(X_path[:,0],X_path[:,1],'.-',label='obs')\n",
    "plt.title('state')\n",
    "plt.show()\n",
    "\n",
    "plt.plot(obs_path[:,0],obs_path[:,1],'.-',label='obs')\n",
    "plt.title('obs')\n",
    "plt.show()\n",
    "\n"
   ]
  },
  {
   "cell_type": "code",
   "execution_count": 6,
   "metadata": {
    "pycharm": {
     "name": "#%%\n"
    }
   },
   "outputs": [
    {
     "name": "stdout",
     "output_type": "stream",
     "text": [
      "tensor([0.1021, 5.7145, 4.3233, 0.9976, 4.3922, 2.7011, 3.5758, 4.0199, 5.6632,\n",
      "        2.3283])\n"
     ]
    },
    {
     "name": "stderr",
     "output_type": "stream",
     "text": [
      "C:\\Users\\10576\\AppData\\Local\\Temp\\ipykernel_2444\\2126229071.py:2: UserWarning: To copy construct from a tensor, it is recommended to use sourceTensor.clone().detach() or sourceTensor.clone().detach().requires_grad_(True), rather than torch.tensor(sourceTensor).\n",
      "  x0 = torch.tensor(X_initial.clone(), dtype=torch.float32, device=device)\n"
     ]
    }
   ],
   "source": [
    "# initial guess\n",
    "x0 = torch.tensor(X_initial.clone(), dtype=torch.float32, device=device)\n",
    "sigma0 = 0.5\n",
    "\n",
    "print(X_initial)\n"
   ]
  },
  {
   "cell_type": "code",
   "execution_count": 11,
   "metadata": {
    "pycharm": {
     "name": "#%%\n"
    }
   },
   "outputs": [
    {
     "name": "stdout",
     "output_type": "stream",
     "text": [
      "epoch: 0\t loss: 56.695579528808594\n",
      "epoch: 100\t loss: 2.759016513824463\n",
      "epoch: 200\t loss: 2.2534046173095703\n",
      "epoch: 300\t loss: 2.089679002761841\n",
      "epoch: 400\t loss: 2.128941297531128\n",
      "epoch: 500\t loss: 2.019395351409912\n",
      "epoch: 600\t loss: 2.084850549697876\n",
      "epoch: 700\t loss: 2.013529062271118\n",
      "epoch: 800\t loss: 2.0418601036071777\n",
      "epoch: 900\t loss: 1.9938313961029053\n"
     ]
    }
   ],
   "source": [
    "# Training initialize\n",
    "x_dim = num_dim\n",
    "hidden_depth  = 2\n",
    "embed_dim = 200\n",
    "use_bn = False\n",
    "\n",
    "score_prior_old = ScoreNet(marginal_prob_std=marginal_prob_std_fn, x_dim=x_dim,\n",
    "                           hidden_depth=hidden_depth, embed_dim=embed_dim, use_bn=use_bn)\n",
    "\n",
    "score_prior_new = ScoreNet(marginal_prob_std=marginal_prob_std_fn, x_dim=x_dim,\n",
    "                           hidden_depth=hidden_depth, embed_dim=embed_dim, use_bn=use_bn)\n",
    "\n",
    "score_prior_old = score_prior_old.to(device)\n",
    "score_prior_new = score_prior_new.to(device)\n",
    "\n",
    "# initial samples\n",
    "sample_size = 10000\n",
    "x_init = x0 + torch.randn(sample_size,num_dim, dtype=torch.float32, device=device)*sigma0\n",
    "train_loss = train_model(score_prior_old, x_sample=x_init, batch_size=10000, lr=0.01, n_epochs=1000, print_interval=100)\n",
    "\n",
    "likelihood_score_fn = None\n",
    "score_prior_new = score_prior_old"
   ]
  },
  {
   "cell_type": "code",
   "execution_count": 12,
   "metadata": {
    "pycharm": {
     "name": "#%%\n"
    }
   },
   "outputs": [
    {
     "name": "stdout",
     "output_type": "stream",
     "text": [
      "0\n"
     ]
    },
    {
     "data": {
      "text/plain": "  0%|          | 0/1000 [00:00<?, ?it/s]",
      "application/vnd.jupyter.widget-view+json": {
       "version_major": 2,
       "version_minor": 0,
       "model_id": "48bb79fe11e245b7a7379fd31fec9a8d"
      }
     },
     "metadata": {},
     "output_type": "display_data"
    },
    {
     "name": "stdout",
     "output_type": "stream",
     "text": [
      "est:  [0.1689965  5.6499577  4.276519   0.98624665 4.38035    2.6676824\n",
      " 3.5080268  3.9815812  5.61131    2.2725945 ]\n",
      "state:  tensor([0.1021, 5.7145, 4.3233, 0.9976, 4.3922, 2.7011, 3.5758, 4.0199, 5.6632,\n",
      "        2.3283])\n",
      "epoch: 0\t loss: 2.14328670501709\n",
      "epoch: 100\t loss: 2.0670278072357178\n",
      "epoch: 200\t loss: 2.0581424236297607\n",
      "epoch: 300\t loss: 2.0262746810913086\n",
      "epoch: 400\t loss: 1.9972312450408936\n",
      "1\n"
     ]
    },
    {
     "data": {
      "text/plain": "  0%|          | 0/1000 [00:00<?, ?it/s]",
      "application/vnd.jupyter.widget-view+json": {
       "version_major": 2,
       "version_minor": 0,
       "model_id": "258a13c23a3b44f5ba9aa9a255e9a11c"
      }
     },
     "metadata": {},
     "output_type": "display_data"
    },
    {
     "name": "stdout",
     "output_type": "stream",
     "text": [
      "est:  [0.05878197 5.734577   4.402752   0.2759857  4.401356   2.7595487\n",
      " 3.6130464  4.1733103  5.6298976  1.8796941 ]\n",
      "state:  tensor([0.1827, 5.7333, 4.4057, 1.0167, 4.4007, 2.8507, 3.6180, 4.1855, 5.6252,\n",
      "        2.1585])\n",
      "epoch: 0\t loss: 2.15840220451355\n",
      "epoch: 100\t loss: 1.5823007822036743\n",
      "epoch: 200\t loss: 1.4379159212112427\n",
      "epoch: 300\t loss: 1.2769192457199097\n",
      "epoch: 400\t loss: 1.2935349941253662\n",
      "2\n"
     ]
    },
    {
     "data": {
      "text/plain": "  0%|          | 0/1000 [00:00<?, ?it/s]",
      "application/vnd.jupyter.widget-view+json": {
       "version_major": 2,
       "version_minor": 0,
       "model_id": "0acc27474e38438caca645b292ce9f1e"
      }
     },
     "metadata": {},
     "output_type": "display_data"
    },
    {
     "name": "stdout",
     "output_type": "stream",
     "text": [
      "est:  [-0.02633368  5.753712    4.4920807   0.23359814  4.439829    2.9744709\n",
      "  3.6871898   4.3113704   5.592037    1.5810633 ]\n",
      "state:  tensor([0.2678, 5.7607, 4.4828, 1.0343, 4.4303, 3.0213, 3.6764, 4.3112, 5.5939,\n",
      "        1.9947])\n",
      "epoch: 0\t loss: 1.4175207614898682\n",
      "epoch: 100\t loss: 1.3091892004013062\n",
      "epoch: 200\t loss: 1.2864980697631836\n",
      "epoch: 300\t loss: 1.2915937900543213\n",
      "epoch: 400\t loss: 1.2815628051757812\n",
      "3\n"
     ]
    },
    {
     "data": {
      "text/plain": "  0%|          | 0/1000 [00:00<?, ?it/s]",
      "application/vnd.jupyter.widget-view+json": {
       "version_major": 2,
       "version_minor": 0,
       "model_id": "55ad430380494b3d81103c79b59fb838"
      }
     },
     "metadata": {},
     "output_type": "display_data"
    },
    {
     "name": "stdout",
     "output_type": "stream",
     "text": [
      "est:  [0.06734042 5.7649374  4.5595837  0.08853766 4.4620676  3.1505327\n",
      " 3.7348936  4.463971   5.5478606  1.115582  ]\n",
      "state:  tensor([0.3495, 5.7720, 4.5589, 1.0454, 4.4540, 3.1937, 3.7375, 4.4549, 5.5416,\n",
      "        1.8249])\n",
      "epoch: 0\t loss: 1.5070050954818726\n",
      "epoch: 100\t loss: 1.302839994430542\n",
      "epoch: 200\t loss: 1.2543270587921143\n",
      "epoch: 300\t loss: 1.3179283142089844\n",
      "epoch: 400\t loss: 1.330349326133728\n",
      "4\n"
     ]
    },
    {
     "data": {
      "text/plain": "  0%|          | 0/1000 [00:00<?, ?it/s]",
      "application/vnd.jupyter.widget-view+json": {
       "version_major": 2,
       "version_minor": 0,
       "model_id": "9873e28a86224dc3b9c413492523be08"
      }
     },
     "metadata": {},
     "output_type": "display_data"
    },
    {
     "name": "stdout",
     "output_type": "stream",
     "text": [
      "est:  [-0.07447752  5.817565    4.6243677   0.11913662  4.4825406   3.347935\n",
      "  3.7797604   4.5593896   5.4746537   0.75285274]\n",
      "state:  tensor([0.4169, 5.8136, 4.6246, 1.0497, 4.4858, 3.3591, 3.7762, 4.5670, 5.4662,\n",
      "        1.6713])\n",
      "epoch: 0\t loss: 1.4712555408477783\n",
      "epoch: 100\t loss: 1.3454854488372803\n",
      "epoch: 200\t loss: 1.3359304666519165\n",
      "epoch: 300\t loss: 1.3324565887451172\n",
      "epoch: 400\t loss: 1.3591325283050537\n",
      "5\n"
     ]
    },
    {
     "data": {
      "text/plain": "  0%|          | 0/1000 [00:00<?, ?it/s]",
      "application/vnd.jupyter.widget-view+json": {
       "version_major": 2,
       "version_minor": 0,
       "model_id": "bbfb390e8daf40c09a3111529dbd738b"
      }
     },
     "metadata": {},
     "output_type": "display_data"
    },
    {
     "name": "stdout",
     "output_type": "stream",
     "text": [
      "est:  [-0.11026477  5.826297    4.691868    0.14986685  4.503625    3.5307643\n",
      "  3.8047175   4.6761117   5.3737183   0.5366161 ]\n",
      "state:  tensor([0.4958, 5.8316, 4.6903, 1.0736, 4.4946, 3.5462, 3.8293, 4.6847, 5.3754,\n",
      "        1.5169])\n",
      "epoch: 0\t loss: 1.3996998071670532\n",
      "epoch: 100\t loss: 1.3508884906768799\n",
      "epoch: 200\t loss: 1.3088074922561646\n",
      "epoch: 300\t loss: 1.3227064609527588\n",
      "epoch: 400\t loss: 1.3053470849990845\n",
      "6\n"
     ]
    },
    {
     "data": {
      "text/plain": "  0%|          | 0/1000 [00:00<?, ?it/s]",
      "application/vnd.jupyter.widget-view+json": {
       "version_major": 2,
       "version_minor": 0,
       "model_id": "54cfbd8632774b76a7c70d23f562e74f"
      }
     },
     "metadata": {},
     "output_type": "display_data"
    },
    {
     "name": "stdout",
     "output_type": "stream",
     "text": [
      "est:  [-0.03022818  5.856177    4.7620187   0.26427177  4.5279183   3.6983373\n",
      "  3.8746164   4.7919655   5.295439    0.2676065 ]\n",
      "state:  tensor([0.5798, 5.8581, 4.7618, 1.0899, 4.5273, 3.7062, 3.8858, 4.7919, 5.3020,\n",
      "        1.3598])\n",
      "epoch: 0\t loss: 1.4149383306503296\n",
      "epoch: 100\t loss: 1.3249468803405762\n",
      "epoch: 200\t loss: 1.3331704139709473\n",
      "epoch: 300\t loss: 1.3184341192245483\n",
      "epoch: 400\t loss: 1.3187423944473267\n",
      "7\n"
     ]
    },
    {
     "data": {
      "text/plain": "  0%|          | 0/1000 [00:00<?, ?it/s]",
      "application/vnd.jupyter.widget-view+json": {
       "version_major": 2,
       "version_minor": 0,
       "model_id": "3c5d8c8189084dcea27e3fc964e0fc94"
      }
     },
     "metadata": {},
     "output_type": "display_data"
    },
    {
     "name": "stdout",
     "output_type": "stream",
     "text": [
      "est:  [0.06314489 5.896517   4.843042   0.22843337 4.556068   3.8769398\n",
      " 3.9304726  4.9017115  5.2123184  0.23705041]\n",
      "state:  tensor([0.6647, 5.8973, 4.8332, 1.0968, 4.5559, 3.8831, 3.9458, 4.8947, 5.2175,\n",
      "        1.2218])\n",
      "epoch: 0\t loss: 1.4337220191955566\n",
      "epoch: 100\t loss: 1.3370766639709473\n",
      "epoch: 200\t loss: 1.3126901388168335\n",
      "epoch: 300\t loss: 1.3053686618804932\n",
      "epoch: 400\t loss: 1.2814792394638062\n",
      "8\n"
     ]
    },
    {
     "data": {
      "text/plain": "  0%|          | 0/1000 [00:00<?, ?it/s]",
      "application/vnd.jupyter.widget-view+json": {
       "version_major": 2,
       "version_minor": 0,
       "model_id": "ef690253416c40ef9bc5e5633cde91b5"
      }
     },
     "metadata": {},
     "output_type": "display_data"
    },
    {
     "name": "stdout",
     "output_type": "stream",
     "text": [
      "est:  [0.04339335 5.928191   4.884989   0.21415542 4.573316   4.0470204\n",
      " 3.9836655  4.978292   5.1256375  0.20734555]\n",
      "state:  tensor([0.7171, 5.9352, 4.8855, 1.1072, 4.5667, 4.0526, 3.9971, 4.9747, 5.1253,\n",
      "        1.0592])\n",
      "epoch: 0\t loss: 1.3599025011062622\n",
      "epoch: 100\t loss: 1.272608995437622\n",
      "epoch: 200\t loss: 1.3063207864761353\n",
      "epoch: 300\t loss: 1.2970435619354248\n",
      "epoch: 400\t loss: 1.3037259578704834\n",
      "9\n"
     ]
    },
    {
     "data": {
      "text/plain": "  0%|          | 0/1000 [00:00<?, ?it/s]",
      "application/vnd.jupyter.widget-view+json": {
       "version_major": 2,
       "version_minor": 0,
       "model_id": "e8da494237c84ab6b19ec0c49a089644"
      }
     },
     "metadata": {},
     "output_type": "display_data"
    },
    {
     "name": "stdout",
     "output_type": "stream",
     "text": [
      "est:  [-0.08115793  5.971719    4.9420857   0.27721915  4.6063247   4.197666\n",
      "  4.0473595   5.0498896   5.0024047  -0.05821189]\n",
      "state:  tensor([0.7881, 5.9773, 4.9366, 1.1098, 4.5951, 4.2141, 4.0635, 5.0516, 5.0047,\n",
      "        0.9096])\n",
      "epoch: 0\t loss: 1.4016770124435425\n",
      "epoch: 100\t loss: 1.3394927978515625\n",
      "epoch: 200\t loss: 1.3271912336349487\n",
      "epoch: 300\t loss: 1.283223032951355\n",
      "epoch: 400\t loss: 1.3614013195037842\n",
      "10\n"
     ]
    },
    {
     "data": {
      "text/plain": "  0%|          | 0/1000 [00:00<?, ?it/s]",
      "application/vnd.jupyter.widget-view+json": {
       "version_major": 2,
       "version_minor": 0,
       "model_id": "8499d675fef04b18adee990fa1f57f68"
      }
     },
     "metadata": {},
     "output_type": "display_data"
    },
    {
     "name": "stdout",
     "output_type": "stream",
     "text": [
      "est:  [0.0105111  6.032279   4.988302   0.19545175 4.617726   4.399563\n",
      " 4.12106    5.113038   4.880992   0.03623971]\n",
      "state:  tensor([0.8704, 6.0297, 4.9887, 1.1121, 4.6299, 4.3925, 4.1185, 5.1092, 4.8663,\n",
      "        0.7605])\n",
      "epoch: 0\t loss: 1.438934326171875\n",
      "epoch: 100\t loss: 1.3066835403442383\n",
      "epoch: 200\t loss: 1.3022722005844116\n",
      "epoch: 300\t loss: 1.291326880455017\n",
      "epoch: 400\t loss: 1.317706823348999\n",
      "11\n"
     ]
    },
    {
     "data": {
      "text/plain": "  0%|          | 0/1000 [00:00<?, ?it/s]",
      "application/vnd.jupyter.widget-view+json": {
       "version_major": 2,
       "version_minor": 0,
       "model_id": "8933dccd5bfe4b57a11efe8358c9d85a"
      }
     },
     "metadata": {},
     "output_type": "display_data"
    },
    {
     "name": "stdout",
     "output_type": "stream",
     "text": [
      "est:  [ 0.16449419  6.0916853   5.033251    0.18164496  4.6418657   4.571\n",
      "  4.2133703   5.110715    4.7267723  -0.00709009]\n",
      "state:  tensor([0.9569, 6.0879, 5.0258, 1.1135, 4.6610, 4.5664, 4.2108, 5.1234, 4.7253,\n",
      "        0.6311])\n",
      "epoch: 0\t loss: 1.4279698133468628\n",
      "epoch: 100\t loss: 1.3146642446517944\n",
      "epoch: 200\t loss: 1.3357821702957153\n",
      "epoch: 300\t loss: 1.2939116954803467\n",
      "epoch: 400\t loss: 1.3519057035446167\n",
      "12\n"
     ]
    },
    {
     "data": {
      "text/plain": "  0%|          | 0/1000 [00:00<?, ?it/s]",
      "application/vnd.jupyter.widget-view+json": {
       "version_major": 2,
       "version_minor": 0,
       "model_id": "b65892f43d9540268b794aaf2225ca7d"
      }
     },
     "metadata": {},
     "output_type": "display_data"
    },
    {
     "name": "stdout",
     "output_type": "stream",
     "text": [
      "est:  [ 0.11918581  6.129886    5.071803    0.14767903  4.683778    4.733628\n",
      "  4.295728    5.171551    4.5720763  -0.03285943]\n",
      "state:  tensor([1.0519, 6.1342, 5.0708, 1.1092, 4.6926, 4.7433, 4.2833, 5.1747, 4.5853,\n",
      "        0.5073])\n",
      "epoch: 0\t loss: 1.3958125114440918\n",
      "epoch: 100\t loss: 1.3134156465530396\n",
      "epoch: 200\t loss: 1.3375589847564697\n",
      "epoch: 300\t loss: 1.2982385158538818\n",
      "epoch: 400\t loss: 1.3251864910125732\n",
      "13\n"
     ]
    },
    {
     "data": {
      "text/plain": "  0%|          | 0/1000 [00:00<?, ?it/s]",
      "application/vnd.jupyter.widget-view+json": {
       "version_major": 2,
       "version_minor": 0,
       "model_id": "a118f73011264f7caea4535849233253"
      }
     },
     "metadata": {},
     "output_type": "display_data"
    },
    {
     "name": "stdout",
     "output_type": "stream",
     "text": [
      "est:  [ 0.1422279   6.184793    5.082839    0.23835842  4.7308793   4.920378\n",
      "  4.350067    5.1999884   4.422699   -0.10517314]\n",
      "state:  tensor([1.1313, 6.1854, 5.0904, 1.0982, 4.7310, 4.9295, 4.3566, 5.1939, 4.4282,\n",
      "        0.3820])\n",
      "epoch: 0\t loss: 1.4479490518569946\n",
      "epoch: 100\t loss: 1.309186339378357\n",
      "epoch: 200\t loss: 1.351646900177002\n",
      "epoch: 300\t loss: 1.2935131788253784\n",
      "epoch: 400\t loss: 1.3235951662063599\n",
      "14\n"
     ]
    },
    {
     "data": {
      "text/plain": "  0%|          | 0/1000 [00:00<?, ?it/s]",
      "application/vnd.jupyter.widget-view+json": {
       "version_major": 2,
       "version_minor": 0,
       "model_id": "aa33bb644c3841769d0a1b208cbb67d0"
      }
     },
     "metadata": {},
     "output_type": "display_data"
    },
    {
     "name": "stdout",
     "output_type": "stream",
     "text": [
      "est:  [0.24990162 6.267919   5.116687   0.1052938  4.7936044  5.104133\n",
      " 4.3986654  5.200712   4.2802615  0.07738911]\n",
      "state:  tensor([1.2081, 6.2644, 5.1212, 1.0842, 4.7745, 5.1093, 4.4065, 5.2018, 4.2902,\n",
      "        0.2632])\n",
      "epoch: 0\t loss: 1.4437084197998047\n",
      "epoch: 100\t loss: 1.3301401138305664\n",
      "epoch: 200\t loss: 1.3303589820861816\n",
      "epoch: 300\t loss: 1.341812014579773\n",
      "epoch: 400\t loss: 1.3491626977920532\n",
      "15\n"
     ]
    },
    {
     "data": {
      "text/plain": "  0%|          | 0/1000 [00:00<?, ?it/s]",
      "application/vnd.jupyter.widget-view+json": {
       "version_major": 2,
       "version_minor": 0,
       "model_id": "75ce45c9285d4e5480dd822aa4f4bc16"
      }
     },
     "metadata": {},
     "output_type": "display_data"
    },
    {
     "name": "stdout",
     "output_type": "stream",
     "text": [
      "est:  [ 0.22007275  6.331321    5.176489    0.19483605  4.822615    5.301884\n",
      "  4.4492717   5.2057867   4.1328607  -0.01826249]\n",
      "state:  tensor([1.2856, 6.3357, 5.1664, 1.0739, 4.8198, 5.3018, 4.4528, 5.2013, 4.1261,\n",
      "        0.1690])\n",
      "epoch: 0\t loss: 1.4071460962295532\n",
      "epoch: 100\t loss: 1.3811073303222656\n",
      "epoch: 200\t loss: 1.3222768306732178\n",
      "epoch: 300\t loss: 1.3242548704147339\n",
      "epoch: 400\t loss: 1.3706544637680054\n",
      "16\n"
     ]
    },
    {
     "data": {
      "text/plain": "  0%|          | 0/1000 [00:00<?, ?it/s]",
      "application/vnd.jupyter.widget-view+json": {
       "version_major": 2,
       "version_minor": 0,
       "model_id": "06ae85f109624d30862a810eed2bc3b7"
      }
     },
     "metadata": {},
     "output_type": "display_data"
    },
    {
     "name": "stdout",
     "output_type": "stream",
     "text": [
      "est:  [ 0.29876882  6.4027653   5.1707873   0.12275908  4.851557    5.472882\n",
      "  4.4588094   5.1799703   3.9467793  -0.08930343]\n",
      "state:  tensor([1.3940, 6.4057, 5.1689, 1.0337, 4.8480, 5.4813, 4.4859, 5.1880, 3.9367,\n",
      "        0.0976])\n",
      "epoch: 0\t loss: 1.384759545326233\n",
      "epoch: 100\t loss: 1.308007836341858\n",
      "epoch: 200\t loss: 1.3176202774047852\n",
      "epoch: 300\t loss: 1.3470630645751953\n",
      "epoch: 400\t loss: 1.3362867832183838\n",
      "17\n"
     ]
    },
    {
     "data": {
      "text/plain": "  0%|          | 0/1000 [00:00<?, ?it/s]",
      "application/vnd.jupyter.widget-view+json": {
       "version_major": 2,
       "version_minor": 0,
       "model_id": "25c6c87ddde64308863b070c2c3cc3c6"
      }
     },
     "metadata": {},
     "output_type": "display_data"
    },
    {
     "name": "stdout",
     "output_type": "stream",
     "text": [
      "est:  [4.4186625e-01 6.4686527e+00 5.1814704e+00 1.5129077e-01 4.8955407e+00\n",
      " 5.6828442e+00 4.5147600e+00 5.1590724e+00 3.7524726e+00 2.7740025e-03]\n",
      "state:  tensor([1.4697, 6.4716, 5.1839, 1.0178, 4.8885, 5.6807, 4.5367, 5.1527, 3.7543,\n",
      "        0.0236])\n",
      "epoch: 0\t loss: 1.5000749826431274\n",
      "epoch: 100\t loss: 1.3287625312805176\n",
      "epoch: 200\t loss: 1.3782185316085815\n",
      "epoch: 300\t loss: 1.3378328084945679\n",
      "epoch: 400\t loss: 1.345950722694397\n",
      "18\n"
     ]
    },
    {
     "data": {
      "text/plain": "  0%|          | 0/1000 [00:00<?, ?it/s]",
      "application/vnd.jupyter.widget-view+json": {
       "version_major": 2,
       "version_minor": 0,
       "model_id": "a9e0ee186c4748ffb6aac3afc1a5713f"
      }
     },
     "metadata": {},
     "output_type": "display_data"
    },
    {
     "name": "stdout",
     "output_type": "stream",
     "text": [
      "est:  [0.51228267 6.572808   5.168543   0.08280138 4.9017053  5.868164\n",
      " 4.5827446  5.098135   3.5644133  0.06294447]\n",
      "state:  tensor([ 1.5430,  6.5761,  5.1811,  1.0230,  4.9086,  5.8707,  4.5790,  5.1005,\n",
      "         3.5656, -0.0361])\n",
      "epoch: 0\t loss: 1.4484269618988037\n",
      "epoch: 100\t loss: 1.3868166208267212\n",
      "epoch: 200\t loss: 1.3518351316452026\n",
      "epoch: 300\t loss: 1.3786944150924683\n",
      "epoch: 400\t loss: 1.365873098373413\n",
      "19\n"
     ]
    },
    {
     "data": {
      "text/plain": "  0%|          | 0/1000 [00:00<?, ?it/s]",
      "application/vnd.jupyter.widget-view+json": {
       "version_major": 2,
       "version_minor": 0,
       "model_id": "87c7fe901351423abf21de7c9a09724d"
      }
     },
     "metadata": {},
     "output_type": "display_data"
    },
    {
     "name": "stdout",
     "output_type": "stream",
     "text": [
      "est:  [ 0.5312919   6.6615124   5.184042    0.05968609  4.9285216   6.0448985\n",
      "  4.60297     5.0300913   3.3524406  -0.01162045]\n",
      "state:  tensor([ 1.6065,  6.6682,  5.1914,  0.9986,  4.9428,  6.0463,  4.6153,  5.0252,\n",
      "         3.3579, -0.0817])\n",
      "epoch: 0\t loss: 1.464680552482605\n",
      "epoch: 100\t loss: 1.3584178686141968\n",
      "epoch: 200\t loss: 1.3803101778030396\n",
      "epoch: 300\t loss: 1.3859983682632446\n",
      "epoch: 400\t loss: 1.3392949104309082\n",
      "20\n"
     ]
    },
    {
     "data": {
      "text/plain": "  0%|          | 0/1000 [00:00<?, ?it/s]",
      "application/vnd.jupyter.widget-view+json": {
       "version_major": 2,
       "version_minor": 0,
       "model_id": "863178bc5e9f46ab8e710f089965c5e1"
      }
     },
     "metadata": {},
     "output_type": "display_data"
    },
    {
     "name": "stdout",
     "output_type": "stream",
     "text": [
      "est:  [0.4875125  6.766831   5.1599903  0.11399243 4.978849   6.2372336\n",
      " 4.6155014  4.906883   3.1744819  0.0167013 ]\n",
      "state:  tensor([ 1.6547,  6.7643,  5.1720,  0.9662,  4.9783,  6.2326,  4.6301,  4.9145,\n",
      "         3.1782, -0.1248])\n",
      "epoch: 0\t loss: 1.5087823867797852\n",
      "epoch: 100\t loss: 1.3353495597839355\n",
      "epoch: 200\t loss: 1.3467143774032593\n",
      "epoch: 300\t loss: 1.394924521446228\n",
      "epoch: 400\t loss: 1.3636668920516968\n",
      "21\n"
     ]
    },
    {
     "data": {
      "text/plain": "  0%|          | 0/1000 [00:00<?, ?it/s]",
      "application/vnd.jupyter.widget-view+json": {
       "version_major": 2,
       "version_minor": 0,
       "model_id": "402e7653077f4aa59aca63e550073891"
      }
     },
     "metadata": {},
     "output_type": "display_data"
    },
    {
     "name": "stdout",
     "output_type": "stream",
     "text": [
      "est:  [ 0.54249984  6.8706827   5.143353    0.06617672  4.995304    6.417495\n",
      "  4.650522    4.791054    2.996453   -0.07224561]\n",
      "state:  tensor([ 1.7171,  6.8684,  5.1570,  0.9374,  5.0061,  6.4225,  4.6594,  4.8014,\n",
      "         2.9851, -0.1446])\n",
      "epoch: 0\t loss: 1.5091911554336548\n",
      "epoch: 100\t loss: 1.3812062740325928\n",
      "epoch: 200\t loss: 1.3871225118637085\n",
      "epoch: 300\t loss: 1.346397876739502\n",
      "epoch: 400\t loss: 1.379450798034668\n",
      "22\n"
     ]
    },
    {
     "data": {
      "text/plain": "  0%|          | 0/1000 [00:00<?, ?it/s]",
      "application/vnd.jupyter.widget-view+json": {
       "version_major": 2,
       "version_minor": 0,
       "model_id": "351fbef9f8de44129f36cc1d3f80f218"
      }
     },
     "metadata": {},
     "output_type": "display_data"
    },
    {
     "name": "stdout",
     "output_type": "stream",
     "text": [
      "est:  [ 0.6426901   6.9609623   5.130021    0.07815222  5.048018    6.6223826\n",
      "  4.6502485   4.6684203   2.7999215  -0.04016817]\n",
      "state:  tensor([ 1.7703,  6.9633,  5.1411,  0.9042,  5.0436,  6.6269,  4.6524,  4.6773,\n",
      "         2.8152, -0.1566])\n",
      "epoch: 0\t loss: 1.469494342803955\n",
      "epoch: 100\t loss: 1.417820692062378\n",
      "epoch: 200\t loss: 1.3495291471481323\n",
      "epoch: 300\t loss: 1.367072343826294\n",
      "epoch: 400\t loss: 1.3533717393875122\n",
      "23\n"
     ]
    },
    {
     "data": {
      "text/plain": "  0%|          | 0/1000 [00:00<?, ?it/s]",
      "application/vnd.jupyter.widget-view+json": {
       "version_major": 2,
       "version_minor": 0,
       "model_id": "b8bb7f099dbf48839e2f83c8524afd74"
      }
     },
     "metadata": {},
     "output_type": "display_data"
    },
    {
     "name": "stdout",
     "output_type": "stream",
     "text": [
      "est:  [0.75049293 7.0622764  5.100613   0.07404733 5.0821576  6.840378\n",
      " 4.6451015  4.5416875  2.5874577  0.03923543]\n",
      "state:  tensor([ 1.8384,  7.0666,  5.1001,  0.8733,  5.0946,  6.8396,  4.6637,  4.5481,\n",
      "         2.6281, -0.1655])\n",
      "epoch: 0\t loss: 1.552566409111023\n",
      "epoch: 100\t loss: 1.4110740423202515\n",
      "epoch: 200\t loss: 1.360439658164978\n",
      "epoch: 300\t loss: 1.371145486831665\n",
      "epoch: 400\t loss: 1.3986862897872925\n",
      "24\n"
     ]
    },
    {
     "data": {
      "text/plain": "  0%|          | 0/1000 [00:00<?, ?it/s]",
      "application/vnd.jupyter.widget-view+json": {
       "version_major": 2,
       "version_minor": 0,
       "model_id": "75513a9001b14eb78e438cc34edea302"
      }
     },
     "metadata": {},
     "output_type": "display_data"
    },
    {
     "name": "stdout",
     "output_type": "stream",
     "text": [
      "est:  [ 8.4396249e-01  7.1682577e+00  5.0327430e+00  6.7104600e-02\n",
      "  5.1312294e+00  7.0541105e+00  4.6556940e+00  4.3508086e+00\n",
      "  2.2958212e+00 -3.8047347e-03]\n",
      "state:  tensor([ 1.9028,  7.1682,  5.0442,  0.8461,  5.1265,  7.0506,  4.6749,  4.3758,\n",
      "         2.4690, -0.1418])\n",
      "epoch: 0\t loss: 1.5844956636428833\n",
      "epoch: 100\t loss: 1.408453106880188\n",
      "epoch: 200\t loss: 1.4015414714813232\n",
      "epoch: 300\t loss: 1.3762551546096802\n",
      "epoch: 400\t loss: 1.3475925922393799\n",
      "25\n"
     ]
    },
    {
     "data": {
      "text/plain": "  0%|          | 0/1000 [00:00<?, ?it/s]",
      "application/vnd.jupyter.widget-view+json": {
       "version_major": 2,
       "version_minor": 0,
       "model_id": "ba33cf67937c4c98b3c83d0063c9aaeb"
      }
     },
     "metadata": {},
     "output_type": "display_data"
    },
    {
     "name": "stdout",
     "output_type": "stream",
     "text": [
      "est:  [ 8.5637456e-01  7.2823358e+00  5.0170093e+00  8.6957745e-02\n",
      "  5.1659317e+00  7.2464719e+00  4.6680794e+00  4.1496711e+00\n",
      "  2.0494094e+00 -2.3568745e-03]\n",
      "state:  tensor([ 1.9632,  7.2814,  5.0196,  0.8251,  5.1876,  7.2434,  4.6852,  4.1882,\n",
      "         2.3049, -0.1192])\n",
      "epoch: 0\t loss: 1.547195553779602\n",
      "epoch: 100\t loss: 1.4406977891921997\n",
      "epoch: 200\t loss: 1.466158151626587\n",
      "epoch: 300\t loss: 1.3813706636428833\n",
      "epoch: 400\t loss: 1.4012558460235596\n",
      "26\n"
     ]
    },
    {
     "data": {
      "text/plain": "  0%|          | 0/1000 [00:00<?, ?it/s]",
      "application/vnd.jupyter.widget-view+json": {
       "version_major": 2,
       "version_minor": 0,
       "model_id": "786f431213a54b898aaed8c20b6c0145"
      }
     },
     "metadata": {},
     "output_type": "display_data"
    },
    {
     "name": "stdout",
     "output_type": "stream",
     "text": [
      "est:  [8.8060719e-01 7.3763289e+00 4.9734998e+00 5.4673009e-02 5.2304325e+00\n",
      " 7.4371700e+00 4.6299739e+00 3.9180388e+00 1.8049262e+00 7.1644727e-03]\n",
      "state:  tensor([ 2.0188,  7.3787,  4.9768,  0.7967,  5.2406,  7.4392,  4.6450,  3.9898,\n",
      "         2.1727, -0.0826])\n",
      "epoch: 0\t loss: 1.659021019935608\n",
      "epoch: 100\t loss: 1.4185335636138916\n",
      "epoch: 200\t loss: 1.4139995574951172\n",
      "epoch: 300\t loss: 1.3953306674957275\n",
      "epoch: 400\t loss: 1.4409629106521606\n",
      "27\n"
     ]
    },
    {
     "data": {
      "text/plain": "  0%|          | 0/1000 [00:00<?, ?it/s]",
      "application/vnd.jupyter.widget-view+json": {
       "version_major": 2,
       "version_minor": 0,
       "model_id": "98a7a262bfbd4ef080584e1fb9f513e1"
      }
     },
     "metadata": {},
     "output_type": "display_data"
    },
    {
     "name": "stdout",
     "output_type": "stream",
     "text": [
      "est:  [0.9236494  7.4869637  4.888487   0.04646697 5.2846     7.658486\n",
      " 4.580279   3.6619687  1.6366246  0.10472258]\n",
      "state:  tensor([ 2.0580,  7.4872,  4.9015,  0.7462,  5.2857,  7.6609,  4.5931,  3.7744,\n",
      "         2.0490, -0.0319])\n",
      "epoch: 0\t loss: 1.7048070430755615\n",
      "epoch: 100\t loss: 1.453487515449524\n",
      "epoch: 200\t loss: 1.4145138263702393\n",
      "epoch: 300\t loss: 1.4731062650680542\n",
      "epoch: 400\t loss: 1.4688503742218018\n",
      "28\n"
     ]
    },
    {
     "data": {
      "text/plain": "  0%|          | 0/1000 [00:00<?, ?it/s]",
      "application/vnd.jupyter.widget-view+json": {
       "version_major": 2,
       "version_minor": 0,
       "model_id": "fabe201420294d579405583f923b74e0"
      }
     },
     "metadata": {},
     "output_type": "display_data"
    },
    {
     "name": "stdout",
     "output_type": "stream",
     "text": [
      "est:  [1.0571384  7.597725   4.817679   0.0702087  5.336944   7.875836\n",
      " 4.497893   3.4129913  1.4483922  0.05203645]\n",
      "state:  tensor([2.1285, 7.5987, 4.8347, 0.7047, 5.3452, 7.8754, 4.5237, 3.5505, 1.9235,\n",
      "        0.0107])\n",
      "epoch: 0\t loss: 1.7275999784469604\n",
      "epoch: 100\t loss: 1.5114967823028564\n",
      "epoch: 200\t loss: 1.5075640678405762\n",
      "epoch: 300\t loss: 1.518148422241211\n",
      "epoch: 400\t loss: 1.4777538776397705\n",
      "29\n"
     ]
    },
    {
     "data": {
      "text/plain": "  0%|          | 0/1000 [00:00<?, ?it/s]",
      "application/vnd.jupyter.widget-view+json": {
       "version_major": 2,
       "version_minor": 0,
       "model_id": "5096ce4eea1048eeb68a1a4af8252835"
      }
     },
     "metadata": {},
     "output_type": "display_data"
    },
    {
     "name": "stdout",
     "output_type": "stream",
     "text": [
      "est:  [1.0139054  7.7007184  4.7509933  0.04453924 5.3819895  8.081643\n",
      " 4.382613   3.1020741  1.1980338  0.02628838]\n",
      "state:  tensor([2.2008, 7.7014, 4.7631, 0.6856, 5.3922, 8.0816, 4.4232, 3.3361, 1.8100,\n",
      "        0.0653])\n",
      "epoch: 0\t loss: 1.7580134868621826\n",
      "epoch: 100\t loss: 1.5290907621383667\n",
      "epoch: 200\t loss: 1.5493156909942627\n",
      "epoch: 300\t loss: 1.5394632816314697\n",
      "epoch: 400\t loss: 1.5287907123565674\n",
      "30\n"
     ]
    },
    {
     "data": {
      "text/plain": "  0%|          | 0/1000 [00:00<?, ?it/s]",
      "application/vnd.jupyter.widget-view+json": {
       "version_major": 2,
       "version_minor": 0,
       "model_id": "18dca48e5c424e0cbe052ff86aef96e3"
      }
     },
     "metadata": {},
     "output_type": "display_data"
    },
    {
     "name": "stdout",
     "output_type": "stream",
     "text": [
      "est:  [1.0999000e+00 7.8086329e+00 4.6480327e+00 9.6764574e-03 5.4291544e+00\n",
      " 8.2889519e+00 4.2442298e+00 2.7026751e+00 1.1878867e+00 7.2561749e-03]\n",
      "state:  tensor([2.2615, 7.8083, 4.6681, 0.6541, 5.4460, 8.2865, 4.3022, 3.0839, 1.7276,\n",
      "        0.1479])\n",
      "epoch: 0\t loss: 1.8728374242782593\n",
      "epoch: 100\t loss: 1.6506682634353638\n",
      "epoch: 200\t loss: 1.598610281944275\n",
      "epoch: 300\t loss: 1.5818949937820435\n",
      "epoch: 400\t loss: 1.618947982788086\n",
      "31\n"
     ]
    },
    {
     "data": {
      "text/plain": "  0%|          | 0/1000 [00:00<?, ?it/s]",
      "application/vnd.jupyter.widget-view+json": {
       "version_major": 2,
       "version_minor": 0,
       "model_id": "60c02d0a9ec64a93a9487f9d6857f91d"
      }
     },
     "metadata": {},
     "output_type": "display_data"
    },
    {
     "name": "stdout",
     "output_type": "stream",
     "text": [
      "est:  [ 2.2567515   6.327842    0.6140081   0.03959077  1.6861546  10.138395\n",
      "  3.705871    7.2291913   6.656775   -0.23283689]\n",
      "state:  tensor([ 3.3940,  6.3268, -1.9354,  1.1149,  2.2563, 10.1381,  3.8794,  7.3448,\n",
      "         6.6650, -1.7443])\n",
      "epoch: 0\t loss: 26.629175186157227\n",
      "epoch: 100\t loss: 2.372990846633911\n",
      "epoch: 200\t loss: 2.206552028656006\n",
      "epoch: 300\t loss: 2.1447947025299072\n",
      "epoch: 400\t loss: 2.1399779319763184\n",
      "32\n"
     ]
    },
    {
     "data": {
      "text/plain": "  0%|          | 0/1000 [00:00<?, ?it/s]",
      "application/vnd.jupyter.widget-view+json": {
       "version_major": 2,
       "version_minor": 0,
       "model_id": "7d3e68be797e446f8ad5c19f0d7cd615"
      }
     },
     "metadata": {},
     "output_type": "display_data"
    },
    {
     "name": "stdout",
     "output_type": "stream",
     "text": [
      "est:  [ 2.6679585   6.327235   -0.15335476  0.19748704  1.3412187  10.175506\n",
      "  4.2948556   7.215818    6.259434   -0.47373503]\n",
      "state:  tensor([ 3.4632,  6.3308, -1.9788,  1.2665,  2.4655, 10.1762,  4.4146,  7.2189,\n",
      "         6.2682, -1.9109])\n",
      "epoch: 0\t loss: 2.8173341751098633\n",
      "epoch: 100\t loss: 2.2318646907806396\n",
      "epoch: 200\t loss: 2.210150957107544\n",
      "epoch: 300\t loss: 2.175551414489746\n",
      "epoch: 400\t loss: 2.2103431224823\n",
      "33\n"
     ]
    },
    {
     "data": {
      "text/plain": "  0%|          | 0/1000 [00:00<?, ?it/s]",
      "application/vnd.jupyter.widget-view+json": {
       "version_major": 2,
       "version_minor": 0,
       "model_id": "9d6ca87fe9cc421fba08ba1b9baee565"
      }
     },
     "metadata": {},
     "output_type": "display_data"
    },
    {
     "name": "stdout",
     "output_type": "stream",
     "text": [
      "est:  [ 2.8501866   6.335951   -0.4448885   0.22105214  1.3701713  10.212471\n",
      "  4.8701863   7.064631    5.8248806  -0.5767623 ]\n",
      "state:  tensor([ 3.5028,  6.3383, -2.0155,  1.4316,  2.6693, 10.2117,  4.9380,  7.0641,\n",
      "         5.8364, -2.0459])\n",
      "epoch: 0\t loss: 2.6790242195129395\n",
      "epoch: 100\t loss: 2.159122943878174\n",
      "epoch: 200\t loss: 2.1469063758850098\n",
      "epoch: 300\t loss: 2.1571128368377686\n",
      "epoch: 400\t loss: 2.0823535919189453\n",
      "34\n"
     ]
    },
    {
     "data": {
      "text/plain": "  0%|          | 0/1000 [00:00<?, ?it/s]",
      "application/vnd.jupyter.widget-view+json": {
       "version_major": 2,
       "version_minor": 0,
       "model_id": "13e5a7db52604b649aea1d8ab3ef98e8"
      }
     },
     "metadata": {},
     "output_type": "display_data"
    },
    {
     "name": "stdout",
     "output_type": "stream",
     "text": [
      "est:  [ 2.98533     6.3534465  -0.50315875  0.3144038   1.7312773  10.274873\n",
      "  5.3918266   6.852328    5.349999   -0.6650704 ]\n",
      "state:  tensor([ 3.5364,  6.3545, -2.0517,  1.5804,  2.9047, 10.2766,  5.4218,  6.8607,\n",
      "         5.3661, -2.1489])\n",
      "epoch: 0\t loss: 2.6377124786376953\n",
      "epoch: 100\t loss: 2.0562901496887207\n",
      "epoch: 200\t loss: 2.052263021469116\n",
      "epoch: 300\t loss: 2.0356838703155518\n",
      "epoch: 400\t loss: 2.0461924076080322\n",
      "35\n"
     ]
    },
    {
     "data": {
      "text/plain": "  0%|          | 0/1000 [00:00<?, ?it/s]",
      "application/vnd.jupyter.widget-view+json": {
       "version_major": 2,
       "version_minor": 0,
       "model_id": "e5a60ac1570e4d8bb151b2de7633be98"
      }
     },
     "metadata": {},
     "output_type": "display_data"
    },
    {
     "name": "stdout",
     "output_type": "stream",
     "text": [
      "est:  [ 3.0872014   6.3581724  -0.5776661   0.34634158  2.150316   10.3715\n",
      "  5.833356    6.6143374   4.8476048  -0.7250047 ]\n",
      "state:  tensor([ 3.5699,  6.3656, -2.0652,  1.7050,  3.1484, 10.3717,  5.8452,  6.6211,\n",
      "         4.8787, -2.2238])\n",
      "epoch: 0\t loss: 2.4580349922180176\n",
      "epoch: 100\t loss: 1.9561747312545776\n",
      "epoch: 200\t loss: 1.9807958602905273\n",
      "epoch: 300\t loss: 1.9877973794937134\n",
      "epoch: 400\t loss: 2.014603853225708\n",
      "36\n"
     ]
    },
    {
     "data": {
      "text/plain": "  0%|          | 0/1000 [00:00<?, ?it/s]",
      "application/vnd.jupyter.widget-view+json": {
       "version_major": 2,
       "version_minor": 0,
       "model_id": "a4609260723c41559d1f642452ee3980"
      }
     },
     "metadata": {},
     "output_type": "display_data"
    },
    {
     "name": "stdout",
     "output_type": "stream",
     "text": [
      "est:  [ 3.1125512  6.380435  -0.6267923  0.3425982  2.6051452 10.482995\n",
      "  6.233238   6.3241043  4.341771  -0.7499111]\n",
      "state:  tensor([ 3.5910,  6.3727, -2.0809,  1.8441,  3.4195, 10.4833,  6.2333,  6.3238,\n",
      "         4.3777, -2.2657])\n",
      "epoch: 0\t loss: 2.4752464294433594\n",
      "epoch: 100\t loss: 1.9467556476593018\n",
      "epoch: 200\t loss: 1.9752528667449951\n",
      "epoch: 300\t loss: 1.9889321327209473\n",
      "epoch: 400\t loss: 1.9313913583755493\n",
      "37\n"
     ]
    },
    {
     "data": {
      "text/plain": "  0%|          | 0/1000 [00:00<?, ?it/s]",
      "application/vnd.jupyter.widget-view+json": {
       "version_major": 2,
       "version_minor": 0,
       "model_id": "b514339b2447407b98007c8b20162591"
      }
     },
     "metadata": {},
     "output_type": "display_data"
    },
    {
     "name": "stdout",
     "output_type": "stream",
     "text": [
      "est:  [ 3.086923    6.3901806  -0.6063238   0.41954774  3.140168   10.623183\n",
      "  6.5499625   5.9676785   3.8180547  -0.77073866]\n",
      "state:  tensor([ 3.5832,  6.3990, -2.0884,  1.9631,  3.6829, 10.6220,  6.5494,  5.9679,\n",
      "         3.8729, -2.2870])\n",
      "epoch: 0\t loss: 2.466400384902954\n",
      "epoch: 100\t loss: 1.8977785110473633\n",
      "epoch: 200\t loss: 1.9246151447296143\n",
      "epoch: 300\t loss: 1.8725624084472656\n",
      "epoch: 400\t loss: 1.8903487920761108\n",
      "38\n"
     ]
    },
    {
     "data": {
      "text/plain": "  0%|          | 0/1000 [00:00<?, ?it/s]",
      "application/vnd.jupyter.widget-view+json": {
       "version_major": 2,
       "version_minor": 0,
       "model_id": "1209bbda36fb41b5a7a7a256e5d9e6bc"
      }
     },
     "metadata": {},
     "output_type": "display_data"
    },
    {
     "name": "stdout",
     "output_type": "stream",
     "text": [
      "est:  [ 3.0851278   6.423134   -0.6256126   0.49279588  3.536407   10.764795\n",
      "  6.7901435   5.531466    3.2983937  -0.7303921 ]\n",
      "state:  tensor([ 3.5759,  6.4325, -2.1039,  2.0756,  3.9853, 10.7635,  6.7939,  5.5518,\n",
      "         3.3873, -2.2802])\n",
      "epoch: 0\t loss: 2.4541311264038086\n"
     ]
    },
    {
     "ename": "KeyboardInterrupt",
     "evalue": "",
     "output_type": "error",
     "traceback": [
      "\u001B[1;31m---------------------------------------------------------------------------\u001B[0m",
      "\u001B[1;31mKeyboardInterrupt\u001B[0m                         Traceback (most recent call last)",
      "Input \u001B[1;32mIn [12]\u001B[0m, in \u001B[0;36m<cell line: 3>\u001B[1;34m()\u001B[0m\n\u001B[0;32m     26\u001B[0m \u001B[38;5;28mprint\u001B[39m(\u001B[38;5;124m'\u001B[39m\u001B[38;5;124mstate: \u001B[39m\u001B[38;5;124m'\u001B[39m,X_path[i])\n\u001B[0;32m     28\u001B[0m \u001B[38;5;66;03m# train model for prior distribution\u001B[39;00m\n\u001B[1;32m---> 29\u001B[0m train_loss \u001B[38;5;241m=\u001B[39m \u001B[43mtrain_model\u001B[49m\u001B[43m(\u001B[49m\u001B[43mscore_prior_new\u001B[49m\u001B[43m,\u001B[49m\u001B[43m \u001B[49m\u001B[43mx_sample\u001B[49m\u001B[38;5;241;43m=\u001B[39;49m\u001B[43mx_prior\u001B[49m\u001B[43m,\u001B[49m\n\u001B[0;32m     30\u001B[0m \u001B[43m                         \u001B[49m\u001B[43mbatch_size\u001B[49m\u001B[38;5;241;43m=\u001B[39;49m\u001B[38;5;241;43m10000\u001B[39;49m\u001B[43m,\u001B[49m\u001B[43mlr\u001B[49m\u001B[38;5;241;43m=\u001B[39;49m\u001B[38;5;241;43m0.001\u001B[39;49m\u001B[43m,\u001B[49m\u001B[43m \u001B[49m\u001B[43mn_epochs\u001B[49m\u001B[38;5;241;43m=\u001B[39;49m\u001B[38;5;241;43m500\u001B[39;49m\u001B[43m,\u001B[49m\u001B[43m \u001B[49m\u001B[43mprint_interval\u001B[49m\u001B[38;5;241;43m=\u001B[39;49m\u001B[38;5;241;43m100\u001B[39;49m\u001B[43m)\u001B[49m\n\u001B[0;32m     32\u001B[0m \u001B[38;5;66;03m# new observation\u001B[39;00m\n\u001B[0;32m     33\u001B[0m \u001B[38;5;66;03m#obs_current = torch.from_numpy(obs_path[i+1,:]).float().to(device)\u001B[39;00m\n\u001B[0;32m     34\u001B[0m obs_current \u001B[38;5;241m=\u001B[39m np\u001B[38;5;241m.\u001B[39marray(obs_path[i\u001B[38;5;241m+\u001B[39m\u001B[38;5;241m1\u001B[39m,:])\n",
      "Input \u001B[1;32mIn [2]\u001B[0m, in \u001B[0;36mtrain_model\u001B[1;34m(score_model, x_sample, lr, batch_size, n_epochs, print_interval)\u001B[0m\n\u001B[0;32m    143\u001B[0m avg_loss \u001B[38;5;241m=\u001B[39m \u001B[38;5;241m0.\u001B[39m\n\u001B[0;32m    144\u001B[0m num_items \u001B[38;5;241m=\u001B[39m \u001B[38;5;241m0\u001B[39m\n\u001B[1;32m--> 145\u001B[0m \u001B[38;5;28;01mfor\u001B[39;00m x \u001B[38;5;129;01min\u001B[39;00m data_loader:\n\u001B[0;32m    146\u001B[0m     x \u001B[38;5;241m=\u001B[39m x\u001B[38;5;241m.\u001B[39mto(device)\n\u001B[0;32m    147\u001B[0m     loss \u001B[38;5;241m=\u001B[39m loss_fn(score_model, x, marginal_prob_std_fn)\n",
      "File \u001B[1;32m~\\Anaconda3\\lib\\site-packages\\torch\\utils\\data\\dataloader.py:681\u001B[0m, in \u001B[0;36m_BaseDataLoaderIter.__next__\u001B[1;34m(self)\u001B[0m\n\u001B[0;32m    678\u001B[0m \u001B[38;5;28;01mif\u001B[39;00m \u001B[38;5;28mself\u001B[39m\u001B[38;5;241m.\u001B[39m_sampler_iter \u001B[38;5;129;01mis\u001B[39;00m \u001B[38;5;28;01mNone\u001B[39;00m:\n\u001B[0;32m    679\u001B[0m     \u001B[38;5;66;03m# TODO(https://github.com/pytorch/pytorch/issues/76750)\u001B[39;00m\n\u001B[0;32m    680\u001B[0m     \u001B[38;5;28mself\u001B[39m\u001B[38;5;241m.\u001B[39m_reset()  \u001B[38;5;66;03m# type: ignore[call-arg]\u001B[39;00m\n\u001B[1;32m--> 681\u001B[0m data \u001B[38;5;241m=\u001B[39m \u001B[38;5;28;43mself\u001B[39;49m\u001B[38;5;241;43m.\u001B[39;49m\u001B[43m_next_data\u001B[49m\u001B[43m(\u001B[49m\u001B[43m)\u001B[49m\n\u001B[0;32m    682\u001B[0m \u001B[38;5;28mself\u001B[39m\u001B[38;5;241m.\u001B[39m_num_yielded \u001B[38;5;241m+\u001B[39m\u001B[38;5;241m=\u001B[39m \u001B[38;5;241m1\u001B[39m\n\u001B[0;32m    683\u001B[0m \u001B[38;5;28;01mif\u001B[39;00m \u001B[38;5;28mself\u001B[39m\u001B[38;5;241m.\u001B[39m_dataset_kind \u001B[38;5;241m==\u001B[39m _DatasetKind\u001B[38;5;241m.\u001B[39mIterable \u001B[38;5;129;01mand\u001B[39;00m \\\n\u001B[0;32m    684\u001B[0m         \u001B[38;5;28mself\u001B[39m\u001B[38;5;241m.\u001B[39m_IterableDataset_len_called \u001B[38;5;129;01mis\u001B[39;00m \u001B[38;5;129;01mnot\u001B[39;00m \u001B[38;5;28;01mNone\u001B[39;00m \u001B[38;5;129;01mand\u001B[39;00m \\\n\u001B[0;32m    685\u001B[0m         \u001B[38;5;28mself\u001B[39m\u001B[38;5;241m.\u001B[39m_num_yielded \u001B[38;5;241m>\u001B[39m \u001B[38;5;28mself\u001B[39m\u001B[38;5;241m.\u001B[39m_IterableDataset_len_called:\n",
      "File \u001B[1;32m~\\Anaconda3\\lib\\site-packages\\torch\\utils\\data\\dataloader.py:721\u001B[0m, in \u001B[0;36m_SingleProcessDataLoaderIter._next_data\u001B[1;34m(self)\u001B[0m\n\u001B[0;32m    719\u001B[0m \u001B[38;5;28;01mdef\u001B[39;00m \u001B[38;5;21m_next_data\u001B[39m(\u001B[38;5;28mself\u001B[39m):\n\u001B[0;32m    720\u001B[0m     index \u001B[38;5;241m=\u001B[39m \u001B[38;5;28mself\u001B[39m\u001B[38;5;241m.\u001B[39m_next_index()  \u001B[38;5;66;03m# may raise StopIteration\u001B[39;00m\n\u001B[1;32m--> 721\u001B[0m     data \u001B[38;5;241m=\u001B[39m \u001B[38;5;28;43mself\u001B[39;49m\u001B[38;5;241;43m.\u001B[39;49m\u001B[43m_dataset_fetcher\u001B[49m\u001B[38;5;241;43m.\u001B[39;49m\u001B[43mfetch\u001B[49m\u001B[43m(\u001B[49m\u001B[43mindex\u001B[49m\u001B[43m)\u001B[49m  \u001B[38;5;66;03m# may raise StopIteration\u001B[39;00m\n\u001B[0;32m    722\u001B[0m     \u001B[38;5;28;01mif\u001B[39;00m \u001B[38;5;28mself\u001B[39m\u001B[38;5;241m.\u001B[39m_pin_memory:\n\u001B[0;32m    723\u001B[0m         data \u001B[38;5;241m=\u001B[39m _utils\u001B[38;5;241m.\u001B[39mpin_memory\u001B[38;5;241m.\u001B[39mpin_memory(data, \u001B[38;5;28mself\u001B[39m\u001B[38;5;241m.\u001B[39m_pin_memory_device)\n",
      "File \u001B[1;32m~\\Anaconda3\\lib\\site-packages\\torch\\utils\\data\\_utils\\fetch.py:52\u001B[0m, in \u001B[0;36m_MapDatasetFetcher.fetch\u001B[1;34m(self, possibly_batched_index)\u001B[0m\n\u001B[0;32m     50\u001B[0m \u001B[38;5;28;01melse\u001B[39;00m:\n\u001B[0;32m     51\u001B[0m     data \u001B[38;5;241m=\u001B[39m \u001B[38;5;28mself\u001B[39m\u001B[38;5;241m.\u001B[39mdataset[possibly_batched_index]\n\u001B[1;32m---> 52\u001B[0m \u001B[38;5;28;01mreturn\u001B[39;00m \u001B[38;5;28;43mself\u001B[39;49m\u001B[38;5;241;43m.\u001B[39;49m\u001B[43mcollate_fn\u001B[49m\u001B[43m(\u001B[49m\u001B[43mdata\u001B[49m\u001B[43m)\u001B[49m\n",
      "File \u001B[1;32m~\\Anaconda3\\lib\\site-packages\\torch\\utils\\data\\_utils\\collate.py:141\u001B[0m, in \u001B[0;36mdefault_collate\u001B[1;34m(batch)\u001B[0m\n\u001B[0;32m    139\u001B[0m         storage \u001B[38;5;241m=\u001B[39m elem\u001B[38;5;241m.\u001B[39mstorage()\u001B[38;5;241m.\u001B[39m_new_shared(numel, device\u001B[38;5;241m=\u001B[39melem\u001B[38;5;241m.\u001B[39mdevice)\n\u001B[0;32m    140\u001B[0m         out \u001B[38;5;241m=\u001B[39m elem\u001B[38;5;241m.\u001B[39mnew(storage)\u001B[38;5;241m.\u001B[39mresize_(\u001B[38;5;28mlen\u001B[39m(batch), \u001B[38;5;241m*\u001B[39m\u001B[38;5;28mlist\u001B[39m(elem\u001B[38;5;241m.\u001B[39msize()))\n\u001B[1;32m--> 141\u001B[0m     \u001B[38;5;28;01mreturn\u001B[39;00m \u001B[43mtorch\u001B[49m\u001B[38;5;241;43m.\u001B[39;49m\u001B[43mstack\u001B[49m\u001B[43m(\u001B[49m\u001B[43mbatch\u001B[49m\u001B[43m,\u001B[49m\u001B[43m \u001B[49m\u001B[38;5;241;43m0\u001B[39;49m\u001B[43m,\u001B[49m\u001B[43m \u001B[49m\u001B[43mout\u001B[49m\u001B[38;5;241;43m=\u001B[39;49m\u001B[43mout\u001B[49m\u001B[43m)\u001B[49m\n\u001B[0;32m    142\u001B[0m \u001B[38;5;28;01melif\u001B[39;00m elem_type\u001B[38;5;241m.\u001B[39m\u001B[38;5;18m__module__\u001B[39m \u001B[38;5;241m==\u001B[39m \u001B[38;5;124m'\u001B[39m\u001B[38;5;124mnumpy\u001B[39m\u001B[38;5;124m'\u001B[39m \u001B[38;5;129;01mand\u001B[39;00m elem_type\u001B[38;5;241m.\u001B[39m\u001B[38;5;18m__name__\u001B[39m \u001B[38;5;241m!=\u001B[39m \u001B[38;5;124m'\u001B[39m\u001B[38;5;124mstr_\u001B[39m\u001B[38;5;124m'\u001B[39m \\\n\u001B[0;32m    143\u001B[0m         \u001B[38;5;129;01mand\u001B[39;00m elem_type\u001B[38;5;241m.\u001B[39m\u001B[38;5;18m__name__\u001B[39m \u001B[38;5;241m!=\u001B[39m \u001B[38;5;124m'\u001B[39m\u001B[38;5;124mstring_\u001B[39m\u001B[38;5;124m'\u001B[39m:\n\u001B[0;32m    144\u001B[0m     \u001B[38;5;28;01mif\u001B[39;00m elem_type\u001B[38;5;241m.\u001B[39m\u001B[38;5;18m__name__\u001B[39m \u001B[38;5;241m==\u001B[39m \u001B[38;5;124m'\u001B[39m\u001B[38;5;124mndarray\u001B[39m\u001B[38;5;124m'\u001B[39m \u001B[38;5;129;01mor\u001B[39;00m elem_type\u001B[38;5;241m.\u001B[39m\u001B[38;5;18m__name__\u001B[39m \u001B[38;5;241m==\u001B[39m \u001B[38;5;124m'\u001B[39m\u001B[38;5;124mmemmap\u001B[39m\u001B[38;5;124m'\u001B[39m:\n\u001B[0;32m    145\u001B[0m         \u001B[38;5;66;03m# array of string classes and object\u001B[39;00m\n",
      "\u001B[1;31mKeyboardInterrupt\u001B[0m: "
     ]
    }
   ],
   "source": [
    "est_all = []\n",
    "x_prior = x_init.clone()\n",
    "for i in range(N_T-1):\n",
    "    print(i)\n",
    "    \n",
    "    score_prior_old = score_prior_new\n",
    "    score_prior_new = copy.deepcopy(score_prior_new)\n",
    "    \n",
    "    # sample initial distribution\n",
    "    x_init = Euler_Maruyama_sampler(score_prior_old,marginal_prob_std_fn, diffusion_coeff_fn,score_likelihood=likelihood_score_fn,\n",
    "                                   batch_size=sample_size,num_steps=1000,device=device)\n",
    "    est_all.append(torch.mean(x_init, dim=0).cpu().numpy())\n",
    "\n",
    "\n",
    "    # solve for forward SDE (prediction)\n",
    "    x_prior[:,0] = x_init[:,0] + ( (x_init[:,1] - x_init[:,num_dim-2])*x_init[:,num_dim-1] - x_init[:,0] + F)*dt + torch.randn(sample_size,device=device) * np.sqrt(dt)\n",
    "    x_prior[:,1] = x_init[:,1] + ( (x_init[:,2] - x_init[:,num_dim-1])*x_init[:,0] - x_init[:,1] + F)*dt + torch.randn(sample_size,device=device) * np.sqrt(dt)\n",
    "    x_prior[:,num_dim-1] = x_init[:,num_dim-1] + ( (x_init[:,0] - x_init[:,num_dim-3])*x_init[:,num_dim-2] - x_init[:,num_dim-1] + F)*dt + torch.randn(sample_size,device=device) * np.sqrt(dt)\n",
    "    for d in range(1, num_dim-2):\n",
    "        x_prior[:,d] = x_init[:,d] + ( (x_init[:,d+1] - x_init[:,d-2])*x_init[:,d-1] - x_init[:,d] + F)*dt + torch.randn(sample_size, device=device) * np.sqrt(dt)\n",
    "      \n",
    "    \n",
    "\n",
    "    \n",
    "    print('est: ',est_all[i])\n",
    "    print('state: ',X_path[i])\n",
    "\n",
    "    # train model for prior distribution\n",
    "    train_loss = train_model(score_prior_new, x_sample=x_prior,\n",
    "                             batch_size=10000,lr=0.001, n_epochs=500, print_interval=100)\n",
    "\n",
    "    # new observation\n",
    "    #obs_current = torch.from_numpy(obs_path[i+1,:]).float().to(device)\n",
    "    obs_current = np.array(obs_path[i+1,:])\n",
    "\n",
    "    # update likelihood function\n",
    "    likelihood_score_fn = functools.partial(likelihood_score, obs=obs_current, sigma_obs=sigma_obs)\n",
    "    # likelihood_score_fn = functools.partial(likelihood_score_damp, obs=obs_current, sigma_obs=sigma_obs, c=0.1)\n",
    "    # next iteration\n",
    "\n",
    "# last estimation\n",
    "# sample initial distribution\n",
    "x_init = Euler_Maruyama_sampler(score_prior_old,marginal_prob_std_fn, diffusion_coeff_fn,score_likelihood=likelihood_score_fn,\n",
    "                               batch_size=sample_size,num_steps=500,device=device)\n",
    "est_all.append(torch.mean(x_init, dim=0).cpu().numpy())\n",
    "\n",
    "est_all = np.array(est_all)\n"
   ]
  },
  {
   "cell_type": "code",
   "execution_count": null,
   "outputs": [],
   "source": [
    "for i in range(x_dim):\n",
    "    plt.plot(X_path[:,i], '.-', label='state')\n",
    "    plt.plot(est_all[:,i], '.-', label='estimation')\n",
    "    plt.legend()\n",
    "    plt.title(f'dim {i}')\n",
    "    plt.show()"
   ],
   "metadata": {
    "collapsed": false,
    "pycharm": {
     "name": "#%%\n"
    }
   }
  },
  {
   "cell_type": "code",
   "execution_count": null,
   "outputs": [],
   "source": [],
   "metadata": {
    "collapsed": false,
    "pycharm": {
     "name": "#%%\n"
    }
   }
  },
  {
   "cell_type": "code",
   "execution_count": null,
   "metadata": {
    "pycharm": {
     "name": "#%%\n"
    }
   },
   "outputs": [],
   "source": [
    "np.savetxt('Est_all_10d.txt', est_all)\n",
    "np.savetxt('X_path_10d.txt', X_path)\n",
    "np.savetxt('obs_path_10d.txt', obs_path)"
   ]
  }
 ],
 "metadata": {
  "kernelspec": {
   "display_name": "Python 3 (ipykernel)",
   "language": "python",
   "name": "python3"
  },
  "language_info": {
   "codemirror_mode": {
    "name": "ipython",
    "version": 3
   },
   "file_extension": ".py",
   "mimetype": "text/x-python",
   "name": "python",
   "nbconvert_exporter": "python",
   "pygments_lexer": "ipython3",
   "version": "3.9.12"
  }
 },
 "nbformat": 4,
 "nbformat_minor": 1
}
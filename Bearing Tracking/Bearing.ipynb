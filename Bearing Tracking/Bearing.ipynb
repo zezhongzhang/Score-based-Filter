{
 "cells": [
  {
   "cell_type": "code",
   "execution_count": 3,
   "metadata": {
    "pycharm": {
     "name": "#%%\n"
    }
   },
   "outputs": [],
   "source": [
    "import torch\n",
    "import torch.nn as nn\n",
    "import torch.nn.functional as F\n",
    "import numpy as np\n",
    "import functools\n",
    "from torch.optim import Adam\n",
    "import torchvision.transforms as transforms\n",
    "#from torchvision.datasets import MNIST\n",
    "import matplotlib.pyplot as plt\n",
    "import tqdm\n",
    "import copy\n",
    "\n",
    "from torch.utils.data import DataLoader, Dataset\n"
   ]
  },
  {
   "cell_type": "code",
   "execution_count": 4,
   "outputs": [],
   "source": [
    "# model\n",
    "# Defining a time-dependent score-based model\n",
    "\n",
    "class GaussianFourierProjection(nn.Module):\n",
    "    \"\"\"Gaussian random features for encoding time steps.\"\"\"\n",
    "    def __init__(self, embed_dim, scale=30.):\n",
    "        super().__init__()\n",
    "        # Randomly sample weights during initialization. These weights are fixed\n",
    "        # during optimization and are not trainable.\n",
    "        self.W = nn.Parameter(torch.randn(embed_dim // 2) * scale, requires_grad=False)\n",
    "    def forward(self, x):\n",
    "        x_proj = x[:, None] * self.W[None, :] * 2 * np.pi\n",
    "        return torch.cat([torch.sin(x_proj), torch.cos(x_proj)], dim=-1)\n",
    "\n",
    "\n",
    "class ScoreNet(nn.Module):\n",
    "    \"\"\"A time-dependent score-based model built upon U-Net architecture.\"\"\"\n",
    "\n",
    "    def __init__(self, marginal_prob_std, x_dim , hidden_depth=2, embed_dim=128, use_bn=True):\n",
    "        \"\"\"Initialize a time-dependent score-based network.\n",
    "\n",
    "        Args:\n",
    "          marginal_prob_std: A function that takes time t and gives the standard\n",
    "            deviation of the perturbation kernel p_{0t}(x(t) | x(0)).\n",
    "          channels: The number of channels for feature maps of each resolution.\n",
    "          embed_dim: The dimensionality of Gaussian random feature embeddings.\n",
    "        \"\"\"\n",
    "        super().__init__()\n",
    "        self.x_dim = x_dim\n",
    "        self.hidden_depth = hidden_depth\n",
    "        self.embed_dim = embed_dim\n",
    "        self.use_bn = use_bn\n",
    "\n",
    "        assert hidden_depth>=1, 'hidden_depth must be greater than 0!'\n",
    "        # Gaussian random feature embedding layer for time\n",
    "        self.embed = nn.Sequential(GaussianFourierProjection(embed_dim=embed_dim),\n",
    "             nn.Linear(embed_dim, embed_dim))\n",
    "\n",
    "        # fc layers\n",
    "        self.input = nn.Linear(x_dim, embed_dim)\n",
    "        self.fc_all = nn.ModuleList([nn.Linear(embed_dim, embed_dim) for i in range(self.hidden_depth)])\n",
    "        self.output = nn.Linear(embed_dim, x_dim)\n",
    "\n",
    "        if self.use_bn:\n",
    "            self.bn = nn.ModuleList([nn.BatchNorm1d(num_features=embed_dim) for i in range(self.hidden_depth)])\n",
    "\n",
    "        # The swish activation function\n",
    "        self.act = lambda x: x * torch.sigmoid(x)\n",
    "        self.marginal_prob_std = marginal_prob_std\n",
    "\n",
    "\n",
    "    def forward(self, x, t):\n",
    "        # Obtain the Gaussian random feature embedding for t\n",
    "        embed = self.act(self.embed(t))\n",
    "\n",
    "        #\n",
    "        h = self.input(x)\n",
    "        # residue connections\n",
    "        for i in range(self.hidden_depth):\n",
    "            h = h + self.act(self.fc_all[i](h)) + embed\n",
    "            if self.use_bn:\n",
    "                h = self.bn[i](h)\n",
    "\n",
    "        h = self.output(h)\n",
    "\n",
    "        # Normalize output\n",
    "        h = h / self.marginal_prob_std(t)[:, None,]\n",
    "        return h\n",
    "\n",
    "\n",
    "# Define the loss function\n",
    "def loss_fn(model, x, marginal_prob_std, eps=1e-5):\n",
    "    \"\"\"The loss function for training score-based generative models.\n",
    "\n",
    "    Args:\n",
    "    model: A PyTorch model instance that represents a\n",
    "      time-dependent score-based model.\n",
    "    x: A mini-batch of training data.\n",
    "    marginal_prob_std: A function that gives the standard deviation of\n",
    "      the perturbation kernel.\n",
    "    eps: A tolerance value for numerical stability.\n",
    "    \"\"\"\n",
    "    random_t = torch.rand(x.shape[0], device=x.device) * (1. - eps) + eps #(eps,1)\n",
    "    z = torch.randn_like(x)\n",
    "    std = marginal_prob_std(random_t)\n",
    "    perturbed_x = x + z * std[:, None]\n",
    "    score = model(perturbed_x, random_t)\n",
    "    loss = torch.mean(torch.sum((score * std[:, None] + z)**2, dim=1))\n",
    "    return loss\n",
    "\n",
    "\n",
    "def marginal_prob_std(t, sigma):\n",
    "    \"\"\"Compute the mean and standard deviation of $p_{0t}(x(t) | x(0))$.\n",
    "\n",
    "    Args:\n",
    "    t: A vector of time steps.\n",
    "    sigma: The $\\sigma$ in our SDE.\n",
    "\n",
    "    Returns:\n",
    "    The standard deviation.\n",
    "    \"\"\"\n",
    "    # t = torch.tensor(t, device=device)\n",
    "    return torch.sqrt((sigma**(2 * t) - 1.) / 2. / np.log(sigma))\n",
    "\n",
    "\n",
    "def diffusion_coeff(t, sigma):\n",
    "    \"\"\"Compute the diffusion coefficient of our SDE.\n",
    "\n",
    "    Args:\n",
    "    t: A vector of time steps.\n",
    "    sigma: The $\\sigma$ in our SDE.\n",
    "\n",
    "    Returns:\n",
    "    The vector of diffusion coefficients.\n",
    "    \"\"\"\n",
    "    # return torch.tensor(sigma**t, device=device)\n",
    "    return sigma**t\n",
    "\n",
    "\n",
    "# data set\n",
    "class MyDataset(Dataset):\n",
    "    def __init__(self, x_train):\n",
    "        super().__init__()\n",
    "        self.x_train = x_train\n",
    "\n",
    "    def __len__(self):\n",
    "        return self.x_train.shape[0]\n",
    "\n",
    "    def __getitem__(self, idx):\n",
    "        return self.x_train[idx]\n",
    "\n",
    "\n",
    "\n",
    "def train_model(score_model, x_sample, lr=1e-4, batch_size=1000, n_epochs=5000, print_interval=100):\n",
    "    dataset = MyDataset(x_sample)\n",
    "    data_loader = DataLoader(dataset, batch_size=batch_size, shuffle=True)\n",
    "\n",
    "    optimizer = Adam(score_model.parameters(), lr=lr)\n",
    "    train_loss = []\n",
    "\n",
    "\n",
    "    for epoch in range(n_epochs):\n",
    "        avg_loss = 0.\n",
    "        num_items = 0\n",
    "        for x in data_loader:\n",
    "            x = x.to(device)\n",
    "            loss = loss_fn(score_model, x, marginal_prob_std_fn)\n",
    "            optimizer.zero_grad()\n",
    "            loss.backward()\n",
    "            optimizer.step()\n",
    "            avg_loss += loss.item() * x.shape[0]\n",
    "            num_items += x.shape[0]\n",
    "        # Print the averaged training loss so far.\n",
    "        epoch_avg_loss = avg_loss / num_items\n",
    "        train_loss.append(epoch_avg_loss)\n",
    "        if epoch%print_interval==0:\n",
    "            print(f'epoch: {epoch}\\t loss: {epoch_avg_loss}')\n",
    "    return train_loss\n",
    "\n",
    "\n",
    "def Euler_Maruyama_sampler(score_prior, marginal_prob_std, diffusion_coeff, score_likelihood=None,\n",
    "                           batch_size=64,num_steps=500,device='cpu',eps=1e-3):\n",
    "    \"\"\"Generate samples from score-based models with the Euler-Maruyama solver.\n",
    "\n",
    "    Args:\n",
    "    score_model: A PyTorch model that represents the time-dependent score-based model.\n",
    "    marginal_prob_std: A function that gives the standard deviation of\n",
    "    the perturbation kernel.\n",
    "    diffusion_coeff: A function that gives the diffusion coefficient of the SDE.\n",
    "    batch_size: The number of samplers to generate by calling this function once.\n",
    "    num_steps: The number of sampling steps.\n",
    "    Equivalent to the number of discretized time steps.\n",
    "    device: 'cuda' for running on GPUs, and 'cpu' for running on CPUs.\n",
    "    eps: The smallest time step for numerical stability.\n",
    "\n",
    "    Returns:\n",
    "    Samples.\n",
    "    \"\"\"\n",
    "    t = torch.ones(batch_size, device=device)\n",
    "    init_x = torch.randn(batch_size, score_prior.x_dim, device=device) \\\n",
    "    * marginal_prob_std(t)[:, None]\n",
    "    time_steps = torch.linspace(1., eps, num_steps, device=device)\n",
    "    step_size = time_steps[0] - time_steps[1]\n",
    "    x = init_x\n",
    "    with torch.no_grad():\n",
    "        for time_step in tqdm.notebook.tqdm(time_steps):\n",
    "            batch_time_step = torch.ones(batch_size, device=device) * time_step\n",
    "            g = diffusion_coeff(batch_time_step)\n",
    "            if score_likelihood is None:\n",
    "                score = score_prior(x, batch_time_step)\n",
    "            else:\n",
    "                score = score_prior(x, batch_time_step) + score_likelihood(x)*torch.relu(1-2*time_step)\n",
    "\n",
    "            # score = torch.clip(score, min=-100, max=100)\n",
    "\n",
    "            score_norm = torch.sqrt(torch.mean(score**2, dim=1))\n",
    "            adj_ratio = torch.ones_like(score_norm)\n",
    "            tol = 10.\n",
    "            adj_ratio[score_norm>tol] = tol/score_norm[score_norm>tol]\n",
    "            # score_norm = torch.clip(score_norm, min=0, max=50)\n",
    "\n",
    "\n",
    "            score = score*adj_ratio[:,None]\n",
    "\n",
    "            # print(time_step, score)\n",
    "\n",
    "            mean_x = x + (g**2)[:, None] * score * step_size\n",
    "            x = mean_x + torch.sqrt(step_size) * g[:, None] * torch.randn_like(x)\n",
    "        # Do not include any noise in the last sampling step.\n",
    "    return mean_x\n"
   ],
   "metadata": {
    "collapsed": false,
    "pycharm": {
     "name": "#%%\n"
    }
   }
  },
  {
   "cell_type": "code",
   "execution_count": 7,
   "outputs": [],
   "source": [
    "# diffusion setup\n",
    "device = 'cuda' #@param ['cuda', 'cpu'] {'type':'string'}\n",
    "sigma =  25.0 #@param {'type':'number'}\n",
    "marginal_prob_std_fn = functools.partial(marginal_prob_std, sigma=sigma)\n",
    "diffusion_coeff_fn = functools.partial(diffusion_coeff, sigma=sigma)\n"
   ],
   "metadata": {
    "collapsed": false,
    "pycharm": {
     "name": "#%%\n"
    }
   }
  },
  {
   "cell_type": "code",
   "execution_count": 14,
   "outputs": [],
   "source": [
    "# define obs score\n",
    "def angle(x, obs_loc):\n",
    "    x1 = x[:, 0]\n",
    "    x2 = x[:, 1]\n",
    "    angle = torch.arctan((x2-obs_loc[1]) / (x1-obs_loc[0]))\n",
    "    return angle\n",
    "\n",
    "def angle_np(x, obs_loc):\n",
    "    x1 = x[:, 0]\n",
    "    x2 = x[:, 1]\n",
    "    angle = np.arctan((x2-obs_loc[1]) / (x1-obs_loc[0]))\n",
    "    return angle\n",
    "\n",
    "\n",
    "def angle_jac(x, obs_loc):\n",
    "    numer = x-obs_loc\n",
    "    numer = numer[:,[1,0]]\n",
    "    numer[:,0] = -numer[:, 0]\n",
    "    denom = torch.sum((x-obs_loc)**2, dim=1)\n",
    "\n",
    "    return numer/denom[:, None]\n",
    "\n",
    "def score_angle(x, theta, obs_loc, sigma_angle):\n",
    "    temp1 = -(angle(x, obs_loc) - theta)/sigma_angle**2\n",
    "    temp2 = angle_jac(x, obs_loc)\n",
    "    score = temp2*temp1[:, None]\n",
    "\n",
    "    # remove score near lob_loc\n",
    "    tol = 0.5\n",
    "    dist = torch.sqrt(torch.sum((x - obs_loc)**2, dim=1))\n",
    "    score[dist<tol,:] = 0\n",
    "\n",
    "    return score\n",
    "\n",
    "def score_radius2(x, radius2, obs_loc, sigma_r):\n",
    "    r2 = torch.sum((x - obs_loc)**2, dim=1)\n",
    "    temp1 = -(r2 - radius2)/sigma_r**2\n",
    "    temp2 = 2*(x - obs_loc)\n",
    "    score = temp2*temp1[:, None]\n",
    "    return score\n",
    "\n",
    "\n",
    "# def my_likelihood(x, theta, sigma_angle, radius2, sigma_r, obs_locs):\n",
    "#   theta1 = theta[0]\n",
    "#   theta2 = theta[1]\n",
    "#   obs_loc1, obs_loc2 = obs_locs\n",
    "#   l1 = likelihood(x, theta1, obs_loc1, sigma)\n",
    "#   l2 = likelihood(x, theta2, obs_loc2, sigma)\n",
    "#   return l1*l2\n",
    "\n",
    "def my_likelihood_score(x, theta, radius2, sigma_angle, sigma_r, obs_loc):\n",
    "  score_1 = score_angle(x, theta, obs_loc, sigma_angle)\n",
    "  score_2 = score_radius2(x, radius2, obs_loc, sigma_r)\n",
    "\n",
    "  return score_1 + score_2*0 # only use the angle information\n",
    "\n"
   ],
   "metadata": {
    "collapsed": false,
    "pycharm": {
     "name": "#%%\n"
    }
   }
  },
  {
   "cell_type": "markdown",
   "source": [
    "# filtering setup"
   ],
   "metadata": {
    "collapsed": false,
    "pycharm": {
     "name": "#%% md\n"
    }
   }
  },
  {
   "cell_type": "code",
   "execution_count": 15,
   "outputs": [
    {
     "data": {
      "text/plain": "<Figure size 432x288 with 1 Axes>",
      "image/png": "[encoded data removed]"
     },
     "metadata": {
      "needs_background": "light"
     },
     "output_type": "display_data"
    }
   ],
   "source": [
    "Time = 1\n",
    "dt = 0.05\n",
    "N_T = int(Time//dt+1)\n",
    "t_path = np.linspace(0, Time, N_T)\n",
    "X_initial = np.array([1, 1])\n",
    "X_0 = X_initial\n",
    "X_1 = np.zeros(2)\n",
    "X_path = np.zeros((N_T, 2))\n",
    "X_est = np.zeros((N_T, 2))\n",
    "sigma_SDE = 0.2\n",
    "num_dim=2\n",
    "\n",
    "torch.manual_seed(1234567)\n",
    "np.random.seed(1234567)\n",
    "\n",
    "#R = 0.1\n",
    "u1 = 4\n",
    "u2 = 6\n",
    "#obs_cov = R\n",
    "num_steps = 100\n",
    "\n",
    "obs_loc = np.array([-5,10])\n",
    "\n",
    "X_path[0] = X_initial.copy()\n",
    "#x_new = X_initial.copy()\n",
    "\n",
    "for i in range(N_T-1):\n",
    "    # Generate true state trajectory\n",
    "    x_old = X_path[i].copy()\n",
    "    x_new = np.zeros(2)\n",
    "\n",
    "    x_new[0] = x_old[0] + u1 * dt + sigma_SDE*np.random.randn(1) * np.sqrt(dt)\n",
    "    x_new[1] = x_old[1] + u2 * dt + sigma_SDE*np.random.randn(1) * np.sqrt(dt)\n",
    "\n",
    "    X_path[i+1] = x_new\n",
    "\n",
    "# plt.plot(*X_path.T, '.-',label='state')\n",
    "#  plt.plot(*X_initial,'*',label='init')\n",
    "#  plt.legend()\n",
    "#  plt.title('state')\n",
    "\n",
    "plt.plot(X_path[:,0], X_path[:,1],'.-')\n",
    "plt.plot(*obs_loc,'y.')\n",
    "plt.show()"
   ],
   "metadata": {
    "collapsed": false,
    "pycharm": {
     "name": "#%%\n"
    }
   }
  },
  {
   "cell_type": "code",
   "execution_count": 19,
   "outputs": [
    {
     "data": {
      "text/plain": "<Figure size 432x288 with 1 Axes>",
      "image/png": "[encoded data removed]"
     },
     "metadata": {
      "needs_background": "light"
     },
     "output_type": "display_data"
    }
   ],
   "source": [
    "# get observation\n",
    "sigma_obs_r = 0.1\n",
    "sigma_obs_angle = 0.01\n",
    "\n",
    "obs_angle = angle_np(X_path, obs_loc) # angle\n",
    "obs_r2 = np.sum((X_path-obs_loc)**2, axis=1) # radius\n",
    "\n",
    "obs1 = obs_angle + np.random.randn(N_T)*sigma_obs_angle\n",
    "obs2 = obs_r2 + np.random.randn(N_T)*sigma_obs_r\n",
    "obs_path = np.stack([obs1, obs2], axis = 1)\n",
    "\n",
    "\n",
    "\n",
    "plt.plot(obs_path[:,0])\n",
    "plt.title('angle observation')\n",
    "plt.show()\n",
    "\n",
    "# plt.plot(obs_path[:,1])\n",
    "# plt.show()"
   ],
   "metadata": {
    "collapsed": false,
    "pycharm": {
     "name": "#%%\n"
    }
   }
  },
  {
   "cell_type": "code",
   "execution_count": 34,
   "outputs": [],
   "source": [
    "# initial guess\n",
    "x0 = torch.tensor(X_initial, dtype=torch.float32, device=device)\n",
    "sigma0 = 0.5\n",
    "\n",
    "obs_loc_t = torch.tensor(obs_loc,dtype=torch.float32, device=device)"
   ],
   "metadata": {
    "collapsed": false,
    "pycharm": {
     "name": "#%%\n"
    }
   }
  },
  {
   "cell_type": "code",
   "execution_count": 35,
   "outputs": [
    {
     "name": "stdout",
     "output_type": "stream",
     "text": [
      "epoch: 0\t loss: 3.6076183319091797\n",
      "epoch: 100\t loss: 0.5719953775405884\n",
      "epoch: 200\t loss: 0.5161183476448059\n",
      "epoch: 300\t loss: 0.4296870231628418\n",
      "epoch: 400\t loss: 0.4307054281234741\n",
      "epoch: 500\t loss: 0.41820260882377625\n",
      "epoch: 600\t loss: 0.41859665513038635\n",
      "epoch: 700\t loss: 0.38471719622612\n",
      "epoch: 800\t loss: 0.41924795508384705\n",
      "epoch: 900\t loss: 0.43904992938041687\n"
     ]
    }
   ],
   "source": [
    "# Training initialize\n",
    "x_dim = num_dim\n",
    "hidden_depth  = 2\n",
    "embed_dim = 50\n",
    "use_bn = False\n",
    "\n",
    "score_prior_old = ScoreNet(marginal_prob_std=marginal_prob_std_fn, x_dim=x_dim,\n",
    "                           hidden_depth=hidden_depth, embed_dim=embed_dim, use_bn=use_bn)\n",
    "\n",
    "score_prior_new = ScoreNet(marginal_prob_std=marginal_prob_std_fn, x_dim=x_dim,\n",
    "                           hidden_depth=hidden_depth, embed_dim=embed_dim, use_bn=use_bn)\n",
    "\n",
    "score_prior_old = score_prior_old.to(device)\n",
    "score_prior_new = score_prior_new.to(device)\n",
    "\n",
    "# initial samples\n",
    "sample_size = 1000\n",
    "x_init = x0 + torch.randn(sample_size,num_dim, dtype=torch.float32, device=device)*sigma0\n",
    "train_loss = train_model(score_prior_old, x_sample=x_init, batch_size=sample_size, lr=0.01, n_epochs=1000, print_interval=100)\n",
    "\n",
    "likelihood_score_fn = None\n",
    "likelihood_score_adj = None\n",
    "score_prior_new = score_prior_old"
   ],
   "metadata": {
    "collapsed": false,
    "pycharm": {
     "name": "#%%\n"
    }
   }
  },
  {
   "cell_type": "code",
   "execution_count": 36,
   "outputs": [
    {
     "name": "stdout",
     "output_type": "stream",
     "text": [
      "0\n"
     ]
    },
    {
     "data": {
      "text/plain": "  0%|          | 0/500 [00:00<?, ?it/s]",
      "application/vnd.jupyter.widget-view+json": {
       "version_major": 2,
       "version_minor": 0,
       "model_id": "683170e5c35b4f93a4196360b55dc688"
      }
     },
     "metadata": {},
     "output_type": "display_data"
    },
    {
     "data": {
      "text/plain": "<Figure size 432x288 with 1 Axes>",
      "image/png": "[encoded data removed]"
     },
     "metadata": {
      "needs_background": "light"
     },
     "output_type": "display_data"
    },
    {
     "name": "stdout",
     "output_type": "stream",
     "text": [
      "est:  [1.1197814 1.0404669]\n",
      "state:  [1. 1.]\n",
      "epoch: 0\t loss: 0.5149840116500854\n",
      "epoch: 200\t loss: 0.41377732157707214\n",
      "epoch: 400\t loss: 0.41973862051963806\n",
      "epoch: 600\t loss: 0.4184325933456421\n",
      "1\n"
     ]
    },
    {
     "data": {
      "text/plain": "  0%|          | 0/500 [00:00<?, ?it/s]",
      "application/vnd.jupyter.widget-view+json": {
       "version_major": 2,
       "version_minor": 0,
       "model_id": "31ea0057744348c0a034c06c8ee0c699"
      }
     },
     "metadata": {},
     "output_type": "display_data"
    },
    {
     "data": {
      "text/plain": "<Figure size 432x288 with 1 Axes>",
      "image/png": "[encoded data removed]"
     },
     "metadata": {
      "needs_background": "light"
     },
     "output_type": "display_data"
    },
    {
     "name": "stdout",
     "output_type": "stream",
     "text": [
      "est:  [1.3119878 1.242086 ]\n",
      "state:  [1.17698528 1.27989531]\n",
      "epoch: 0\t loss: 0.33272573351860046\n",
      "epoch: 200\t loss: 0.2567597031593323\n",
      "epoch: 400\t loss: 0.2268425077199936\n",
      "epoch: 600\t loss: 0.20218750834465027\n",
      "2\n"
     ]
    },
    {
     "data": {
      "text/plain": "  0%|          | 0/500 [00:00<?, ?it/s]",
      "application/vnd.jupyter.widget-view+json": {
       "version_major": 2,
       "version_minor": 0,
       "model_id": "8e1513c292184939a6dcaf364d44f603"
      }
     },
     "metadata": {},
     "output_type": "display_data"
    },
    {
     "data": {
      "text/plain": "<Figure size 432x288 with 1 Axes>",
      "image/png": "[encoded data removed]"
     },
     "metadata": {
      "needs_background": "light"
     },
     "output_type": "display_data"
    },
    {
     "name": "stdout",
     "output_type": "stream",
     "text": [
      "est:  [1.5146598 1.5920752]\n",
      "state:  [1.45455991 1.60866815]\n",
      "epoch: 0\t loss: 0.45261430740356445\n",
      "epoch: 200\t loss: 0.15725183486938477\n",
      "epoch: 400\t loss: 0.154990091919899\n",
      "epoch: 600\t loss: 0.1624661386013031\n",
      "3\n"
     ]
    },
    {
     "data": {
      "text/plain": "  0%|          | 0/500 [00:00<?, ?it/s]",
      "application/vnd.jupyter.widget-view+json": {
       "version_major": 2,
       "version_minor": 0,
       "model_id": "8adbed31d63a47ee94ba1760f801bd40"
      }
     },
     "metadata": {},
     "output_type": "display_data"
    },
    {
     "data": {
      "text/plain": "<Figure size 432x288 with 1 Axes>",
      "image/png": "[encoded data removed]"
     },
     "metadata": {
      "needs_background": "light"
     },
     "output_type": "display_data"
    },
    {
     "name": "stdout",
     "output_type": "stream",
     "text": [
      "est:  [1.768035  1.8111392]\n",
      "state:  [1.6557289 1.9122629]\n",
      "epoch: 0\t loss: 0.3595868647098541\n",
      "epoch: 200\t loss: 0.13117998838424683\n",
      "epoch: 400\t loss: 0.10866298526525497\n",
      "epoch: 600\t loss: 0.10668535530567169\n",
      "4\n"
     ]
    },
    {
     "data": {
      "text/plain": "  0%|          | 0/500 [00:00<?, ?it/s]",
      "application/vnd.jupyter.widget-view+json": {
       "version_major": 2,
       "version_minor": 0,
       "model_id": "397572001a0a4b6286aa65d96dd98f15"
      }
     },
     "metadata": {},
     "output_type": "display_data"
    },
    {
     "data": {
      "text/plain": "<Figure size 432x288 with 1 Axes>",
      "image/png": "[encoded data removed]"
     },
     "metadata": {
      "needs_background": "light"
     },
     "output_type": "display_data"
    },
    {
     "name": "stdout",
     "output_type": "stream",
     "text": [
      "est:  [1.9985619 2.143354 ]\n",
      "state:  [1.82006858 2.18417402]\n",
      "epoch: 0\t loss: 0.48616689443588257\n",
      "epoch: 200\t loss: 0.06892010569572449\n",
      "epoch: 400\t loss: 0.07051537930965424\n",
      "epoch: 600\t loss: 0.08480562269687653\n",
      "5\n"
     ]
    },
    {
     "data": {
      "text/plain": "  0%|          | 0/500 [00:00<?, ?it/s]",
      "application/vnd.jupyter.widget-view+json": {
       "version_major": 2,
       "version_minor": 0,
       "model_id": "beadd074943c48b58de4c9da9c9934fe"
      }
     },
     "metadata": {},
     "output_type": "display_data"
    },
    {
     "data": {
      "text/plain": "<Figure size 432x288 with 1 Axes>",
      "image/png": "[encoded data removed]"
     },
     "metadata": {
      "needs_background": "light"
     },
     "output_type": "display_data"
    },
    {
     "name": "stdout",
     "output_type": "stream",
     "text": [
      "est:  [2.1663337 2.4722774]\n",
      "state:  [2.00458482 2.52746809]\n",
      "epoch: 0\t loss: 0.34348106384277344\n",
      "epoch: 200\t loss: 0.06092328205704689\n",
      "epoch: 400\t loss: 0.049401383846998215\n",
      "epoch: 600\t loss: 0.041651368141174316\n",
      "6\n"
     ]
    },
    {
     "data": {
      "text/plain": "  0%|          | 0/500 [00:00<?, ?it/s]",
      "application/vnd.jupyter.widget-view+json": {
       "version_major": 2,
       "version_minor": 0,
       "model_id": "f4280583993943de8fd1d4b6d212efb7"
      }
     },
     "metadata": {},
     "output_type": "display_data"
    },
    {
     "data": {
      "text/plain": "<Figure size 432x288 with 1 Axes>",
      "image/png": "[encoded data removed]"
     },
     "metadata": {
      "needs_background": "light"
     },
     "output_type": "display_data"
    },
    {
     "name": "stdout",
     "output_type": "stream",
     "text": [
      "est:  [2.3509474 2.7235522]\n",
      "state:  [2.23614099 2.73101768]\n",
      "epoch: 0\t loss: 0.25498947501182556\n",
      "epoch: 200\t loss: 0.039101485162973404\n",
      "epoch: 400\t loss: 0.04536307975649834\n",
      "epoch: 600\t loss: 0.03377074748277664\n",
      "7\n"
     ]
    },
    {
     "data": {
      "text/plain": "  0%|          | 0/500 [00:00<?, ?it/s]",
      "application/vnd.jupyter.widget-view+json": {
       "version_major": 2,
       "version_minor": 0,
       "model_id": "3f544191134e471ba80d1a5fba695e39"
      }
     },
     "metadata": {},
     "output_type": "display_data"
    },
    {
     "data": {
      "text/plain": "<Figure size 432x288 with 1 Axes>",
      "image/png": "[encoded data removed]"
     },
     "metadata": {
      "needs_background": "light"
     },
     "output_type": "display_data"
    },
    {
     "name": "stdout",
     "output_type": "stream",
     "text": [
      "est:  [2.5423915 3.0285714]\n",
      "state:  [2.47865309 3.0550862 ]\n",
      "epoch: 0\t loss: 0.3005230724811554\n",
      "epoch: 200\t loss: 0.04579702392220497\n",
      "epoch: 400\t loss: 0.03315439820289612\n",
      "epoch: 600\t loss: 0.03909451887011528\n",
      "8\n"
     ]
    },
    {
     "data": {
      "text/plain": "  0%|          | 0/500 [00:00<?, ?it/s]",
      "application/vnd.jupyter.widget-view+json": {
       "version_major": 2,
       "version_minor": 0,
       "model_id": "70d53f28e47b43509d2e0c181864970a"
      }
     },
     "metadata": {},
     "output_type": "display_data"
    },
    {
     "data": {
      "text/plain": "<Figure size 432x288 with 1 Axes>",
      "image/png": "[encoded data removed]"
     },
     "metadata": {
      "needs_background": "light"
     },
     "output_type": "display_data"
    },
    {
     "name": "stdout",
     "output_type": "stream",
     "text": [
      "est:  [2.7445757 3.3222473]\n",
      "state:  [2.65849301 3.37972017]\n",
      "epoch: 0\t loss: 0.28565147519111633\n",
      "epoch: 200\t loss: 0.038659028708934784\n",
      "epoch: 400\t loss: 0.043989915400743484\n",
      "epoch: 600\t loss: 0.04196237400174141\n",
      "9\n"
     ]
    },
    {
     "data": {
      "text/plain": "  0%|          | 0/500 [00:00<?, ?it/s]",
      "application/vnd.jupyter.widget-view+json": {
       "version_major": 2,
       "version_minor": 0,
       "model_id": "5a41523711454205971778cba0b2b676"
      }
     },
     "metadata": {},
     "output_type": "display_data"
    },
    {
     "data": {
      "text/plain": "<Figure size 432x288 with 1 Axes>",
      "image/png": "[encoded data removed]"
     },
     "metadata": {
      "needs_background": "light"
     },
     "output_type": "display_data"
    },
    {
     "name": "stdout",
     "output_type": "stream",
     "text": [
      "est:  [2.9439192 3.6259494]\n",
      "state:  [2.8245243  3.73444838]\n",
      "epoch: 0\t loss: 0.39090314507484436\n",
      "epoch: 200\t loss: 0.033574849367141724\n",
      "epoch: 400\t loss: 0.036939479410648346\n",
      "epoch: 600\t loss: 0.0427623987197876\n",
      "10\n"
     ]
    },
    {
     "data": {
      "text/plain": "  0%|          | 0/500 [00:00<?, ?it/s]",
      "application/vnd.jupyter.widget-view+json": {
       "version_major": 2,
       "version_minor": 0,
       "model_id": "d7fce5119dc547e085f3030869d9bcbe"
      }
     },
     "metadata": {},
     "output_type": "display_data"
    },
    {
     "data": {
      "text/plain": "<Figure size 432x288 with 1 Axes>",
      "image/png": "[encoded data removed]"
     },
     "metadata": {
      "needs_background": "light"
     },
     "output_type": "display_data"
    },
    {
     "name": "stdout",
     "output_type": "stream",
     "text": [
      "est:  [3.1286783 3.9038556]\n",
      "state:  [3.0173769  3.96934094]\n",
      "epoch: 0\t loss: 0.27009472250938416\n",
      "epoch: 200\t loss: 0.0373721644282341\n",
      "epoch: 400\t loss: 0.05223521590232849\n",
      "epoch: 600\t loss: 0.04667961969971657\n",
      "11\n"
     ]
    },
    {
     "data": {
      "text/plain": "  0%|          | 0/500 [00:00<?, ?it/s]",
      "application/vnd.jupyter.widget-view+json": {
       "version_major": 2,
       "version_minor": 0,
       "model_id": "698a4a7952e24d8ca1a3268b9eca65f0"
      }
     },
     "metadata": {},
     "output_type": "display_data"
    },
    {
     "data": {
      "text/plain": "<Figure size 432x288 with 1 Axes>",
      "image/png": "[encoded data removed]"
     },
     "metadata": {
      "needs_background": "light"
     },
     "output_type": "display_data"
    },
    {
     "name": "stdout",
     "output_type": "stream",
     "text": [
      "est:  [3.28796  4.150158]\n",
      "state:  [3.27142372 4.1923519 ]\n",
      "epoch: 0\t loss: 0.263526976108551\n",
      "epoch: 200\t loss: 0.036883193999528885\n",
      "epoch: 400\t loss: 0.05105471611022949\n",
      "epoch: 600\t loss: 0.052944399416446686\n",
      "12\n"
     ]
    },
    {
     "data": {
      "text/plain": "  0%|          | 0/500 [00:00<?, ?it/s]",
      "application/vnd.jupyter.widget-view+json": {
       "version_major": 2,
       "version_minor": 0,
       "model_id": "80914e05dce84857a9a6df9886b7398f"
      }
     },
     "metadata": {},
     "output_type": "display_data"
    },
    {
     "data": {
      "text/plain": "<Figure size 432x288 with 1 Axes>",
      "image/png": "[encoded data removed]"
     },
     "metadata": {
      "needs_background": "light"
     },
     "output_type": "display_data"
    },
    {
     "name": "stdout",
     "output_type": "stream",
     "text": [
      "est:  [3.4780772 4.4351916]\n",
      "state:  [3.47116002 4.53127264]\n",
      "epoch: 0\t loss: 0.31229639053344727\n",
      "epoch: 200\t loss: 0.03803982213139534\n",
      "epoch: 400\t loss: 0.043729037046432495\n",
      "epoch: 600\t loss: 0.04308738932013512\n",
      "13\n"
     ]
    },
    {
     "data": {
      "text/plain": "  0%|          | 0/500 [00:00<?, ?it/s]",
      "application/vnd.jupyter.widget-view+json": {
       "version_major": 2,
       "version_minor": 0,
       "model_id": "8d93a72c80f542f7bfc40cc3bd6d6355"
      }
     },
     "metadata": {},
     "output_type": "display_data"
    },
    {
     "data": {
      "text/plain": "<Figure size 432x288 with 1 Axes>",
      "image/png": "[encoded data removed]"
     },
     "metadata": {
      "needs_background": "light"
     },
     "output_type": "display_data"
    },
    {
     "name": "stdout",
     "output_type": "stream",
     "text": [
      "est:  [3.703529  4.7535086]\n",
      "state:  [3.61456308 4.76844678]\n",
      "epoch: 0\t loss: 0.570848822593689\n",
      "epoch: 200\t loss: 0.042615022510290146\n",
      "epoch: 400\t loss: 0.03807288408279419\n",
      "epoch: 600\t loss: 0.035991962999105453\n",
      "14\n"
     ]
    },
    {
     "data": {
      "text/plain": "  0%|          | 0/500 [00:00<?, ?it/s]",
      "application/vnd.jupyter.widget-view+json": {
       "version_major": 2,
       "version_minor": 0,
       "model_id": "364910b8c6234a208cacdbb07eecfb22"
      }
     },
     "metadata": {},
     "output_type": "display_data"
    },
    {
     "data": {
      "text/plain": "<Figure size 432x288 with 1 Axes>",
      "image/png": "[encoded data removed]"
     },
     "metadata": {
      "needs_background": "light"
     },
     "output_type": "display_data"
    },
    {
     "name": "stdout",
     "output_type": "stream",
     "text": [
      "est:  [3.899281  5.0502863]\n",
      "state:  [3.80116745 5.11149938]\n",
      "epoch: 0\t loss: 0.35849565267562866\n",
      "epoch: 200\t loss: 0.040415048599243164\n",
      "epoch: 400\t loss: 0.047123342752456665\n",
      "epoch: 600\t loss: 0.03657212853431702\n",
      "15\n"
     ]
    },
    {
     "data": {
      "text/plain": "  0%|          | 0/500 [00:00<?, ?it/s]",
      "application/vnd.jupyter.widget-view+json": {
       "version_major": 2,
       "version_minor": 0,
       "model_id": "106781fd6dfe41f881ed950491b51913"
      }
     },
     "metadata": {},
     "output_type": "display_data"
    },
    {
     "data": {
      "text/plain": "<Figure size 432x288 with 1 Axes>",
      "image/png": "[encoded data removed]"
     },
     "metadata": {
      "needs_background": "light"
     },
     "output_type": "display_data"
    },
    {
     "name": "stdout",
     "output_type": "stream",
     "text": [
      "est:  [4.1348524 5.399629 ]\n",
      "state:  [4.00663525 5.47421166]\n",
      "epoch: 0\t loss: 0.4431762397289276\n",
      "epoch: 200\t loss: 0.04674992710351944\n",
      "epoch: 400\t loss: 0.03879544883966446\n",
      "epoch: 600\t loss: 0.0456591360270977\n",
      "16\n"
     ]
    },
    {
     "data": {
      "text/plain": "  0%|          | 0/500 [00:00<?, ?it/s]",
      "application/vnd.jupyter.widget-view+json": {
       "version_major": 2,
       "version_minor": 0,
       "model_id": "15078bbfcde34814874c302f1aac571f"
      }
     },
     "metadata": {},
     "output_type": "display_data"
    },
    {
     "data": {
      "text/plain": "<Figure size 432x288 with 1 Axes>",
      "image/png": "[encoded data removed]"
     },
     "metadata": {
      "needs_background": "light"
     },
     "output_type": "display_data"
    },
    {
     "name": "stdout",
     "output_type": "stream",
     "text": [
      "est:  [4.345426  5.7011213]\n",
      "state:  [4.18445014 5.74587967]\n",
      "epoch: 0\t loss: 0.33701181411743164\n",
      "epoch: 200\t loss: 0.04694424569606781\n",
      "epoch: 400\t loss: 0.044114790856838226\n",
      "epoch: 600\t loss: 0.05664306506514549\n",
      "17\n"
     ]
    },
    {
     "data": {
      "text/plain": "  0%|          | 0/500 [00:00<?, ?it/s]",
      "application/vnd.jupyter.widget-view+json": {
       "version_major": 2,
       "version_minor": 0,
       "model_id": "458798fd0d8f4293ba8b2ee9624fef00"
      }
     },
     "metadata": {},
     "output_type": "display_data"
    },
    {
     "data": {
      "text/plain": "<Figure size 432x288 with 1 Axes>",
      "image/png": "[encoded data removed]"
     },
     "metadata": {
      "needs_background": "light"
     },
     "output_type": "display_data"
    },
    {
     "name": "stdout",
     "output_type": "stream",
     "text": [
      "est:  [4.5620456 6.013437 ]\n",
      "state:  [4.40080866 6.01208084]\n",
      "epoch: 0\t loss: 0.4248988926410675\n",
      "epoch: 200\t loss: 0.0452410988509655\n",
      "epoch: 400\t loss: 0.04706637188792229\n",
      "epoch: 600\t loss: 0.05100365728139877\n",
      "18\n"
     ]
    },
    {
     "data": {
      "text/plain": "  0%|          | 0/500 [00:00<?, ?it/s]",
      "application/vnd.jupyter.widget-view+json": {
       "version_major": 2,
       "version_minor": 0,
       "model_id": "d89c0341017248d8ae3554947c214117"
      }
     },
     "metadata": {},
     "output_type": "display_data"
    },
    {
     "data": {
      "text/plain": "<Figure size 432x288 with 1 Axes>",
      "image/png": "[encoded data removed]"
     },
     "metadata": {
      "needs_background": "light"
     },
     "output_type": "display_data"
    },
    {
     "name": "stdout",
     "output_type": "stream",
     "text": [
      "est:  [4.765337  6.2945085]\n",
      "state:  [4.58201302 6.25096009]\n",
      "epoch: 0\t loss: 0.33316749334335327\n",
      "epoch: 200\t loss: 0.03984798491001129\n",
      "epoch: 400\t loss: 0.052885960787534714\n",
      "epoch: 600\t loss: 0.041123416274785995\n"
     ]
    },
    {
     "data": {
      "text/plain": "  0%|          | 0/500 [00:00<?, ?it/s]",
      "application/vnd.jupyter.widget-view+json": {
       "version_major": 2,
       "version_minor": 0,
       "model_id": "979eb89055df43b4a21a2519ffaaa688"
      }
     },
     "metadata": {},
     "output_type": "display_data"
    }
   ],
   "source": [
    "est_all = []\n",
    "x_prior = x_init.clone()\n",
    "for i in range(N_T-1):\n",
    "    print(i)\n",
    "    \n",
    "    score_prior_old = score_prior_new\n",
    "    score_prior_new = copy.deepcopy(score_prior_new)\n",
    "    \n",
    "    # sample initial distribution\n",
    "    x_init = Euler_Maruyama_sampler(score_prior_old,marginal_prob_std_fn, diffusion_coeff_fn,score_likelihood=likelihood_score_adj,\n",
    "                                   batch_size=sample_size,num_steps=500,device=device)\n",
    "\n",
    "    est_all.append(torch.mean(x_init, dim=0).cpu().numpy())\n",
    "\n",
    "    \n",
    "    x_prior[:,0] = x_init[:,0] + u1*dt + torch.randn(sample_size,device=device) * np.sqrt(dt) * sigma_SDE\n",
    "    x_prior[:,1] = x_init[:,1] + u2*dt + torch.randn(sample_size,device=device) * np.sqrt(dt) * sigma_SDE\n",
    "      \n",
    "#     # solve for forward SDE (prediction)\n",
    "#     x_prior = x_init + dt*torch.tensor([u, 2*u], dtype=torch.float32, device=device) + np.sqrt(dt)*sigma_SDE*torch.randn_like(x_init)\n",
    "\n",
    "    plt.plot(*x_prior.cpu().T,'y.',alpha=0.1,label='prior')\n",
    "    plt.plot(*x_init.cpu().T,'r.',alpha=0.1,label='initial')\n",
    "    plt.plot(*X_path[i],'*')\n",
    "    plt.plot(*obs_loc,'y.')\n",
    "    plt.title(f'step{i}')\n",
    "    plt.show()\n",
    "\n",
    "    \n",
    "    print('est: ',est_all[i])\n",
    "    print('state: ',X_path[i])\n",
    "\n",
    "    # train model for prior distribution\n",
    "    train_loss = train_model(score_prior_new, x_sample=x_prior,\n",
    "                             batch_size=sample_size,lr=0.01, n_epochs=800, print_interval=200)\n",
    "\n",
    "    # new observation\n",
    "    #obs_current = torch.from_numpy(obs_path[i+1,:]).float().to(device)\n",
    "    temp_theta,temp_r2 = obs_path[i+1,:]\n",
    "    # update likelihood function\n",
    "\n",
    "    likelihood_score_fn = functools.partial(my_likelihood_score, theta=temp_theta, radius2=temp_r2,\n",
    "                                            sigma_angle=sigma_obs_angle, sigma_r=sigma_obs_r, obs_loc=obs_loc_t)\n",
    "\n",
    "\n",
    "    # Gaussian regularization\n",
    "    prior_mean = torch.mean(x_prior, dim=0)\n",
    "    prior_std = torch.std(x_prior, dim=0)\n",
    "    def reg_gaussian(x, mu, sigma):\n",
    "        score_gaussian = -(x-mu)/sigma**2\n",
    "        score_gaussian_sign = torch.sign(score_gaussian)\n",
    "        score_gaussian_abs = torch.abs(score_gaussian)\n",
    "        tol = 4\n",
    "        score_gaussian_abs = torch.relu(score_gaussian_abs - tol)\n",
    "        return score_gaussian_sign*score_gaussian_abs\n",
    "    reg_score_fn = functools.partial(reg_gaussian, mu=prior_mean, sigma=prior_std)\n",
    "\n",
    "    def likelihood_score_adj(x,l=likelihood_score_fn,reg=reg_score_fn):\n",
    "        return l(x) + reg(x)\n",
    "    # next iteration\n",
    "\n",
    "# last estimation\n",
    "# sample initial distribution\n",
    "x_init = Euler_Maruyama_sampler(score_prior_old,marginal_prob_std_fn, diffusion_coeff_fn,score_likelihood=likelihood_score_adj,\n",
    "                               batch_size=sample_size,num_steps=500,device=device)\n",
    "est_all.append(torch.mean(x_init, dim=0).cpu().numpy())\n",
    "\n",
    "est_all = np.array(est_all)\n",
    "\n"
   ],
   "metadata": {
    "collapsed": false,
    "pycharm": {
     "name": "#%%\n"
    }
   }
  },
  {
   "cell_type": "code",
   "execution_count": 37,
   "outputs": [
    {
     "data": {
      "text/plain": "<Figure size 432x288 with 1 Axes>",
      "image/png": "[encoded data removed]"
     },
     "metadata": {
      "needs_background": "light"
     },
     "output_type": "display_data"
    }
   ],
   "source": [
    "plt.plot(*X_path.T,'.-',label='state')\n",
    "plt.plot(*est_all.T,'.-',label ='estimation')\n",
    "plt.legend()\n",
    "plt.show()"
   ],
   "metadata": {
    "collapsed": false,
    "pycharm": {
     "name": "#%%\n"
    }
   }
  },
  {
   "cell_type": "code",
   "execution_count": null,
   "outputs": [],
   "source": [
    "np.savetxt('Est_all.txt', est_all)\n",
    "np.savetxt('X_path.txt', X_path)\n",
    "np.savetxt('obs_path.txt', obs_path)"
   ],
   "metadata": {
    "collapsed": false,
    "pycharm": {
     "name": "#%%\n"
    }
   }
  }
 ],
 "metadata": {
  "kernelspec": {
   "display_name": "Python 3 (ipykernel)",
   "language": "python",
   "name": "python3"
  },
  "language_info": {
   "codemirror_mode": {
    "name": "ipython",
    "version": 3
   },
   "file_extension": ".py",
   "mimetype": "text/x-python",
   "name": "python",
   "nbconvert_exporter": "python",
   "pygments_lexer": "ipython3",
   "version": "3.9.12"
  }
 },
 "nbformat": 4,
 "nbformat_minor": 1
}